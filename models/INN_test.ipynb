{
 "cells": [
  {
   "cell_type": "code",
   "execution_count": 7,
   "source": [
    "import pickle\r\n",
    "from tqdm.auto import tqdm\r\n",
    "import numpy as np\r\n",
    "\r\n",
    "from sklearn.preprocessing import StandardScaler\r\n",
    "\r\n",
    "import torch\r\n",
    "import torch.nn.functional as F\r\n",
    "from torch.optim import Adam\r\n",
    "\r\n",
    "import matplotlib.pyplot as plt\r\n",
    "\r\n",
    "import INN"
   ],
   "outputs": [],
   "metadata": {}
  },
  {
   "cell_type": "code",
   "execution_count": 2,
   "source": [
    "device = 'cuda' if torch.cuda.is_available() else 'cpu'\r\n",
    "print(f'Using device: {device}')\r\n",
    "batch_size = 64\r\n",
    "n_epochs = 10"
   ],
   "outputs": [
    {
     "output_type": "stream",
     "name": "stdout",
     "text": [
      "Using device: cpu\n"
     ]
    }
   ],
   "metadata": {}
  },
  {
   "cell_type": "code",
   "execution_count": 3,
   "source": [
    "with open('../data/data_train.pt', 'rb') as file:\r\n",
    "    X_train, y_train = pickle.load(file)\r\n",
    "\r\n",
    "print(f'{X_train.shape = }')\r\n",
    "print(f'{y_train.shape = }')\r\n",
    "\r\n",
    "with open('../data/data_test.pt', 'rb') as file:\r\n",
    "    X_test, y_test = pickle.load(file)\r\n",
    "\r\n",
    "print(f'{X_test.shape = }')\r\n",
    "print(f'{y_test.shape = }')\r\n",
    "\r\n",
    "sc_X_train = StandardScaler()\r\n",
    "X_train_scaled = torch.Tensor(sc_X_train.fit_transform(X_train))\r\n",
    "X_test_scaled = torch.Tensor(sc_X_train.transform(X_test))\r\n",
    "\r\n",
    "y_train = torch.Tensor(y_train)\r\n",
    "y_test = torch.Tensor(y_test)"
   ],
   "outputs": [
    {
     "output_type": "stream",
     "name": "stdout",
     "text": [
      "X_train.shape = (2521156, 28)\n",
      "y_train.shape = (2521156, 2)\n",
      "X_test.shape = (630290, 28)\n",
      "y_test.shape = (630290, 2)\n"
     ]
    }
   ],
   "metadata": {}
  },
  {
   "cell_type": "code",
   "execution_count": 4,
   "source": [
    "inn = INN.INN(X_train.shape[1], y_train.shape[1], 1)"
   ],
   "outputs": [],
   "metadata": {}
  },
  {
   "cell_type": "code",
   "execution_count": 12,
   "source": [
    "optimizer = Adam(inn.parameters(), lr=1e-3)\r\n",
    "\r\n",
    "loss_history = []\r\n",
    "\r\n",
    "for i_epoch in range(n_epochs):\r\n",
    "\r\n",
    "    inn.train()\r\n",
    "\r\n",
    "    for i in tqdm(range(int(np.ceil(len(X_train_scaled) / batch_size)))):\r\n",
    "        X = X_train_scaled[i * batch_size: (i+1) * batch_size].to(device)\r\n",
    "        y = y_train[i * batch_size: (i+1) * batch_size].to(device)\r\n",
    "\r\n",
    "        optimizer.zero_grad()\r\n",
    "        loss = 0\r\n",
    "        \r\n",
    "        # --- FORWARD ---\r\n",
    "        y_pred, z_pred = inn.forward(X)\r\n",
    "        y_pred = torch.sigmoid(y_pred)\r\n",
    "\r\n",
    "        # y loss\r\n",
    "        loss += F.binary_cross_entropy(y_pred, y)\r\n",
    "        # z loss\r\n",
    "        loss += torch.sum(z_pred**2) / 2\r\n",
    "        \r\n",
    "\r\n",
    "        # --- INVERSE ---\r\n",
    "        X_pred = inn.inverse(y_pred, z_pred)\r\n",
    "\r\n",
    "        # x loss\r\n",
    "        loss += torch.sum(inn.logdet_sum)\r\n",
    "        print(torch.sum(inn.logdet_sum))\r\n",
    "\r\n",
    "        if torch.isnan(loss): break\r\n",
    "\r\n",
    "        loss.backward()\r\n",
    "        optimizer.step()\r\n",
    "\r\n",
    "        loss_history.append(loss)"
   ],
   "outputs": [
    {
     "output_type": "stream",
     "name": "stderr",
     "text": [
      "  0%|          | 0/39394 [00:00<?, ?it/s]\n",
      "  0%|          | 0/39394 [00:00<?, ?it/s]\n",
      "  0%|          | 0/39394 [00:00<?, ?it/s]\n",
      "  0%|          | 0/39394 [00:00<?, ?it/s]\n",
      "  0%|          | 0/39394 [00:00<?, ?it/s]\n",
      "  0%|          | 0/39394 [00:00<?, ?it/s]\n",
      "  0%|          | 0/39394 [00:00<?, ?it/s]\n",
      "  0%|          | 0/39394 [00:00<?, ?it/s]\n",
      "  0%|          | 0/39394 [00:00<?, ?it/s]\n",
      "  0%|          | 0/39394 [00:00<?, ?it/s]"
     ]
    },
    {
     "output_type": "stream",
     "name": "stdout",
     "text": [
      "tensor(0.1053, grad_fn=<BinaryCrossEntropyBackward>)\n",
      "tensor(502.0938, grad_fn=<DivBackward0>)\n",
      "tensor(nan, grad_fn=<SumBackward0>)\n",
      "tensor(0.1053, grad_fn=<BinaryCrossEntropyBackward>)\n",
      "tensor(502.0938, grad_fn=<DivBackward0>)\n",
      "tensor(nan, grad_fn=<SumBackward0>)\n",
      "tensor(0.1053, grad_fn=<BinaryCrossEntropyBackward>)\n",
      "tensor(502.0938, grad_fn=<DivBackward0>)\n",
      "tensor(nan, grad_fn=<SumBackward0>)\n",
      "tensor(0.1053, grad_fn=<BinaryCrossEntropyBackward>)\n",
      "tensor(502.0938, grad_fn=<DivBackward0>)\n",
      "tensor(nan, grad_fn=<SumBackward0>)\n",
      "tensor(0.1053, grad_fn=<BinaryCrossEntropyBackward>)\n",
      "tensor(502.0938, grad_fn=<DivBackward0>)\n",
      "tensor(nan, grad_fn=<SumBackward0>)\n",
      "tensor(0.1053, grad_fn=<BinaryCrossEntropyBackward>)\n",
      "tensor(502.0938, grad_fn=<DivBackward0>)\n",
      "tensor(nan, grad_fn=<SumBackward0>)\n",
      "tensor(0.1053, grad_fn=<BinaryCrossEntropyBackward>)\n",
      "tensor(502.0938, grad_fn=<DivBackward0>)\n",
      "tensor(nan, grad_fn=<SumBackward0>)\n",
      "tensor(0.1053, grad_fn=<BinaryCrossEntropyBackward>)\n",
      "tensor(502.0938, grad_fn=<DivBackward0>)\n",
      "tensor(nan, grad_fn=<SumBackward0>)\n",
      "tensor(0.1053, grad_fn=<BinaryCrossEntropyBackward>)\n",
      "tensor(502.0938, grad_fn=<DivBackward0>)\n",
      "tensor(nan, grad_fn=<SumBackward0>)\n",
      "tensor(0.1053, grad_fn=<BinaryCrossEntropyBackward>)\n",
      "tensor(502.0938, grad_fn=<DivBackward0>)\n",
      "tensor(nan, grad_fn=<SumBackward0>)\n"
     ]
    },
    {
     "output_type": "stream",
     "name": "stderr",
     "text": [
      "\n"
     ]
    }
   ],
   "metadata": {}
  }
 ],
 "metadata": {
  "orig_nbformat": 4,
  "language_info": {
   "name": "python",
   "version": "3.9.5",
   "mimetype": "text/x-python",
   "codemirror_mode": {
    "name": "ipython",
    "version": 3
   },
   "pygments_lexer": "ipython3",
   "nbconvert_exporter": "python",
   "file_extension": ".py"
  },
  "kernelspec": {
   "name": "python3",
   "display_name": "Python 3.9.5 64-bit"
  },
  "interpreter": {
   "hash": "68764fea58fce3debd0ec160882a0d43aa3f505a880da5fb9e1c918b12b71a7c"
  }
 },
 "nbformat": 4,
 "nbformat_minor": 2
}