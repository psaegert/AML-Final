{
 "cells": [
  {
   "cell_type": "code",
   "execution_count": 1,
   "source": [
    "import os\n",
    "\n",
    "import numpy as np\n",
    "import pickle\n",
    "import time\n",
    "\n",
    "from tqdm.auto import tqdm\n",
    "\n",
    "from sklearn.ensemble import RandomForestClassifier\n",
    "\n",
    "from sklearn.preprocessing import StandardScaler\n",
    "from sklearn.model_selection import KFold\n",
    "from sklearn.metrics import log_loss, brier_score_loss, accuracy_score, confusion_matrix\n",
    "\n",
    "import GPy\n",
    "import optunity as opt\n",
    "import sobol as sb\n",
    "\n",
    "import scipy.stats as stats\n",
    "\n",
    "import matplotlib.pyplot as plt"
   ],
   "outputs": [],
   "metadata": {}
  },
  {
   "cell_type": "code",
   "execution_count": 2,
   "source": [
    "retrain = True"
   ],
   "outputs": [],
   "metadata": {}
  },
  {
   "cell_type": "markdown",
   "source": [
    "# Data"
   ],
   "metadata": {}
  },
  {
   "cell_type": "code",
   "execution_count": 3,
   "source": [
    "with open('../data/data_train.pt', 'rb') as file:\n",
    "    X_train, y_train = pickle.load(file)\n",
    "\n",
    "print(f'{X_train.shape = }')\n",
    "print(f'{y_train.shape = }')"
   ],
   "outputs": [
    {
     "output_type": "stream",
     "name": "stdout",
     "text": [
      "X_train.shape = (2488918, 33)\n",
      "y_train.shape = (2488918, 2)\n"
     ]
    }
   ],
   "metadata": {}
  },
  {
   "cell_type": "markdown",
   "source": [
    "# Parameter Optimization"
   ],
   "metadata": {}
  },
  {
   "cell_type": "code",
   "execution_count": 5,
   "source": [
    "RandomForestClassifier_parameters = {\n",
    "    'n_jobs': 8,                # use 8 cores\n",
    "    'random_state': 20210927    # with the same random state\n",
    "}"
   ],
   "outputs": [],
   "metadata": {}
  },
  {
   "cell_type": "code",
   "execution_count": 6,
   "source": [
    "hyperparameter_search_space_boundaries = {\n",
    "    'n_estimators': [1, 100],\n",
    "}"
   ],
   "outputs": [],
   "metadata": {}
  },
  {
   "cell_type": "markdown",
   "source": [
    "## Cross-Validation: Helper Functions"
   ],
   "metadata": {}
  },
  {
   "cell_type": "code",
   "execution_count": null,
   "source": [
    "def scale_hyperparameters(hyperparameters):\n",
    "    return np.array([h * (boundaries[1] - boundaries[0]) + boundaries[0] for h, boundaries in zip(hyperparameters, hyperparameter_search_space_boundaries.values())])"
   ],
   "outputs": [],
   "metadata": {}
  },
  {
   "cell_type": "code",
   "execution_count": 7,
   "source": [
    "def get_mean_CV_Score(score_function, hyperparameters, y_label):\n",
    "    assert y_label in ['hosp', 'death']\n",
    "    y_index = 0 if y_label == 'hosp' else 1\n",
    "\n",
    "    n_estimators, = hyperparameters\n",
    "\n",
    "    kf = KFold(n_splits=5, shuffle=True, random_state=20210927)\n",
    "\n",
    "    log_loss_list = np.empty(5, dtype=np.float64)\n",
    "\n",
    "    for split_index, (fit_index, val_index) in enumerate(kf.split(X_train)):\n",
    "        # create splits\n",
    "        X_fit, X_val = X_train[fit_index], X_train[val_index]\n",
    "        y_fit, y_val = y_train[fit_index], y_train[val_index]\n",
    "\n",
    "        # scale features\n",
    "        sc_X_fit = StandardScaler()\n",
    "        X_fit_scaled = sc_X_fit.fit_transform(X_fit)\n",
    "        X_val_scaled = sc_X_fit.transform(X_val)\n",
    "\n",
    "        # create classifier\n",
    "        rfc = RandomForestClassifier(**RandomForestClassifier_parameters, n_estimators=n_estimators)\n",
    "\n",
    "        # fit\n",
    "        rfc.fit(X_fit_scaled, y_fit[:, y_index])\n",
    "\n",
    "        # evaluate\n",
    "        y_pred_proba = rfc.predict_proba(X_val_scaled)\n",
    "        log_loss_list[split_index] = score_function(y_val[:, y_index], y_pred_proba[:, 1])\n",
    "\n",
    "    # also penalize n_estimators\n",
    "    return np.mean(log_loss_list) + 1e-5 * np.array(n_estimators)**2"
   ],
   "outputs": [],
   "metadata": {}
  },
  {
   "cell_type": "code",
   "execution_count": null,
   "source": [
    "def expected_improvement(n_blocks, n_coupling_network_hidden_layers, n_coupling_network_hidden_nodes, gp):\n",
    "    # compute E(q) and Var(q)\n",
    "    E_pred, Var_pred = gp.predict_noiseless(np.array([[n_blocks, n_coupling_network_hidden_layers, n_coupling_network_hidden_nodes]]))\n",
    "\n",
    "    # compute gamma with the STD(q)\n",
    "    γ = (E_best - E_pred) / np.sqrt(Var_pred)\n",
    "\n",
    "    # return Expected Improvement\n",
    "    return (np.sqrt(Var_pred) * (γ * stats.norm.cdf(γ) + stats.norm.pdf(γ)))[0]"
   ],
   "outputs": [],
   "metadata": {}
  },
  {
   "cell_type": "code",
   "execution_count": null,
   "source": [
    "def initialize_GP(n_samples, progress=0):\n",
    "    Q_init = np.empty((n_samples, len(hyperparameter_search_space_boundaries)))\n",
    "    E_init = np.empty((n_samples, 1))\n",
    "\n",
    "    # initialize with sobol sequence between 0 and 1\n",
    "    for i in range(n_samples):\n",
    "        for j, boundaries in enumerate(hyperparameter_search_space_boundaries.values()):\n",
    "            Q_init[i, j] = sb.i4_sobol(len(hyperparameter_search_space_boundaries), i)[0][j]\n",
    "\n",
    "    # compute scores for the initial hyperparameters\n",
    "    for i, hyperparameters in enumerate(Q_init):\n",
    "\n",
    "        # skip the ones that have already been computed\n",
    "        if progress > i:\n",
    "            continue\n",
    "\n",
    "        # scale hyperparameters according to their bounds and convert them to integers\n",
    "        hyperparameters_scaled = scale_hyperparameters(hyperparameters).round().astype(int)\n",
    "\n",
    "        # print the status\n",
    "        hyperparameters_dict = {key: hyperparameters_scaled[i] for i, key in enumerate(hyperparameter_search_space_boundaries.keys())}\n",
    "        print(f'{i+1}/{len(Q_init)}: {hyperparameters_dict}')\n",
    "        time.sleep(0.35)\n",
    "        \n",
    "        # compute cv score\n",
    "        E_init[i, :] = get_mean_CV_Score(log_loss, hyperparameters_scaled)\n",
    "        print(f'score: {E_init[i, :]}')\n",
    "        progress += 1\n",
    "\n",
    "        # save checkpoint\n",
    "        print('Storing Checkpoint...')\n",
    "        with open(f'../../hyperparameter_results/RF.pt', 'wb') as file:\n",
    "            pickle.dump((Q_init, E_init), file)\n",
    "        with open(f'../../hyperparameter_results/RF_progress.pt', 'wb') as file:\n",
    "            pickle.dump(progress, file)\n",
    "        print('Stored Checkpoint...')\n",
    "\n",
    "    return Q_init, E_init"
   ],
   "outputs": [],
   "metadata": {}
  },
  {
   "cell_type": "markdown",
   "source": [
    "## Run Optimization"
   ],
   "metadata": {}
  },
  {
   "cell_type": "code",
   "execution_count": null,
   "source": [
    "initial_n_samples = 8\n",
    "additional_n_samples = 24"
   ],
   "outputs": [],
   "metadata": {}
  },
  {
   "cell_type": "code",
   "execution_count": 8,
   "source": [
    "GP, Q, E = {}, {}, {}\n",
    "for y_label in ['hosp', 'death']:\n",
    "    if retrain:\n",
    "\n",
    "        # load checkpoint if possible\n",
    "        if os.path.isfile('../../hyperparameter_results/RF.pt') and os.path.isfile('../../hyperparameter_results/RF_progress.pt'):\n",
    "            print('Loading Checkpoint...')\n",
    "            with open('../../hyperparameter_results/RF.pt', 'rb') as file:\n",
    "                Q[y_label], E[y_label] = pickle.load(file)\n",
    "            with open('../../hyperparameter_results/RF_progress.pt', 'rb') as file:\n",
    "                progress = pickle.load(file)\n",
    "            print('Loaded Checkpoint')\n",
    "        else:\n",
    "            progress = 0\n",
    "\n",
    "        # if not all initial hyperparameters have been tested, continue testing them\n",
    "        if progress < initial_n_samples:\n",
    "            print(f\"Initializing GP...\")\n",
    "            time.sleep(0.3)\n",
    "            Q[y_label], E[y_label] = initialize_GP(initial_n_samples, progress=progress)\n",
    "            progress = initial_n_samples\n",
    "\n",
    "        # main GP training loop\n",
    "        print('Training GP...')\n",
    "        for k in range(progress - initial_n_samples, additional_n_samples):\n",
    "            # train Gaussian Process\n",
    "            GP = GPy.models.GPRegression(Q[y_label], E[y_label], kernel=GPy.kern.Matern52(1))\n",
    "            GP.optimize(messages=False)\n",
    "\n",
    "            # determine E_best (minimum value of E)\n",
    "            E_best = np.min(E[y_label])\n",
    "\n",
    "            # determine q_new (q with maximum expected improvement)\n",
    "            optimizer_output = opt.maximize(\n",
    "                lambda **kwargs: expected_improvement(gp=GP, **kwargs),\n",
    "                **{k: [0, 1] for k in hyperparameter_search_space_boundaries.keys()}\n",
    "            )[0]\n",
    "\n",
    "            # extract and scale new 'optimal' hyperparameters\n",
    "            q_new = np.array([optimizer_output[k] for k in hyperparameter_search_space_boundaries.keys()]).ravel()\n",
    "            q_new_scaled = scale_hyperparameters(q_new).round().astype(int)\n",
    "\n",
    "            # only for integer values: if the new hyperparameters have already been tested, the algorithm converged\n",
    "            for q in Q[y_label]:\n",
    "                if (q_new == q).all():\n",
    "                    print('GP Converged early.')\n",
    "                    break\n",
    "\n",
    "            # print status\n",
    "            hyperparameters_dict = {key: q_new_scaled[i] for i, key in enumerate(hyperparameter_search_space_boundaries.keys())}\n",
    "            print(f'{k+1}/{additional_n_samples}: {hyperparameters_dict}')\n",
    "            time.sleep(0.3)\n",
    "\n",
    "            # add q_new to the training set Q\n",
    "            Q[y_label] = np.vstack((Q[y_label], q_new))\n",
    "\n",
    "            # add value to E\n",
    "            E[y_label] = np.vstack((E[y_label], get_mean_CV_Score(log_loss, q_new_scaled).reshape(-1, 1)))\n",
    "            print(f'score: {E[y_label][-1, :]}')\n",
    "\n",
    "            # save checkpoint\n",
    "            progress += 1\n",
    "            print('Storing Checkpoint...')\n",
    "            with open(f'../../hyperparameter_results/RF.pt', 'wb') as file:\n",
    "                pickle.dump((Q[y_label], E[y_label]), file)\n",
    "            with open(f'../../hyperparameter_results/RF_progress.pt', 'wb') as file:\n",
    "                pickle.dump(progress, file)\n",
    "            print('Stored Checkpoint...')\n",
    "    else:\n",
    "        print(f'Loading Results ({y_label})...')\n",
    "        with open(f'../hyperparameter_results/RF_{y_label}.pt', 'rb') as file:\n",
    "            Q[y_label], E[y_label] = pickle.load(file)\n",
    "        print(f'Loaded Results ({y_label})')\n",
    "\n",
    "    GP[y_label] = GPy.models.GPRegression(Q[y_label], E[y_label], kernel=GPy.kern.Matern52(1))\n",
    "    GP[y_label].optimize(messages=False);"
   ],
   "outputs": [
    {
     "output_type": "stream",
     "name": "stdout",
     "text": [
      "Loading Results (hosp)...\n",
      "Loaded Results (hosp)\n",
      "Loading Results (death)...\n",
      "Loaded Results (death)\n"
     ]
    }
   ],
   "metadata": {}
  },
  {
   "cell_type": "markdown",
   "source": [
    "## GP-Prediction"
   ],
   "metadata": {}
  },
  {
   "cell_type": "code",
   "execution_count": 10,
   "source": [
    "n_estimators_linspace = np.linspace(np.min(hyperparameter_search_space['n_estimators']) * 0.9, np.max(hyperparameter_search_space['n_estimators']) * 1.1, 1000)\n",
    "\n",
    "# GP_predicted_log_loss_mean, GP_predicted_log_loss_std = {}, {}\n",
    "# for y_label in ['hosp', 'death']:\n",
    "#     GP_predicted_log_loss_mean[y_label], GP_predicted_log_loss_var = GP[y_label].predict_noiseless(n_estimators_linspace.reshape(-1, 1))\n",
    "#     GP_predicted_log_loss_std[y_label] = np.sqrt(GP_predicted_log_loss_var)"
   ],
   "outputs": [],
   "metadata": {}
  },
  {
   "cell_type": "markdown",
   "source": [
    "## Find 'Best' Hyperparameter"
   ],
   "metadata": {}
  },
  {
   "cell_type": "code",
   "execution_count": 9,
   "source": [
    "# def GP_log_loss_upper_confidence_bound(n_estimators, gp):\n",
    "#     mean, var = gp.predict_noiseless(np.array([[n_estimators]]))\n",
    "#     return mean + np.sqrt(var)"
   ],
   "outputs": [],
   "metadata": {}
  },
  {
   "cell_type": "code",
   "execution_count": 10,
   "source": [
    "# GP_best_hyperparameter_prediction = {}\n",
    "# for y_label in ['hosp', 'death']:\n",
    "#     GP_best_hyperparameter_prediction[y_label] = opt.minimize(\n",
    "#         lambda **kwargs: GP_log_loss_upper_confidence_bound(gp=GP[y_label], **kwargs),\n",
    "#         n_estimators=hyperparameter_search_space_boundaries['n_estimators']\n",
    "#     )[0]\n",
    "\n",
    "# hyperparameter_best_upper_confidence_bound = {\n",
    "#     y_label: {\n",
    "#         'n_estimators': np.exp(GP_best_hyperparameter_prediction[y_label]['n_estimators'])\n",
    "#     }\n",
    "#     for y_label in ['hosp', 'death']\n",
    "# }"
   ],
   "outputs": [],
   "metadata": {}
  },
  {
   "cell_type": "markdown",
   "source": [
    "## GP-Crossvalidation Results"
   ],
   "metadata": {}
  },
  {
   "cell_type": "code",
   "execution_count": 54,
   "source": [
    "fig, axes = plt.subplots(1, 2, figsize=(30, 9))\n",
    "\n",
    "for i, y_label in enumerate(['hosp', 'death']):\n",
    "    axes[i].scatter(Q[y_label], np.array(E[y_label]) + 1e-5 * np.array(Q[y_label])**2, color='tab:blue')\n",
    "    print(np.array(E[y_label]) + 1e-5 * np.array(Q[y_label])**2)\n",
    "    # axes[i].scatter(np.exp(Q[y_label][10:, 0]), E[y_label][10:, 0], color='tab:blue', label='Trained GP')\n",
    "\n",
    "    # axes[i].plot(n_estimators_linspace, GP_predicted_log_loss_mean[y_label][:, 0], color='black', alpha=0.5, label=r'Predicted Log Loss by GP ($\\pm$ STD)')\n",
    "    # axes[i].fill_between(n_estimators_linspace, GP_predicted_log_loss_mean[y_label][:, 0] - GP_predicted_log_loss_std[y_label][:, 0], GP_predicted_log_loss_mean[y_label][:, 0] + GP_predicted_log_loss_std[y_label][:, 0], color='black', alpha=0.2)\n",
    "\n",
    "    # axes[i].axvline(hyperparameter_best_upper_confidence_bound[y_label]['n_estimators'], color='tab:green', label=r'$N_{\\mathrm{est.}}$ =' + f' {np.round(hyperparameter_best_upper_confidence_bound[y_label][\"n_estimators\"], 3)} (Best Upper Confidence Bound)')\n",
    "\n",
    "    axes[i].set_xscale('log'); axes[i].set_xlim(np.min(n_estimators_linspace), np.max(n_estimators_linspace))\n",
    "    axes[i].set_xlabel('n_estimators'); axes[i].set_ylabel('Log Loss (Binary Crossentropy)'); axes[i].set_title(f'LR Hyperparameter Optimization ({y_label})')\n",
    "    # axes[i].legend();"
   ],
   "outputs": [
    {
     "output_type": "stream",
     "name": "stdout",
     "text": [
      "[0.62110306 0.49788362 0.44115696 0.42824351 0.42108401 0.42878162\n",
      " 0.49506583 0.78621468]\n",
      "[0.05739974 0.04581502 0.04141292 0.04103885 0.04347286 0.06380487\n",
      " 0.13859725 0.4383046 ]\n"
     ]
    },
    {
     "output_type": "display_data",
     "data": {
      "image/png": "[encoded data removed]",
      "text/plain": [
       "<Figure size 2160x648 with 2 Axes>"
      ]
     },
     "metadata": {
      "needs_background": "light"
     }
    }
   ],
   "metadata": {}
  },
  {
   "cell_type": "markdown",
   "source": [
    "# Final Training"
   ],
   "metadata": {}
  },
  {
   "cell_type": "code",
   "execution_count": 12,
   "source": [
    "# scale features\n",
    "sc_X_train = StandardScaler()\n",
    "X_train_scaled = sc_X_train.fit_transform(X_train)\n",
    "\n",
    "# create classifier\n",
    "rfc = {y_label: RandomForestClassifier(**RandomForestClassifier_parameters, n_estimators=100) for y_label in ['hosp', 'death']}\n",
    "\n",
    "# fit\n",
    "for i, y_label in enumerate(tqdm(['hosp', 'death'])):\n",
    "    rfc[y_label].fit(X_train_scaled, y_train[:, i]);"
   ],
   "outputs": [
    {
     "output_type": "stream",
     "name": "stderr",
     "text": [
      "100%|██████████| 2/2 [07:59<00:00, 239.66s/it]\n"
     ]
    }
   ],
   "metadata": {}
  },
  {
   "cell_type": "markdown",
   "source": [
    "# Evaluation on Test Set"
   ],
   "metadata": {}
  },
  {
   "cell_type": "code",
   "execution_count": 13,
   "source": [
    "with open('../data/data_test.pt', 'rb') as file:\n",
    "    X_test, y_test = pickle.load(file)\n",
    "\n",
    "print(f'{X_test.shape = }')\n",
    "print(f'{y_test.shape = }')\n",
    "\n",
    "X_test_scaled = sc_X_train.transform(X_test)"
   ],
   "outputs": [
    {
     "output_type": "stream",
     "name": "stdout",
     "text": [
      "X_test.shape = (630290, 28)\n",
      "y_test.shape = (630290, 2)\n"
     ]
    }
   ],
   "metadata": {}
  },
  {
   "cell_type": "code",
   "execution_count": 14,
   "source": [
    "evaluation_results = {}\n",
    "\n",
    "for i, y_label in enumerate(['hosp', 'death']):\n",
    "    print(f'--- {y_label} ---')\n",
    "\n",
    "    y_pred_proba = rfc[y_label].predict_proba(X_test_scaled)\n",
    "    evaluation_results[y_label] = y_pred_proba\n",
    "    y_pred = rfc[y_label].predict(X_test_scaled)\n",
    "\n",
    "    print(f'binary cross-entropy: {np.round(log_loss(y_test[:, i], y_pred_proba[:, 1]), 4)}')\n",
    "    print(f'brier loss: {brier_score_loss(y_test[:, i], y_pred_proba[:, 1]).round(4)}')\n",
    "    print(f'accuracy: {accuracy_score(y_test[:, i], y_pred).round(4)}')\n",
    "    print('confusion matrix:')\n",
    "    print(confusion_matrix(y_test[:, i], y_pred))\n",
    "    print()"
   ],
   "outputs": [
    {
     "output_type": "stream",
     "name": "stdout",
     "text": [
      "--- hosp ---\n",
      "binary cross-entropy: 0.3636\n",
      "brier loss: 0.0547\n",
      "accuracy: 0.9343\n",
      "confusion matrix:\n",
      "[[581891   3731]\n",
      " [ 37708   6960]]\n",
      "\n",
      "--- death ---\n",
      "binary cross-entropy: 0.0352\n",
      "brier loss: 0.0093\n",
      "accuracy: 0.9887\n",
      "confusion matrix:\n",
      "[[621176    310]\n",
      " [  6819   1985]]\n",
      "\n"
     ]
    }
   ],
   "metadata": {}
  },
  {
   "cell_type": "code",
   "execution_count": 15,
   "source": [
    "with open('../evaluation_results/models/RF.pt', 'wb') as file:\n",
    "    pickle.dump(evaluation_results, file)"
   ],
   "outputs": [],
   "metadata": {}
  },
  {
   "cell_type": "markdown",
   "source": [
    "# Observations"
   ],
   "metadata": {}
  },
  {
   "cell_type": "markdown",
   "source": [
    "more false negatives than false positives. Slightly better accuracy than SVC and LR."
   ],
   "metadata": {}
  }
 ],
 "metadata": {
  "orig_nbformat": 4,
  "language_info": {
   "name": "python",
   "version": "3.8.10",
   "mimetype": "text/x-python",
   "codemirror_mode": {
    "name": "ipython",
    "version": 3
   },
   "pygments_lexer": "ipython3",
   "nbconvert_exporter": "python",
   "file_extension": ".py"
  },
  "kernelspec": {
   "name": "python3",
   "display_name": "Python 3.8.10 64-bit"
  },
  "interpreter": {
   "hash": "31f2aee4e71d21fbe5cf8b01ff0e069b9275f58929596ceb00d14d90e3e16cd6"
  }
 },
 "nbformat": 4,
 "nbformat_minor": 2
}