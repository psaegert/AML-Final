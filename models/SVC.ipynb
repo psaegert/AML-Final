{
 "cells": [
  {
   "cell_type": "code",
   "execution_count": 1,
   "source": [
    "import numpy as np\n",
    "import pickle\n",
    "import time\n",
    "\n",
    "from tqdm.auto import tqdm\n",
    "\n",
    "from sklearn.linear_model import SGDClassifier\n",
    "from sklearn.calibration import CalibratedClassifierCV\n",
    "\n",
    "from sklearn.preprocessing import StandardScaler\n",
    "from sklearn.model_selection import KFold\n",
    "from sklearn.metrics import log_loss, brier_score_loss, accuracy_score, confusion_matrix\n",
    "\n",
    "import GPy\n",
    "import optunity as opt\n",
    "import sobol as sb\n",
    "\n",
    "import scipy.stats as stats\n",
    "\n",
    "import matplotlib.pyplot as plt"
   ],
   "outputs": [],
   "metadata": {}
  },
  {
   "cell_type": "code",
   "execution_count": 2,
   "source": [
    "retrain = False"
   ],
   "outputs": [],
   "metadata": {}
  },
  {
   "cell_type": "markdown",
   "source": [
    "# Data"
   ],
   "metadata": {}
  },
  {
   "cell_type": "code",
   "execution_count": 3,
   "source": [
    "with open('../data/data_train.pt', 'rb') as file:\n",
    "    X_train, y_train = pickle.load(file)\n",
    "\n",
    "print(f'{X_train.shape = }')\n",
    "print(f'{y_train.shape = }')"
   ],
   "outputs": [
    {
     "output_type": "stream",
     "name": "stdout",
     "text": [
      "X_train.shape = (2313665, 33)\n",
      "y_train.shape = (2313665, 2)\n"
     ]
    }
   ],
   "metadata": {}
  },
  {
   "cell_type": "markdown",
   "source": [
    "# Parameter Optimization"
   ],
   "metadata": {}
  },
  {
   "cell_type": "code",
   "execution_count": 4,
   "source": [
    "SGDClassifier_parameters = {\n",
    "    'n_jobs': 8,                # use 8 cores\n",
    "    'fit_intercept': False,     # data is scaled and centered, we can set fit_intercept=False\n",
    "    'tol': 1e-5,                # more accurate than default\n",
    "    'shuffle': True,            # shuffle dataset\n",
    "    'random_state': 20210927    # with the same random state\n",
    "}\n",
    "\n",
    "CalibratedClassifierCV_parameters = {\n",
    "    'n_jobs': 8,\n",
    "}"
   ],
   "outputs": [],
   "metadata": {}
  },
  {
   "cell_type": "code",
   "execution_count": 5,
   "source": [
    "hyperparameter_search_space_boundaries = {\n",
    "    'log_alpha': [-6, 6], # logarithm of the regularization coefficient\n",
    "}"
   ],
   "outputs": [],
   "metadata": {}
  },
  {
   "cell_type": "markdown",
   "source": [
    "## Cross-Validation: Helper Functions"
   ],
   "metadata": {}
  },
  {
   "cell_type": "code",
   "execution_count": 6,
   "source": [
    "def get_mean_CV_Score(score_function, hyperparameters, y_label):\n",
    "    assert y_label in ['hosp', 'death']\n",
    "    y_index = 0 if y_label == 'hosp' else 1\n",
    "\n",
    "    log_alpha, = hyperparameters\n",
    "\n",
    "    kf = KFold(n_splits=5, shuffle=True, random_state=20210927)\n",
    "\n",
    "    log_loss_list = np.empty(5, dtype=np.float64)\n",
    "\n",
    "    for split_index, (fit_index, val_index) in enumerate(kf.split(X_train)):\n",
    "        # create splits\n",
    "        X_fit, X_val = X_train[fit_index], X_train[val_index]\n",
    "        y_fit, y_val = y_train[fit_index], y_train[val_index]\n",
    "\n",
    "        # scale features\n",
    "        sc_X_fit = StandardScaler()\n",
    "        X_fit_scaled = sc_X_fit.fit_transform(X_fit)\n",
    "        X_val_scaled = sc_X_fit.transform(X_val)\n",
    "\n",
    "        # create classifier\n",
    "        base_svc_hosp = SGDClassifier(**SGDClassifier_parameters, alpha=np.exp(log_alpha))\n",
    "        calibrated_svc_hosp = CalibratedClassifierCV(base_svc_hosp, **CalibratedClassifierCV_parameters)\n",
    "\n",
    "        # fit\n",
    "        calibrated_svc_hosp.fit(X_fit_scaled, y_fit[:, y_index])\n",
    "\n",
    "        # evaluate\n",
    "        y_pred_proba = calibrated_svc_hosp.predict_proba(X_val_scaled)\n",
    "        log_loss_list[split_index] = score_function(y_val[:, y_index], y_pred_proba[:, 1])\n",
    "\n",
    "    return np.mean(log_loss_list)"
   ],
   "outputs": [],
   "metadata": {}
  },
  {
   "cell_type": "code",
   "execution_count": 7,
   "source": [
    "def expected_improvement(log_alpha, gp):\n",
    "    # compute E(q) and Var(q)\n",
    "    E_pred, Var_pred = gp.predict_noiseless(np.array([[log_alpha]]))\n",
    "\n",
    "    # compute gamma with the STD(q)\n",
    "    γ = (E_best - E_pred) / np.sqrt(Var_pred)\n",
    "\n",
    "    # return Expected Improvement\n",
    "    return np.sqrt(Var_pred) * (γ * stats.norm.cdf(γ) + stats.norm.pdf(γ))"
   ],
   "outputs": [],
   "metadata": {}
  },
  {
   "cell_type": "code",
   "execution_count": 8,
   "source": [
    "def initialize_GP(n_samples, y_label):\n",
    "    assert y_label in ['hosp', 'death']\n",
    "\n",
    "    Q_init = np.empty((n_samples, 1))\n",
    "    E_init = np.empty((n_samples, 1))\n",
    "\n",
    "    for i in range(n_samples):\n",
    "        Q_init[i, :] = sb.i4_sobol(1, i)[0] * (hyperparameter_search_space_boundaries['log_alpha'][1] - hyperparameter_search_space_boundaries['log_alpha'][0]) + hyperparameter_search_space_boundaries['log_alpha'][0]\n",
    "\n",
    "    for i, (log_alpha, ) in enumerate(tqdm(Q_init)):\n",
    "        E_init[i, :] = get_mean_CV_Score(log_loss, (log_alpha,), y_label)\n",
    "\n",
    "    return Q_init, E_init"
   ],
   "outputs": [],
   "metadata": {}
  },
  {
   "cell_type": "markdown",
   "source": [
    "## Run Optimization"
   ],
   "metadata": {}
  },
  {
   "cell_type": "code",
   "execution_count": 9,
   "source": [
    "initial_n_samples = 8\n",
    "additional_n_samples = 24"
   ],
   "outputs": [],
   "metadata": {}
  },
  {
   "cell_type": "code",
   "execution_count": 10,
   "source": [
    "# 45min on i7-6700k @ 4.5GHz\n",
    "GP, Q, E = {}, {}, {}\n",
    "for y_label in ['hosp', 'death']:\n",
    "    if retrain:\n",
    "        print(f\"Initializing GP for '{y_label}'...\")\n",
    "        time.sleep(0.3)\n",
    "        Q[y_label], E[y_label] = initialize_GP(initial_n_samples, y_label)\n",
    "\n",
    "        print('Training GP...')\n",
    "        time.sleep(0.3)\n",
    "        for k in tqdm(range(additional_n_samples)):\n",
    "\n",
    "            # train Gaussian Process\n",
    "            GP[y_label] = GPy.models.GPRegression(Q[y_label], E[y_label], kernel=GPy.kern.Matern52(1))\n",
    "            GP[y_label].optimize(messages=False)\n",
    "\n",
    "            # determine E_best (minimum value of E)\n",
    "            E_best = np.min(E[y_label])\n",
    "\n",
    "            # determine q_new (q with maximum expected improvement)\n",
    "            optimizer_output = opt.maximize(\n",
    "                lambda **kwargs: expected_improvement(gp=GP[y_label], **kwargs),\n",
    "                log_alpha=hyperparameter_search_space_boundaries['log_alpha']\n",
    "            )[0]\n",
    "            q_new = np.array([optimizer_output['log_alpha']]).ravel()\n",
    "\n",
    "            # add q_new to the training set Q\n",
    "            Q[y_label] = np.vstack((Q[y_label], q_new))\n",
    "\n",
    "            # add value to E\n",
    "            E[y_label] = np.vstack((E[y_label], get_mean_CV_Score(log_loss, q_new, y_label).reshape(-1, 1)))\n",
    "\n",
    "        print('Completed Training')\n",
    "        print('Storing Results...')\n",
    "        with open(f'../hyperparameter_results/SVC_{y_label}.pt', 'wb') as file:\n",
    "            pickle.dump((Q[y_label], E[y_label]), file)\n",
    "        print('Stored Results...')\n",
    "\n",
    "    else:\n",
    "        print(f'Loading Results ({y_label})...')\n",
    "        with open(f'../hyperparameter_results/SVC_{y_label}.pt', 'rb') as file:\n",
    "            Q[y_label], E[y_label] = pickle.load(file)\n",
    "        print(f'Loaded Results ({y_label})')\n",
    "\n",
    "    GP[y_label] = GPy.models.GPRegression(Q[y_label], E[y_label], kernel=GPy.kern.Matern52(1))\n",
    "    GP[y_label].optimize(messages=False);"
   ],
   "outputs": [
    {
     "output_type": "stream",
     "name": "stdout",
     "text": [
      "Loading Results (hosp)...\n",
      "Loaded Results (hosp)\n",
      "Loading Results (death)...\n",
      "Loaded Results (death)\n"
     ]
    }
   ],
   "metadata": {}
  },
  {
   "cell_type": "markdown",
   "source": [
    "## GP-Prediction"
   ],
   "metadata": {}
  },
  {
   "cell_type": "code",
   "execution_count": 11,
   "source": [
    "log_alpha_linspace = np.linspace(*np.array(hyperparameter_search_space_boundaries['log_alpha']) * np.array([1.1, 1.1]), 1000)\n",
    "\n",
    "GP_predicted_log_loss_mean, GP_predicted_log_loss_std = {}, {}\n",
    "for y_label in ['hosp', 'death']:\n",
    "    GP_predicted_log_loss_mean[y_label], GP_predicted_log_loss_var = GP[y_label].predict_noiseless(log_alpha_linspace.reshape(-1, 1))\n",
    "    GP_predicted_log_loss_std[y_label] = np.sqrt(GP_predicted_log_loss_var)"
   ],
   "outputs": [],
   "metadata": {}
  },
  {
   "cell_type": "markdown",
   "source": [
    "## Find 'Best' Hyperparameter"
   ],
   "metadata": {}
  },
  {
   "cell_type": "code",
   "execution_count": 12,
   "source": [
    "def GP_log_loss_upper_confidence_bound(log_alpha, gp):\n",
    "    mean, var = gp.predict_noiseless(np.array([[log_alpha]]))\n",
    "    return mean + np.sqrt(var)"
   ],
   "outputs": [],
   "metadata": {}
  },
  {
   "cell_type": "code",
   "execution_count": 13,
   "source": [
    "GP_best_hyperparameter_prediction = {}\n",
    "for y_label in ['hosp', 'death']:\n",
    "    GP_best_hyperparameter_prediction[y_label] = opt.minimize(\n",
    "        lambda **kwargs: GP_log_loss_upper_confidence_bound(gp=GP[y_label], **kwargs),\n",
    "        log_alpha=hyperparameter_search_space_boundaries['log_alpha']\n",
    "    )[0]\n",
    "\n",
    "hyperparameter_best_upper_confidence_bound = {\n",
    "    y_label: {\n",
    "        'alpha': np.exp(Q[y_label][np.argmin(E[y_label])])[0]#np.exp(GP_best_hyperparameter_prediction[y_label]['log_alpha'])\n",
    "    }\n",
    "    for y_label in ['hosp', 'death']\n",
    "}"
   ],
   "outputs": [],
   "metadata": {}
  },
  {
   "cell_type": "markdown",
   "source": [
    "## GP-Crossvalidation Results"
   ],
   "metadata": {}
  },
  {
   "cell_type": "code",
   "execution_count": 14,
   "source": [
    "fig, axes = plt.subplots(1, 2, figsize=(30, 9))\n",
    "\n",
    "for i, y_label in enumerate(['hosp', 'death']):\n",
    "    axes[i].scatter(np.exp(Q[y_label][:10, 0]), E[y_label][:10, 0], color='tab:orange', label='Initial GP')\n",
    "    axes[i].scatter(np.exp(Q[y_label][10:, 0]), E[y_label][10:, 0], color='tab:blue', label='Trained GP')\n",
    "\n",
    "    axes[i].plot(np.exp(log_alpha_linspace), GP_predicted_log_loss_mean[y_label][:, 0], color='black', alpha=0.5, label=r'Predicted Log Loss by GP ($\\pm$ STD)')\n",
    "    axes[i].fill_between(np.exp(log_alpha_linspace), GP_predicted_log_loss_mean[y_label][:, 0] - GP_predicted_log_loss_std[y_label][:, 0], GP_predicted_log_loss_mean[y_label][:, 0] + GP_predicted_log_loss_std[y_label][:, 0], color='black', alpha=0.2)\n",
    "\n",
    "    axes[i].axvline(hyperparameter_best_upper_confidence_bound[y_label]['alpha'], color='tab:green', label=r'$\\alpha$ =' + f' {np.round(hyperparameter_best_upper_confidence_bound[y_label][\"alpha\"], 3)} (Best Sample)')\n",
    "\n",
    "    axes[i].set_xscale('log'); axes[i].set_xlim(np.exp(np.min(log_alpha_linspace)), np.exp(np.max(log_alpha_linspace)))\n",
    "    axes[i].set_xlabel(r'Regularization $\\alpha$'); axes[i].set_ylabel('Log Loss (Binary Crossentropy)'); axes[i].set_title(f'SVC Hyperparameter Optimization ({y_label})')\n",
    "    axes[i].legend();"
   ],
   "outputs": [
    {
     "output_type": "display_data",
     "data": {
      "image/png": "[encoded data removed]",
      "text/plain": [
       "<Figure size 2160x648 with 2 Axes>"
      ]
     },
     "metadata": {
      "needs_background": "light"
     }
    }
   ],
   "metadata": {}
  },
  {
   "cell_type": "markdown",
   "source": [
    "# Final Training"
   ],
   "metadata": {}
  },
  {
   "cell_type": "code",
   "execution_count": 15,
   "source": [
    "# scale features\n",
    "sc_X_train = StandardScaler()\n",
    "X_train_scaled = sc_X_train.fit_transform(X_train)\n",
    "\n",
    "# create classifier\n",
    "base_svc = {y_label: SGDClassifier(**SGDClassifier_parameters, alpha=hyperparameter_best_upper_confidence_bound[y_label]['alpha']) for y_label in ['hosp', 'death']}\n",
    "calibrated_svc = {y_label: CalibratedClassifierCV(base_svc[y_label], **CalibratedClassifierCV_parameters) for y_label in ['hosp', 'death']}\n",
    "\n",
    "# fit\n",
    "for i, y_label in enumerate(['hosp', 'death']):\n",
    "    calibrated_svc[y_label].fit(X_train_scaled, y_train[:, i]);"
   ],
   "outputs": [],
   "metadata": {}
  },
  {
   "cell_type": "markdown",
   "source": [
    "# Evaluation on Test Set"
   ],
   "metadata": {}
  },
  {
   "cell_type": "code",
   "execution_count": 16,
   "source": [
    "with open('../data/data_test.pt', 'rb') as file:\n",
    "    X_test, y_test = pickle.load(file)\n",
    "\n",
    "print(f'{X_test.shape = }')\n",
    "print(f'{y_test.shape = }')\n",
    "\n",
    "X_test_scaled = sc_X_train.transform(X_test)"
   ],
   "outputs": [
    {
     "output_type": "stream",
     "name": "stdout",
     "text": [
      "X_test.shape = (578417, 33)\n",
      "y_test.shape = (578417, 2)\n"
     ]
    }
   ],
   "metadata": {}
  },
  {
   "cell_type": "code",
   "execution_count": 17,
   "source": [
    "evaluation_results = {}\n",
    "\n",
    "for i, y_label in enumerate(['hosp', 'death']):\n",
    "    print(f'--- {y_label} ---')\n",
    "\n",
    "    y_pred_proba = calibrated_svc[y_label].predict_proba(X_test_scaled)\n",
    "    evaluation_results[y_label] = y_pred_proba\n",
    "    y_pred = calibrated_svc[y_label].predict(X_test_scaled)\n",
    "\n",
    "    print(f'binary cross-entropy: {np.round(log_loss(y_test[:, i], y_pred_proba[:, 1]), 4)}')\n",
    "    print(f'brier loss: {brier_score_loss(y_test[:, i], y_pred_proba[:, 1]).round(4)}')\n",
    "    print(f'accuracy: {accuracy_score(y_test[:, i], y_pred).round(4)}')\n",
    "    print('confusion matrix:')\n",
    "    print(confusion_matrix(y_test[:, i], y_pred))\n",
    "    print()"
   ],
   "outputs": [
    {
     "output_type": "stream",
     "name": "stdout",
     "text": [
      "--- hosp ---\n",
      "binary cross-entropy: 0.208\n",
      "brier loss: 0.0558\n",
      "accuracy: 0.9342\n",
      "confusion matrix:\n",
      "[[538632    390]\n",
      " [ 37659   1736]]\n",
      "\n",
      "--- death ---\n",
      "binary cross-entropy: 0.0416\n",
      "brier loss: 0.0105\n",
      "accuracy: 0.9883\n",
      "confusion matrix:\n",
      "[[570466    233]\n",
      " [  6514   1204]]\n",
      "\n"
     ]
    }
   ],
   "metadata": {}
  },
  {
   "cell_type": "code",
   "execution_count": 18,
   "source": [
    "with open('../evaluation_results/predictions/SVC.pt', 'wb') as file:\n",
    "    pickle.dump(evaluation_results, file)"
   ],
   "outputs": [],
   "metadata": {}
  },
  {
   "cell_type": "markdown",
   "source": [
    "# Observations"
   ],
   "metadata": {}
  },
  {
   "cell_type": "markdown",
   "source": [
    "much more false negatives than false positives"
   ],
   "metadata": {}
  }
 ],
 "metadata": {
  "orig_nbformat": 4,
  "language_info": {
   "name": "python",
   "version": "3.8.10",
   "mimetype": "text/x-python",
   "codemirror_mode": {
    "name": "ipython",
    "version": 3
   },
   "pygments_lexer": "ipython3",
   "nbconvert_exporter": "python",
   "file_extension": ".py"
  },
  "kernelspec": {
   "name": "python3",
   "display_name": "Python 3.8.10 64-bit"
  },
  "interpreter": {
   "hash": "31f2aee4e71d21fbe5cf8b01ff0e069b9275f58929596ceb00d14d90e3e16cd6"
  }
 },
 "nbformat": 4,
 "nbformat_minor": 2
}