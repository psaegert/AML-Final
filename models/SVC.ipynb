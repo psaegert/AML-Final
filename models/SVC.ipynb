{
 "cells": [
  {
   "cell_type": "code",
   "execution_count": 6,
   "source": [
    "import numpy as np\r\n",
    "import pickle\r\n",
    "from sklearn.linear_model import SGDClassifier\r\n",
    "from sklearn.calibration import CalibratedClassifierCV\r\n",
    "\r\n",
    "from sklearn.preprocessing import StandardScaler\r\n",
    "from sklearn.model_selection import KFold\r\n",
    "from sklearn.metrics import log_loss, brier_score_loss, accuracy_score, confusion_matrix\r\n",
    "\r\n",
    "import matplotlib.pyplot as plt"
   ],
   "outputs": [],
   "metadata": {}
  },
  {
   "cell_type": "markdown",
   "source": [
    "# Data"
   ],
   "metadata": {}
  },
  {
   "cell_type": "code",
   "execution_count": 7,
   "source": [
    "with open('../data/data_train.pt', 'rb') as file:\r\n",
    "    X_train, y_train = pickle.load(file)\r\n",
    "\r\n",
    "print(f'{X_train.shape = }')\r\n",
    "print(f'{y_train.shape = }')"
   ],
   "outputs": [
    {
     "output_type": "stream",
     "name": "stdout",
     "text": [
      "X_train.shape = (192638, 28)\n",
      "y_train.shape = (192638, 2)\n"
     ]
    }
   ],
   "metadata": {}
  },
  {
   "cell_type": "markdown",
   "source": [
    "# Preprocessing"
   ],
   "metadata": {}
  },
  {
   "cell_type": "code",
   "execution_count": 8,
   "source": [
    "sc_X_train = StandardScaler()\r\n",
    "X_train_scaled = sc_X_train.fit_transform(X_train)"
   ],
   "outputs": [],
   "metadata": {}
  },
  {
   "cell_type": "markdown",
   "source": [
    "# Parameter Optimization"
   ],
   "metadata": {}
  },
  {
   "cell_type": "markdown",
   "source": [
    "## Hospitalization"
   ],
   "metadata": {}
  },
  {
   "cell_type": "code",
   "execution_count": 9,
   "source": [
    "base_svc_hosp = SGDClassifier()\r\n",
    "calibrated_svc_hosp = CalibratedClassifierCV(base_svc_hosp)\r\n",
    "\r\n",
    "calibrated_svc_hosp.fit(X_train_scaled, y_train[:, 0])"
   ],
   "outputs": [
    {
     "output_type": "execute_result",
     "data": {
      "text/plain": [
       "CalibratedClassifierCV(base_estimator=SGDClassifier())"
      ]
     },
     "metadata": {},
     "execution_count": 9
    }
   ],
   "metadata": {}
  },
  {
   "cell_type": "code",
   "execution_count": 10,
   "source": [
    "base_svc_death = SGDClassifier()\r\n",
    "calibrated_svc_death = CalibratedClassifierCV(base_svc_death)\r\n",
    "\r\n",
    "calibrated_svc_death.fit(X_train_scaled, y_train[:, 1])"
   ],
   "outputs": [
    {
     "output_type": "execute_result",
     "data": {
      "text/plain": [
       "CalibratedClassifierCV(base_estimator=SGDClassifier())"
      ]
     },
     "metadata": {},
     "execution_count": 10
    }
   ],
   "metadata": {}
  },
  {
   "cell_type": "markdown",
   "source": [
    "## Deaths"
   ],
   "metadata": {}
  },
  {
   "cell_type": "markdown",
   "source": [
    "# Training"
   ],
   "metadata": {}
  },
  {
   "cell_type": "markdown",
   "source": [
    "# Evaluation on Test Set"
   ],
   "metadata": {}
  },
  {
   "cell_type": "code",
   "execution_count": 11,
   "source": [
    "with open('../data/data_test.pt', 'rb') as file:\r\n",
    "    X_test, y_test = pickle.load(file)\r\n",
    "\r\n",
    "print(f'{X_test.shape = }')\r\n",
    "print(f'{y_test.shape = }')"
   ],
   "outputs": [
    {
     "output_type": "stream",
     "name": "stdout",
     "text": [
      "X_test.shape = (48160, 28)\n",
      "y_test.shape = (48160, 2)\n"
     ]
    }
   ],
   "metadata": {}
  },
  {
   "cell_type": "code",
   "execution_count": 21,
   "source": [
    "y_pred_hosp = calibrated_svc_hosp.predict(X_test)\r\n",
    "y_pred_death = calibrated_svc_death.predict(X_test)\r\n",
    "\r\n",
    "a = calibrated_svc_hosp.predict_proba(X_test)\r\n",
    "y_pred_death_proba = calibrated_svc_death.predict_proba(X_test)"
   ],
   "outputs": [],
   "metadata": {}
  },
  {
   "cell_type": "code",
   "execution_count": 26,
   "source": [
    "print(f'binary cross-entropy: {log_loss(y_test[:, 0], y_pred_hosp_proba[:, 1])}')\r\n",
    "print(f'brier loss: {brier_score_loss(y_test[:, 0], y_pred_hosp_proba[:, 1]).round(4)}')\r\n",
    "print(f'accuracy: {accuracy_score(y_test[:, 0], y_pred_hosp).round(4)}')\r\n",
    "print('confusion matrix:')\r\n",
    "print(confusion_matrix(y_test[:, 0], y_pred_hosp))"
   ],
   "outputs": [
    {
     "output_type": "stream",
     "name": "stdout",
     "text": [
      "binary cross-entropy: 0.31185133571250834\n",
      "brier loss: 0.0782\n",
      "accuracy: 0.944\n",
      "confusion matrix:\n",
      "[[45462     0]\n",
      " [ 2698     0]]\n"
     ]
    }
   ],
   "metadata": {}
  },
  {
   "cell_type": "code",
   "execution_count": 27,
   "source": [
    "print(f'binary cross-entropy: {log_loss(y_test[:, 1], y_pred_death_proba[:, 1])}')\r\n",
    "print(f'brier loss: {brier_score_loss(y_test[:, 1], y_pred_death_proba[:, 1]).round(4)}')\r\n",
    "print(f'accuracy: {accuracy_score(y_test[:, 1], y_pred_death).round(4)}')\r\n",
    "print('confusion matrix:')\r\n",
    "print(confusion_matrix(y_test[:, 1], y_pred_death))"
   ],
   "outputs": [
    {
     "output_type": "stream",
     "name": "stdout",
     "text": [
      "binary cross-entropy: 0.44064179922524277\n",
      "brier loss: 0.1287\n",
      "accuracy: 0.8202\n",
      "confusion matrix:\n",
      "[[39466  8419]\n",
      " [  241    34]]\n"
     ]
    }
   ],
   "metadata": {}
  }
 ],
 "metadata": {
  "orig_nbformat": 4,
  "language_info": {
   "name": "python",
   "version": "3.9.5",
   "mimetype": "text/x-python",
   "codemirror_mode": {
    "name": "ipython",
    "version": 3
   },
   "pygments_lexer": "ipython3",
   "nbconvert_exporter": "python",
   "file_extension": ".py"
  },
  "kernelspec": {
   "name": "python3",
   "display_name": "Python 3.9.5 64-bit"
  },
  "interpreter": {
   "hash": "68764fea58fce3debd0ec160882a0d43aa3f505a880da5fb9e1c918b12b71a7c"
  }
 },
 "nbformat": 4,
 "nbformat_minor": 2
}