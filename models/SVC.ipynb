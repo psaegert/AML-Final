{
 "cells": [
  {
   "cell_type": "code",
   "execution_count": 1,
   "source": [
    "import numpy as np\r\n",
    "import pickle\r\n",
    "import time\r\n",
    "\r\n",
    "from tqdm.auto import tqdm\r\n",
    "\r\n",
    "from sklearn.linear_model import SGDClassifier\r\n",
    "from sklearn.calibration import CalibratedClassifierCV\r\n",
    "\r\n",
    "from sklearn.preprocessing import StandardScaler\r\n",
    "from sklearn.model_selection import KFold\r\n",
    "from sklearn.metrics import log_loss, brier_score_loss, accuracy_score, confusion_matrix\r\n",
    "\r\n",
    "import GPy\r\n",
    "import optunity as opt\r\n",
    "import sobol as sb\r\n",
    "\r\n",
    "import scipy.stats as stats\r\n",
    "\r\n",
    "\r\n",
    "import matplotlib.pyplot as plt"
   ],
   "outputs": [],
   "metadata": {}
  },
  {
   "cell_type": "code",
   "execution_count": 2,
   "source": [
    "retrain = True"
   ],
   "outputs": [],
   "metadata": {}
  },
  {
   "cell_type": "markdown",
   "source": [
    "# Data"
   ],
   "metadata": {}
  },
  {
   "cell_type": "code",
   "execution_count": 3,
   "source": [
    "with open('../data/data_train.pt', 'rb') as file:\r\n",
    "    X_train, y_train = pickle.load(file)\r\n",
    "\r\n",
    "print(f'{X_train.shape = }')\r\n",
    "print(f'{y_train.shape = }')"
   ],
   "outputs": [
    {
     "output_type": "stream",
     "name": "stdout",
     "text": [
      "X_train.shape = (192638, 28)\n",
      "y_train.shape = (192638, 2)\n"
     ]
    }
   ],
   "metadata": {}
  },
  {
   "cell_type": "markdown",
   "source": [
    "# Preprocessing"
   ],
   "metadata": {}
  },
  {
   "cell_type": "markdown",
   "source": [
    "# Parameter Optimization"
   ],
   "metadata": {}
  },
  {
   "cell_type": "code",
   "execution_count": 4,
   "source": [
    "SGDClassifier_parameters = {\r\n",
    "    'n_jobs': 8,\r\n",
    "    'fit_intercept': False, # data is scaled and centered, we can set fit_intercept=False\r\n",
    "    'tol':1e-3,\r\n",
    "    'shuffle': True,\r\n",
    "    'random_state': 20210927\r\n",
    "}\r\n",
    "\r\n",
    "CalibratedClassifierCV_parameters = {\r\n",
    "    'n_jobs': 8,\r\n",
    "}"
   ],
   "outputs": [],
   "metadata": {}
  },
  {
   "cell_type": "markdown",
   "source": [
    "## Cross-Validation"
   ],
   "metadata": {}
  },
  {
   "cell_type": "code",
   "execution_count": 5,
   "source": [
    "def get_mean_CV_Score_hosp(score_function, hyperparameters):\r\n",
    "    log_alpha, = hyperparameters\r\n",
    "\r\n",
    "    kf = KFold(n_splits=5, shuffle=True, random_state=20210927)\r\n",
    "\r\n",
    "    log_loss_list = np.empty(5, dtype=np.float64)\r\n",
    "\r\n",
    "    for split_index, (fit_index, val_index) in enumerate(kf.split(X_train)):\r\n",
    "        # create splits\r\n",
    "        X_fit, X_val = X_train[fit_index], X_train[val_index]\r\n",
    "        y_fit, y_val = y_train[fit_index], y_train[val_index]\r\n",
    "\r\n",
    "        # scale features\r\n",
    "        sc_X_fit = StandardScaler()\r\n",
    "        X_fit_scaled = sc_X_fit.fit_transform(X_fit)\r\n",
    "        X_val_scaled = sc_X_fit.transform(X_val)\r\n",
    "\r\n",
    "        # create classifier\r\n",
    "        base_svc_hosp = SGDClassifier(**SGDClassifier_parameters, alpha=np.exp(log_alpha))\r\n",
    "        calibrated_svc_hosp = CalibratedClassifierCV(base_svc_hosp, **CalibratedClassifierCV_parameters)\r\n",
    "\r\n",
    "        # fit\r\n",
    "        calibrated_svc_hosp.fit(X_fit_scaled, y_fit[:, 0])\r\n",
    "\r\n",
    "        # evaluate\r\n",
    "        y_pred_proba = calibrated_svc_hosp.predict_proba(X_val_scaled)\r\n",
    "        log_loss_list[split_index] = score_function(y_val[:, 0], y_pred_proba[:, 1])\r\n",
    "\r\n",
    "    return np.mean(log_loss_list)"
   ],
   "outputs": [],
   "metadata": {}
  },
  {
   "cell_type": "code",
   "execution_count": 6,
   "source": [
    "hyperparameter_search_space_boundaries = {\r\n",
    "    'log_alpha': [-5, 2], # logarithm of the regularization coefficient\r\n",
    "}"
   ],
   "outputs": [],
   "metadata": {}
  },
  {
   "cell_type": "code",
   "execution_count": 7,
   "source": [
    "def expected_improvement(log_alpha):\r\n",
    "    # compute E(q) and Var(q)\r\n",
    "    # \r\n",
    "    E_pred, Var_pred = GP.predict_noiseless(np.array([[log_alpha]]))\r\n",
    "\r\n",
    "    # compute gamma with the STD(q)\r\n",
    "    γ = (E_best - E_pred) / np.sqrt(Var_pred)\r\n",
    "\r\n",
    "    # return Expected Improvement\r\n",
    "    return Var_pred * (γ * stats.norm.cdf(γ) + stats.norm.pdf(γ))"
   ],
   "outputs": [],
   "metadata": {}
  },
  {
   "cell_type": "code",
   "execution_count": 8,
   "source": [
    "def initialize_GP(n_samples):\r\n",
    "    Q_init = np.empty((n_samples, 1))\r\n",
    "    E_init = np.empty((n_samples, 1))\r\n",
    "\r\n",
    "    for i in range(n_samples):\r\n",
    "        Q_init[i, :] = sb.i4_sobol(1, i)[0] * (hyperparameter_search_space_boundaries['log_alpha'][1] - hyperparameter_search_space_boundaries['log_alpha'][0]) + hyperparameter_search_space_boundaries['log_alpha'][0]\r\n",
    "\r\n",
    "    for i, log_alpha in enumerate(tqdm(Q_init)):\r\n",
    "        E_init[i, :] = get_mean_CV_Score_hosp(log_loss, (log_alpha,))\r\n",
    "\r\n",
    "    return Q_init, E_init"
   ],
   "outputs": [],
   "metadata": {}
  },
  {
   "cell_type": "code",
   "execution_count": 9,
   "source": [
    "initial_n_samples = 10\r\n",
    "additional_n_samples = 30"
   ],
   "outputs": [],
   "metadata": {}
  },
  {
   "cell_type": "code",
   "execution_count": 10,
   "source": [
    "if retrain:\r\n",
    "    print('Initializing GP...')\r\n",
    "    time.sleep(0.3)\r\n",
    "    Q, E = initialize_GP(initial_n_samples)\r\n",
    "\r\n",
    "    print('Training GP...')\r\n",
    "    time.sleep(0.3)\r\n",
    "    for k in tqdm(range(additional_n_samples)):\r\n",
    "\r\n",
    "        # train Gaussian Process\r\n",
    "        GP = GPy.models.GPRegression(Q, E, kernel=GPy.kern.Matern52(1))\r\n",
    "        GP.optimize(messages=False)\r\n",
    "\r\n",
    "        # determine E_best (minimum value of E)\r\n",
    "        E_best = np.min(E)\r\n",
    "\r\n",
    "        # determine q_new (q with maximum expected improvement)\r\n",
    "        optimizer_output = opt.maximize(expected_improvement, log_alpha=hyperparameter_search_space_boundaries['log_alpha'])[0]\r\n",
    "        q_new = np.array([optimizer_output['log_alpha']]).ravel()\r\n",
    "\r\n",
    "        # add q_new to the training set Q\r\n",
    "        Q = np.vstack((Q, q_new))\r\n",
    "\r\n",
    "        # add COR(tau, sigma, gamma) to E\r\n",
    "        E = np.vstack((E, get_mean_CV_Score_hosp(log_loss, q_new).reshape(-1, 1)))\r\n",
    "\r\n",
    "    print('Completed Training')\r\n",
    "    print('Storing Results...')\r\n",
    "    with open('../results/SVC.pt', 'wb') as file:\r\n",
    "        pickle.dump((Q, E), file)\r\n",
    "\r\n",
    "    print('Stored Results...')\r\n",
    "else:\r\n",
    "    print('Loading Results...')\r\n",
    "    with open('../results/SVC.pt', 'rb') as file:\r\n",
    "        Q, E = pickle.load(file)\r\n",
    "    print('Loaded Results')\r\n",
    "\r\n",
    "GP = GPy.models.GPRegression(Q, E, kernel=GPy.kern.Matern52(1))\r\n",
    "GP.optimize(messages=False)"
   ],
   "outputs": [
    {
     "output_type": "stream",
     "name": "stdout",
     "text": [
      "Initializing GP...\n"
     ]
    },
    {
     "output_type": "stream",
     "name": "stderr",
     "text": [
      "100%|██████████| 10/10 [00:37<00:00,  3.77s/it]\n"
     ]
    },
    {
     "output_type": "stream",
     "name": "stdout",
     "text": [
      "Training GP...\n"
     ]
    },
    {
     "output_type": "stream",
     "name": "stderr",
     "text": [
      "100%|██████████| 30/30 [01:43<00:00,  3.45s/it]"
     ]
    },
    {
     "output_type": "stream",
     "name": "stdout",
     "text": [
      "Completed Training\n",
      "Storing Results...\n",
      "Stored Results...\n"
     ]
    },
    {
     "output_type": "stream",
     "name": "stderr",
     "text": [
      "\n"
     ]
    }
   ],
   "metadata": {}
  },
  {
   "cell_type": "code",
   "execution_count": 16,
   "source": [
    "log_alpha_linspace = np.linspace(*hyperparameter_search_space_boundaries['log_alpha'], 1000).reshape(-1, 1)\r\n",
    "GP_predicted_log_loss = GP.predict_noiseless(log_alpha_linspace)"
   ],
   "outputs": [],
   "metadata": {}
  },
  {
   "cell_type": "code",
   "execution_count": 18,
   "source": [
    "fig, ax = plt.subplots(1, 1, figsize=(16, 9))\r\n",
    "plt.scatter(Q[:10, 0], E[:10, 0], color='tab:orange')\r\n",
    "plt.scatter(Q[10:, 0], E[10:, 0], color='tab:blue')\r\n",
    "\r\n",
    "plt.plot(log_alpha_linspace, GP_predicted_log_loss, color='black', alpha=0.5)"
   ],
   "outputs": [
    {
     "output_type": "execute_result",
     "data": {
      "text/plain": [
       "[<matplotlib.lines.Line2D at 0x225650b1820>]"
      ]
     },
     "metadata": {},
     "execution_count": 18
    },
    {
     "output_type": "display_data",
     "data": {
      "text/plain": [
       "<Figure size 1152x648 with 1 Axes>"
      ],
      "image/svg+xml": "<?xml version=\"1.0\" encoding=\"utf-8\" standalone=\"no\"?>\r\n<!DOCTYPE svg PUBLIC \"-//W3C//DTD SVG 1.1//EN\"\r\n  \"http://www.w3.org/Graphics/SVG/1.1/DTD/svg11.dtd\">\r\n<svg height=\"520.318125pt\" version=\"1.1\" viewBox=\"0 0 936.465625 520.318125\" width=\"936.465625pt\" xmlns=\"http://www.w3.org/2000/svg\" xmlns:xlink=\"http://www.w3.org/1999/xlink\">\r\n <metadata>\r\n  <rdf:RDF xmlns:cc=\"http://creativecommons.org/ns#\" xmlns:dc=\"http://purl.org/dc/elements/1.1/\" xmlns:rdf=\"http://www.w3.org/1999/02/22-rdf-syntax-ns#\">\r\n   <cc:Work>\r\n    <dc:type rdf:resource=\"http://purl.org/dc/dcmitype/StillImage\"/>\r\n    <dc:date>2021-08-31T11:05:13.758182</dc:date>\r\n    <dc:format>image/svg+xml</dc:format>\r\n    <dc:creator>\r\n     <cc:Agent>\r\n      <dc:title>Matplotlib v3.4.2, https://matplotlib.org/</dc:title>\r\n     </cc:Agent>\r\n    </dc:creator>\r\n   </cc:Work>\r\n  </rdf:RDF>\r\n </metadata>\r\n <defs>\r\n  <style type=\"text/css\">*{stroke-linecap:butt;stroke-linejoin:round;}</style>\r\n </defs>\r\n <g id=\"figure_1\">\r\n  <g id=\"patch_1\">\r\n   <path d=\"M 0 520.318125 \r\nL 936.465625 520.318125 \r\nL 936.465625 0 \r\nL 0 0 \r\nz\r\n\" style=\"fill:none;\"/>\r\n  </g>\r\n  <g id=\"axes_1\">\r\n   <g id=\"patch_2\">\r\n    <path d=\"M 36.465625 496.44 \r\nL 929.265625 496.44 \r\nL 929.265625 7.2 \r\nL 36.465625 7.2 \r\nz\r\n\" style=\"fill:#ffffff;\"/>\r\n   </g>\r\n   <g id=\"PathCollection_1\">\r\n    <defs>\r\n     <path d=\"M 0 3 \r\nC 0.795609 3 1.55874 2.683901 2.12132 2.12132 \r\nC 2.683901 1.55874 3 0.795609 3 0 \r\nC 3 -0.795609 2.683901 -1.55874 2.12132 -2.12132 \r\nC 1.55874 -2.683901 0.795609 -3 0 -3 \r\nC -0.795609 -3 -1.55874 -2.683901 -2.12132 -2.12132 \r\nC -2.683901 -1.55874 -3 -0.795609 -3 0 \r\nC -3 0.795609 -2.683901 1.55874 -2.12132 2.12132 \r\nC -1.55874 2.683901 -0.795609 3 0 3 \r\nz\r\n\" id=\"m7a9a60ac33\" style=\"stroke:#ffa500;\"/>\r\n    </defs>\r\n    <g clip-path=\"url(#p66ee792e44)\">\r\n     <use style=\"fill:#ffa500;stroke:#ffa500;\" x=\"77.047443\" xlink:href=\"#m7a9a60ac33\" y=\"29.438182\"/>\r\n     <use style=\"fill:#ffa500;stroke:#ffa500;\" x=\"482.865625\" xlink:href=\"#m7a9a60ac33\" y=\"73.908641\"/>\r\n     <use style=\"fill:#ffa500;stroke:#ffa500;\" x=\"685.774716\" xlink:href=\"#m7a9a60ac33\" y=\"68.831854\"/>\r\n     <use style=\"fill:#ffa500;stroke:#ffa500;\" x=\"279.956534\" xlink:href=\"#m7a9a60ac33\" y=\"64.036828\"/>\r\n     <use style=\"fill:#ffa500;stroke:#ffa500;\" x=\"381.41108\" xlink:href=\"#m7a9a60ac33\" y=\"73.895573\"/>\r\n     <use style=\"fill:#ffa500;stroke:#ffa500;\" x=\"787.229261\" xlink:href=\"#m7a9a60ac33\" y=\"67.433532\"/>\r\n     <use style=\"fill:#ffa500;stroke:#ffa500;\" x=\"584.32017\" xlink:href=\"#m7a9a60ac33\" y=\"69.795639\"/>\r\n     <use style=\"fill:#ffa500;stroke:#ffa500;\" x=\"178.501989\" xlink:href=\"#m7a9a60ac33\" y=\"48.933422\"/>\r\n     <use style=\"fill:#ffa500;stroke:#ffa500;\" x=\"229.229261\" xlink:href=\"#m7a9a60ac33\" y=\"58.708887\"/>\r\n     <use style=\"fill:#ffa500;stroke:#ffa500;\" x=\"635.047443\" xlink:href=\"#m7a9a60ac33\" y=\"69.762307\"/>\r\n    </g>\r\n   </g>\r\n   <g id=\"PathCollection_2\">\r\n    <defs>\r\n     <path d=\"M 0 3 \r\nC 0.795609 3 1.55874 2.683901 2.12132 2.12132 \r\nC 2.683901 1.55874 3 0.795609 3 0 \r\nC 3 -0.795609 2.683901 -1.55874 2.12132 -2.12132 \r\nC 1.55874 -2.683901 0.795609 -3 0 -3 \r\nC -0.795609 -3 -1.55874 -2.683901 -2.12132 -2.12132 \r\nC -2.683901 -1.55874 -3 -0.795609 -3 0 \r\nC -3 0.795609 -2.683901 1.55874 -2.12132 2.12132 \r\nC -1.55874 2.683901 -0.795609 3 0 3 \r\nz\r\n\" id=\"m4b9453d570\" style=\"stroke:#0000ff;\"/>\r\n    </defs>\r\n    <g clip-path=\"url(#p66ee792e44)\">\r\n     <use style=\"fill:#0000ff;stroke:#0000ff;\" x=\"437.179375\" xlink:href=\"#m4b9453d570\" y=\"73.582608\"/>\r\n     <use style=\"fill:#0000ff;stroke:#0000ff;\" x=\"887.954602\" xlink:href=\"#m4b9453d570\" y=\"67.433693\"/>\r\n     <use style=\"fill:#0000ff;stroke:#0000ff;\" x=\"435.073892\" xlink:href=\"#m4b9453d570\" y=\"73.523032\"/>\r\n     <use style=\"fill:#0000ff;stroke:#0000ff;\" x=\"435.590463\" xlink:href=\"#m4b9453d570\" y=\"73.538425\"/>\r\n     <use style=\"fill:#0000ff;stroke:#0000ff;\" x=\"447.036509\" xlink:href=\"#m4b9453d570\" y=\"73.922887\"/>\r\n     <use style=\"fill:#0000ff;stroke:#0000ff;\" x=\"436.990921\" xlink:href=\"#m4b9453d570\" y=\"73.577963\"/>\r\n     <use style=\"fill:#0000ff;stroke:#0000ff;\" x=\"437.686648\" xlink:href=\"#m4b9453d570\" y=\"73.596418\"/>\r\n     <use style=\"fill:#0000ff;stroke:#0000ff;\" x=\"434.579602\" xlink:href=\"#m4b9453d570\" y=\"73.508481\"/>\r\n     <use style=\"fill:#0000ff;stroke:#0000ff;\" x=\"436.084192\" xlink:href=\"#m4b9453d570\" y=\"73.551045\"/>\r\n     <use style=\"fill:#0000ff;stroke:#0000ff;\" x=\"443.53144\" xlink:href=\"#m4b9453d570\" y=\"73.788138\"/>\r\n     <use style=\"fill:#0000ff;stroke:#0000ff;\" x=\"439.208466\" xlink:href=\"#m4b9453d570\" y=\"73.638296\"/>\r\n     <use style=\"fill:#0000ff;stroke:#0000ff;\" x=\"431.060398\" xlink:href=\"#m4b9453d570\" y=\"73.421284\"/>\r\n     <use style=\"fill:#0000ff;stroke:#0000ff;\" x=\"442.386477\" xlink:href=\"#m4b9453d570\" y=\"73.748472\"/>\r\n     <use style=\"fill:#0000ff;stroke:#0000ff;\" x=\"427.604602\" xlink:href=\"#m4b9453d570\" y=\"73.336225\"/>\r\n     <use style=\"fill:#0000ff;stroke:#0000ff;\" x=\"447.81625\" xlink:href=\"#m4b9453d570\" y=\"73.955917\"/>\r\n     <use style=\"fill:#0000ff;stroke:#0000ff;\" x=\"441.586307\" xlink:href=\"#m4b9453d570\" y=\"73.718259\"/>\r\n     <use style=\"fill:#0000ff;stroke:#0000ff;\" x=\"449.116136\" xlink:href=\"#m4b9453d570\" y=\"74.006996\"/>\r\n     <use style=\"fill:#0000ff;stroke:#0000ff;\" x=\"455.201896\" xlink:href=\"#m4b9453d570\" y=\"74.236534\"/>\r\n     <use style=\"fill:#0000ff;stroke:#0000ff;\" x=\"471.658068\" xlink:href=\"#m4b9453d570\" y=\"74.34165\"/>\r\n     <use style=\"fill:#0000ff;stroke:#0000ff;\" x=\"475.113864\" xlink:href=\"#m4b9453d570\" y=\"74.242352\"/>\r\n     <use style=\"fill:#0000ff;stroke:#0000ff;\" x=\"476.240755\" xlink:href=\"#m4b9453d570\" y=\"74.201009\"/>\r\n     <use style=\"fill:#0000ff;stroke:#0000ff;\" x=\"474.765114\" xlink:href=\"#m4b9453d570\" y=\"74.252815\"/>\r\n     <use style=\"fill:#0000ff;stroke:#0000ff;\" x=\"476.065\" xlink:href=\"#m4b9453d570\" y=\"74.207757\"/>\r\n     <use style=\"fill:#0000ff;stroke:#0000ff;\" x=\"475.463699\" xlink:href=\"#m4b9453d570\" y=\"74.231078\"/>\r\n     <use style=\"fill:#0000ff;stroke:#0000ff;\" x=\"479.869545\" xlink:href=\"#m4b9453d570\" y=\"74.050931\"/>\r\n     <use style=\"fill:#0000ff;stroke:#0000ff;\" x=\"469.589852\" xlink:href=\"#m4b9453d570\" y=\"74.387291\"/>\r\n     <use style=\"fill:#0000ff;stroke:#0000ff;\" x=\"479.833163\" xlink:href=\"#m4b9453d570\" y=\"74.053112\"/>\r\n     <use style=\"fill:#0000ff;stroke:#0000ff;\" x=\"477.454928\" xlink:href=\"#m4b9453d570\" y=\"74.152613\"/>\r\n     <use style=\"fill:#0000ff;stroke:#0000ff;\" x=\"479.289622\" xlink:href=\"#m4b9453d570\" y=\"74.076155\"/>\r\n     <use style=\"fill:#0000ff;stroke:#0000ff;\" x=\"486.305169\" xlink:href=\"#m4b9453d570\" y=\"73.721476\"/>\r\n    </g>\r\n   </g>\r\n   <g id=\"matplotlib.axis_1\">\r\n    <g id=\"xtick_1\">\r\n     <g id=\"line2d_1\">\r\n      <defs>\r\n       <path d=\"M 0 0 \r\nL 0 3.5 \r\n\" id=\"ma3a4de331f\" style=\"stroke:#000000;stroke-width:0.8;\"/>\r\n      </defs>\r\n      <g>\r\n       <use style=\"stroke:#000000;stroke-width:0.8;\" x=\"77.047443\" xlink:href=\"#ma3a4de331f\" y=\"496.44\"/>\r\n      </g>\r\n     </g>\r\n     <g id=\"text_1\">\r\n      <!-- −5 -->\r\n      <g transform=\"translate(69.676349 511.038438)scale(0.1 -0.1)\">\r\n       <defs>\r\n        <path d=\"M 678 2272 \r\nL 4684 2272 \r\nL 4684 1741 \r\nL 678 1741 \r\nL 678 2272 \r\nz\r\n\" id=\"DejaVuSans-2212\" transform=\"scale(0.015625)\"/>\r\n        <path d=\"M 691 4666 \r\nL 3169 4666 \r\nL 3169 4134 \r\nL 1269 4134 \r\nL 1269 2991 \r\nQ 1406 3038 1543 3061 \r\nQ 1681 3084 1819 3084 \r\nQ 2600 3084 3056 2656 \r\nQ 3513 2228 3513 1497 \r\nQ 3513 744 3044 326 \r\nQ 2575 -91 1722 -91 \r\nQ 1428 -91 1123 -41 \r\nQ 819 9 494 109 \r\nL 494 744 \r\nQ 775 591 1075 516 \r\nQ 1375 441 1709 441 \r\nQ 2250 441 2565 725 \r\nQ 2881 1009 2881 1497 \r\nQ 2881 1984 2565 2268 \r\nQ 2250 2553 1709 2553 \r\nQ 1456 2553 1204 2497 \r\nQ 953 2441 691 2322 \r\nL 691 4666 \r\nz\r\n\" id=\"DejaVuSans-35\" transform=\"scale(0.015625)\"/>\r\n       </defs>\r\n       <use xlink:href=\"#DejaVuSans-2212\"/>\r\n       <use x=\"83.789062\" xlink:href=\"#DejaVuSans-35\"/>\r\n      </g>\r\n     </g>\r\n    </g>\r\n    <g id=\"xtick_2\">\r\n     <g id=\"line2d_2\">\r\n      <g>\r\n       <use style=\"stroke:#000000;stroke-width:0.8;\" x=\"192.995495\" xlink:href=\"#ma3a4de331f\" y=\"496.44\"/>\r\n      </g>\r\n     </g>\r\n     <g id=\"text_2\">\r\n      <!-- −4 -->\r\n      <g transform=\"translate(185.624401 511.038438)scale(0.1 -0.1)\">\r\n       <defs>\r\n        <path d=\"M 2419 4116 \r\nL 825 1625 \r\nL 2419 1625 \r\nL 2419 4116 \r\nz\r\nM 2253 4666 \r\nL 3047 4666 \r\nL 3047 1625 \r\nL 3713 1625 \r\nL 3713 1100 \r\nL 3047 1100 \r\nL 3047 0 \r\nL 2419 0 \r\nL 2419 1100 \r\nL 313 1100 \r\nL 313 1709 \r\nL 2253 4666 \r\nz\r\n\" id=\"DejaVuSans-34\" transform=\"scale(0.015625)\"/>\r\n       </defs>\r\n       <use xlink:href=\"#DejaVuSans-2212\"/>\r\n       <use x=\"83.789062\" xlink:href=\"#DejaVuSans-34\"/>\r\n      </g>\r\n     </g>\r\n    </g>\r\n    <g id=\"xtick_3\">\r\n     <g id=\"line2d_3\">\r\n      <g>\r\n       <use style=\"stroke:#000000;stroke-width:0.8;\" x=\"308.943547\" xlink:href=\"#ma3a4de331f\" y=\"496.44\"/>\r\n      </g>\r\n     </g>\r\n     <g id=\"text_3\">\r\n      <!-- −3 -->\r\n      <g transform=\"translate(301.572453 511.038438)scale(0.1 -0.1)\">\r\n       <defs>\r\n        <path d=\"M 2597 2516 \r\nQ 3050 2419 3304 2112 \r\nQ 3559 1806 3559 1356 \r\nQ 3559 666 3084 287 \r\nQ 2609 -91 1734 -91 \r\nQ 1441 -91 1130 -33 \r\nQ 819 25 488 141 \r\nL 488 750 \r\nQ 750 597 1062 519 \r\nQ 1375 441 1716 441 \r\nQ 2309 441 2620 675 \r\nQ 2931 909 2931 1356 \r\nQ 2931 1769 2642 2001 \r\nQ 2353 2234 1838 2234 \r\nL 1294 2234 \r\nL 1294 2753 \r\nL 1863 2753 \r\nQ 2328 2753 2575 2939 \r\nQ 2822 3125 2822 3475 \r\nQ 2822 3834 2567 4026 \r\nQ 2313 4219 1838 4219 \r\nQ 1578 4219 1281 4162 \r\nQ 984 4106 628 3988 \r\nL 628 4550 \r\nQ 988 4650 1302 4700 \r\nQ 1616 4750 1894 4750 \r\nQ 2613 4750 3031 4423 \r\nQ 3450 4097 3450 3541 \r\nQ 3450 3153 3228 2886 \r\nQ 3006 2619 2597 2516 \r\nz\r\n\" id=\"DejaVuSans-33\" transform=\"scale(0.015625)\"/>\r\n       </defs>\r\n       <use xlink:href=\"#DejaVuSans-2212\"/>\r\n       <use x=\"83.789062\" xlink:href=\"#DejaVuSans-33\"/>\r\n      </g>\r\n     </g>\r\n    </g>\r\n    <g id=\"xtick_4\">\r\n     <g id=\"line2d_4\">\r\n      <g>\r\n       <use style=\"stroke:#000000;stroke-width:0.8;\" x=\"424.891599\" xlink:href=\"#ma3a4de331f\" y=\"496.44\"/>\r\n      </g>\r\n     </g>\r\n     <g id=\"text_4\">\r\n      <!-- −2 -->\r\n      <g transform=\"translate(417.520505 511.038438)scale(0.1 -0.1)\">\r\n       <defs>\r\n        <path d=\"M 1228 531 \r\nL 3431 531 \r\nL 3431 0 \r\nL 469 0 \r\nL 469 531 \r\nQ 828 903 1448 1529 \r\nQ 2069 2156 2228 2338 \r\nQ 2531 2678 2651 2914 \r\nQ 2772 3150 2772 3378 \r\nQ 2772 3750 2511 3984 \r\nQ 2250 4219 1831 4219 \r\nQ 1534 4219 1204 4116 \r\nQ 875 4013 500 3803 \r\nL 500 4441 \r\nQ 881 4594 1212 4672 \r\nQ 1544 4750 1819 4750 \r\nQ 2544 4750 2975 4387 \r\nQ 3406 4025 3406 3419 \r\nQ 3406 3131 3298 2873 \r\nQ 3191 2616 2906 2266 \r\nQ 2828 2175 2409 1742 \r\nQ 1991 1309 1228 531 \r\nz\r\n\" id=\"DejaVuSans-32\" transform=\"scale(0.015625)\"/>\r\n       </defs>\r\n       <use xlink:href=\"#DejaVuSans-2212\"/>\r\n       <use x=\"83.789062\" xlink:href=\"#DejaVuSans-32\"/>\r\n      </g>\r\n     </g>\r\n    </g>\r\n    <g id=\"xtick_5\">\r\n     <g id=\"line2d_5\">\r\n      <g>\r\n       <use style=\"stroke:#000000;stroke-width:0.8;\" x=\"540.839651\" xlink:href=\"#ma3a4de331f\" y=\"496.44\"/>\r\n      </g>\r\n     </g>\r\n     <g id=\"text_5\">\r\n      <!-- −1 -->\r\n      <g transform=\"translate(533.468557 511.038438)scale(0.1 -0.1)\">\r\n       <defs>\r\n        <path d=\"M 794 531 \r\nL 1825 531 \r\nL 1825 4091 \r\nL 703 3866 \r\nL 703 4441 \r\nL 1819 4666 \r\nL 2450 4666 \r\nL 2450 531 \r\nL 3481 531 \r\nL 3481 0 \r\nL 794 0 \r\nL 794 531 \r\nz\r\n\" id=\"DejaVuSans-31\" transform=\"scale(0.015625)\"/>\r\n       </defs>\r\n       <use xlink:href=\"#DejaVuSans-2212\"/>\r\n       <use x=\"83.789062\" xlink:href=\"#DejaVuSans-31\"/>\r\n      </g>\r\n     </g>\r\n    </g>\r\n    <g id=\"xtick_6\">\r\n     <g id=\"line2d_6\">\r\n      <g>\r\n       <use style=\"stroke:#000000;stroke-width:0.8;\" x=\"656.787703\" xlink:href=\"#ma3a4de331f\" y=\"496.44\"/>\r\n      </g>\r\n     </g>\r\n     <g id=\"text_6\">\r\n      <!-- 0 -->\r\n      <g transform=\"translate(653.606453 511.038438)scale(0.1 -0.1)\">\r\n       <defs>\r\n        <path d=\"M 2034 4250 \r\nQ 1547 4250 1301 3770 \r\nQ 1056 3291 1056 2328 \r\nQ 1056 1369 1301 889 \r\nQ 1547 409 2034 409 \r\nQ 2525 409 2770 889 \r\nQ 3016 1369 3016 2328 \r\nQ 3016 3291 2770 3770 \r\nQ 2525 4250 2034 4250 \r\nz\r\nM 2034 4750 \r\nQ 2819 4750 3233 4129 \r\nQ 3647 3509 3647 2328 \r\nQ 3647 1150 3233 529 \r\nQ 2819 -91 2034 -91 \r\nQ 1250 -91 836 529 \r\nQ 422 1150 422 2328 \r\nQ 422 3509 836 4129 \r\nQ 1250 4750 2034 4750 \r\nz\r\n\" id=\"DejaVuSans-30\" transform=\"scale(0.015625)\"/>\r\n       </defs>\r\n       <use xlink:href=\"#DejaVuSans-30\"/>\r\n      </g>\r\n     </g>\r\n    </g>\r\n    <g id=\"xtick_7\">\r\n     <g id=\"line2d_7\">\r\n      <g>\r\n       <use style=\"stroke:#000000;stroke-width:0.8;\" x=\"772.735755\" xlink:href=\"#ma3a4de331f\" y=\"496.44\"/>\r\n      </g>\r\n     </g>\r\n     <g id=\"text_7\">\r\n      <!-- 1 -->\r\n      <g transform=\"translate(769.554505 511.038438)scale(0.1 -0.1)\">\r\n       <use xlink:href=\"#DejaVuSans-31\"/>\r\n      </g>\r\n     </g>\r\n    </g>\r\n    <g id=\"xtick_8\">\r\n     <g id=\"line2d_8\">\r\n      <g>\r\n       <use style=\"stroke:#000000;stroke-width:0.8;\" x=\"888.683807\" xlink:href=\"#ma3a4de331f\" y=\"496.44\"/>\r\n      </g>\r\n     </g>\r\n     <g id=\"text_8\">\r\n      <!-- 2 -->\r\n      <g transform=\"translate(885.502557 511.038438)scale(0.1 -0.1)\">\r\n       <use xlink:href=\"#DejaVuSans-32\"/>\r\n      </g>\r\n     </g>\r\n    </g>\r\n   </g>\r\n   <g id=\"matplotlib.axis_2\">\r\n    <g id=\"ytick_1\">\r\n     <g id=\"line2d_9\">\r\n      <defs>\r\n       <path d=\"M 0 0 \r\nL -3.5 0 \r\n\" id=\"m035e82887a\" style=\"stroke:#000000;stroke-width:0.8;\"/>\r\n      </defs>\r\n      <g>\r\n       <use style=\"stroke:#000000;stroke-width:0.8;\" x=\"36.465625\" xlink:href=\"#m035e82887a\" y=\"493.090063\"/>\r\n      </g>\r\n     </g>\r\n     <g id=\"text_9\">\r\n      <!-- 0.11 -->\r\n      <g transform=\"translate(7.2 496.889282)scale(0.1 -0.1)\">\r\n       <defs>\r\n        <path d=\"M 684 794 \r\nL 1344 794 \r\nL 1344 0 \r\nL 684 0 \r\nL 684 794 \r\nz\r\n\" id=\"DejaVuSans-2e\" transform=\"scale(0.015625)\"/>\r\n       </defs>\r\n       <use xlink:href=\"#DejaVuSans-30\"/>\r\n       <use x=\"63.623047\" xlink:href=\"#DejaVuSans-2e\"/>\r\n       <use x=\"95.410156\" xlink:href=\"#DejaVuSans-31\"/>\r\n       <use x=\"159.033203\" xlink:href=\"#DejaVuSans-31\"/>\r\n      </g>\r\n     </g>\r\n    </g>\r\n    <g id=\"ytick_2\">\r\n     <g id=\"line2d_10\">\r\n      <g>\r\n       <use style=\"stroke:#000000;stroke-width:0.8;\" x=\"36.465625\" xlink:href=\"#m035e82887a\" y=\"435.909127\"/>\r\n      </g>\r\n     </g>\r\n     <g id=\"text_10\">\r\n      <!-- 0.12 -->\r\n      <g transform=\"translate(7.2 439.708345)scale(0.1 -0.1)\">\r\n       <use xlink:href=\"#DejaVuSans-30\"/>\r\n       <use x=\"63.623047\" xlink:href=\"#DejaVuSans-2e\"/>\r\n       <use x=\"95.410156\" xlink:href=\"#DejaVuSans-31\"/>\r\n       <use x=\"159.033203\" xlink:href=\"#DejaVuSans-32\"/>\r\n      </g>\r\n     </g>\r\n    </g>\r\n    <g id=\"ytick_3\">\r\n     <g id=\"line2d_11\">\r\n      <g>\r\n       <use style=\"stroke:#000000;stroke-width:0.8;\" x=\"36.465625\" xlink:href=\"#m035e82887a\" y=\"378.72819\"/>\r\n      </g>\r\n     </g>\r\n     <g id=\"text_11\">\r\n      <!-- 0.13 -->\r\n      <g transform=\"translate(7.2 382.527409)scale(0.1 -0.1)\">\r\n       <use xlink:href=\"#DejaVuSans-30\"/>\r\n       <use x=\"63.623047\" xlink:href=\"#DejaVuSans-2e\"/>\r\n       <use x=\"95.410156\" xlink:href=\"#DejaVuSans-31\"/>\r\n       <use x=\"159.033203\" xlink:href=\"#DejaVuSans-33\"/>\r\n      </g>\r\n     </g>\r\n    </g>\r\n    <g id=\"ytick_4\">\r\n     <g id=\"line2d_12\">\r\n      <g>\r\n       <use style=\"stroke:#000000;stroke-width:0.8;\" x=\"36.465625\" xlink:href=\"#m035e82887a\" y=\"321.547254\"/>\r\n      </g>\r\n     </g>\r\n     <g id=\"text_12\">\r\n      <!-- 0.14 -->\r\n      <g transform=\"translate(7.2 325.346472)scale(0.1 -0.1)\">\r\n       <use xlink:href=\"#DejaVuSans-30\"/>\r\n       <use x=\"63.623047\" xlink:href=\"#DejaVuSans-2e\"/>\r\n       <use x=\"95.410156\" xlink:href=\"#DejaVuSans-31\"/>\r\n       <use x=\"159.033203\" xlink:href=\"#DejaVuSans-34\"/>\r\n      </g>\r\n     </g>\r\n    </g>\r\n    <g id=\"ytick_5\">\r\n     <g id=\"line2d_13\">\r\n      <g>\r\n       <use style=\"stroke:#000000;stroke-width:0.8;\" x=\"36.465625\" xlink:href=\"#m035e82887a\" y=\"264.366317\"/>\r\n      </g>\r\n     </g>\r\n     <g id=\"text_13\">\r\n      <!-- 0.15 -->\r\n      <g transform=\"translate(7.2 268.165536)scale(0.1 -0.1)\">\r\n       <use xlink:href=\"#DejaVuSans-30\"/>\r\n       <use x=\"63.623047\" xlink:href=\"#DejaVuSans-2e\"/>\r\n       <use x=\"95.410156\" xlink:href=\"#DejaVuSans-31\"/>\r\n       <use x=\"159.033203\" xlink:href=\"#DejaVuSans-35\"/>\r\n      </g>\r\n     </g>\r\n    </g>\r\n    <g id=\"ytick_6\">\r\n     <g id=\"line2d_14\">\r\n      <g>\r\n       <use style=\"stroke:#000000;stroke-width:0.8;\" x=\"36.465625\" xlink:href=\"#m035e82887a\" y=\"207.185381\"/>\r\n      </g>\r\n     </g>\r\n     <g id=\"text_14\">\r\n      <!-- 0.16 -->\r\n      <g transform=\"translate(7.2 210.984599)scale(0.1 -0.1)\">\r\n       <defs>\r\n        <path d=\"M 2113 2584 \r\nQ 1688 2584 1439 2293 \r\nQ 1191 2003 1191 1497 \r\nQ 1191 994 1439 701 \r\nQ 1688 409 2113 409 \r\nQ 2538 409 2786 701 \r\nQ 3034 994 3034 1497 \r\nQ 3034 2003 2786 2293 \r\nQ 2538 2584 2113 2584 \r\nz\r\nM 3366 4563 \r\nL 3366 3988 \r\nQ 3128 4100 2886 4159 \r\nQ 2644 4219 2406 4219 \r\nQ 1781 4219 1451 3797 \r\nQ 1122 3375 1075 2522 \r\nQ 1259 2794 1537 2939 \r\nQ 1816 3084 2150 3084 \r\nQ 2853 3084 3261 2657 \r\nQ 3669 2231 3669 1497 \r\nQ 3669 778 3244 343 \r\nQ 2819 -91 2113 -91 \r\nQ 1303 -91 875 529 \r\nQ 447 1150 447 2328 \r\nQ 447 3434 972 4092 \r\nQ 1497 4750 2381 4750 \r\nQ 2619 4750 2861 4703 \r\nQ 3103 4656 3366 4563 \r\nz\r\n\" id=\"DejaVuSans-36\" transform=\"scale(0.015625)\"/>\r\n       </defs>\r\n       <use xlink:href=\"#DejaVuSans-30\"/>\r\n       <use x=\"63.623047\" xlink:href=\"#DejaVuSans-2e\"/>\r\n       <use x=\"95.410156\" xlink:href=\"#DejaVuSans-31\"/>\r\n       <use x=\"159.033203\" xlink:href=\"#DejaVuSans-36\"/>\r\n      </g>\r\n     </g>\r\n    </g>\r\n    <g id=\"ytick_7\">\r\n     <g id=\"line2d_15\">\r\n      <g>\r\n       <use style=\"stroke:#000000;stroke-width:0.8;\" x=\"36.465625\" xlink:href=\"#m035e82887a\" y=\"150.004444\"/>\r\n      </g>\r\n     </g>\r\n     <g id=\"text_15\">\r\n      <!-- 0.17 -->\r\n      <g transform=\"translate(7.2 153.803663)scale(0.1 -0.1)\">\r\n       <defs>\r\n        <path d=\"M 525 4666 \r\nL 3525 4666 \r\nL 3525 4397 \r\nL 1831 0 \r\nL 1172 0 \r\nL 2766 4134 \r\nL 525 4134 \r\nL 525 4666 \r\nz\r\n\" id=\"DejaVuSans-37\" transform=\"scale(0.015625)\"/>\r\n       </defs>\r\n       <use xlink:href=\"#DejaVuSans-30\"/>\r\n       <use x=\"63.623047\" xlink:href=\"#DejaVuSans-2e\"/>\r\n       <use x=\"95.410156\" xlink:href=\"#DejaVuSans-31\"/>\r\n       <use x=\"159.033203\" xlink:href=\"#DejaVuSans-37\"/>\r\n      </g>\r\n     </g>\r\n    </g>\r\n    <g id=\"ytick_8\">\r\n     <g id=\"line2d_16\">\r\n      <g>\r\n       <use style=\"stroke:#000000;stroke-width:0.8;\" x=\"36.465625\" xlink:href=\"#m035e82887a\" y=\"92.823508\"/>\r\n      </g>\r\n     </g>\r\n     <g id=\"text_16\">\r\n      <!-- 0.18 -->\r\n      <g transform=\"translate(7.2 96.622726)scale(0.1 -0.1)\">\r\n       <defs>\r\n        <path d=\"M 2034 2216 \r\nQ 1584 2216 1326 1975 \r\nQ 1069 1734 1069 1313 \r\nQ 1069 891 1326 650 \r\nQ 1584 409 2034 409 \r\nQ 2484 409 2743 651 \r\nQ 3003 894 3003 1313 \r\nQ 3003 1734 2745 1975 \r\nQ 2488 2216 2034 2216 \r\nz\r\nM 1403 2484 \r\nQ 997 2584 770 2862 \r\nQ 544 3141 544 3541 \r\nQ 544 4100 942 4425 \r\nQ 1341 4750 2034 4750 \r\nQ 2731 4750 3128 4425 \r\nQ 3525 4100 3525 3541 \r\nQ 3525 3141 3298 2862 \r\nQ 3072 2584 2669 2484 \r\nQ 3125 2378 3379 2068 \r\nQ 3634 1759 3634 1313 \r\nQ 3634 634 3220 271 \r\nQ 2806 -91 2034 -91 \r\nQ 1263 -91 848 271 \r\nQ 434 634 434 1313 \r\nQ 434 1759 690 2068 \r\nQ 947 2378 1403 2484 \r\nz\r\nM 1172 3481 \r\nQ 1172 3119 1398 2916 \r\nQ 1625 2713 2034 2713 \r\nQ 2441 2713 2670 2916 \r\nQ 2900 3119 2900 3481 \r\nQ 2900 3844 2670 4047 \r\nQ 2441 4250 2034 4250 \r\nQ 1625 4250 1398 4047 \r\nQ 1172 3844 1172 3481 \r\nz\r\n\" id=\"DejaVuSans-38\" transform=\"scale(0.015625)\"/>\r\n       </defs>\r\n       <use xlink:href=\"#DejaVuSans-30\"/>\r\n       <use x=\"63.623047\" xlink:href=\"#DejaVuSans-2e\"/>\r\n       <use x=\"95.410156\" xlink:href=\"#DejaVuSans-31\"/>\r\n       <use x=\"159.033203\" xlink:href=\"#DejaVuSans-38\"/>\r\n      </g>\r\n     </g>\r\n    </g>\r\n    <g id=\"ytick_9\">\r\n     <g id=\"line2d_17\">\r\n      <g>\r\n       <use style=\"stroke:#000000;stroke-width:0.8;\" x=\"36.465625\" xlink:href=\"#m035e82887a\" y=\"35.642571\"/>\r\n      </g>\r\n     </g>\r\n     <g id=\"text_17\">\r\n      <!-- 0.19 -->\r\n      <g transform=\"translate(7.2 39.44179)scale(0.1 -0.1)\">\r\n       <defs>\r\n        <path d=\"M 703 97 \r\nL 703 672 \r\nQ 941 559 1184 500 \r\nQ 1428 441 1663 441 \r\nQ 2288 441 2617 861 \r\nQ 2947 1281 2994 2138 \r\nQ 2813 1869 2534 1725 \r\nQ 2256 1581 1919 1581 \r\nQ 1219 1581 811 2004 \r\nQ 403 2428 403 3163 \r\nQ 403 3881 828 4315 \r\nQ 1253 4750 1959 4750 \r\nQ 2769 4750 3195 4129 \r\nQ 3622 3509 3622 2328 \r\nQ 3622 1225 3098 567 \r\nQ 2575 -91 1691 -91 \r\nQ 1453 -91 1209 -44 \r\nQ 966 3 703 97 \r\nz\r\nM 1959 2075 \r\nQ 2384 2075 2632 2365 \r\nQ 2881 2656 2881 3163 \r\nQ 2881 3666 2632 3958 \r\nQ 2384 4250 1959 4250 \r\nQ 1534 4250 1286 3958 \r\nQ 1038 3666 1038 3163 \r\nQ 1038 2656 1286 2365 \r\nQ 1534 2075 1959 2075 \r\nz\r\n\" id=\"DejaVuSans-39\" transform=\"scale(0.015625)\"/>\r\n       </defs>\r\n       <use xlink:href=\"#DejaVuSans-30\"/>\r\n       <use x=\"63.623047\" xlink:href=\"#DejaVuSans-2e\"/>\r\n       <use x=\"95.410156\" xlink:href=\"#DejaVuSans-31\"/>\r\n       <use x=\"159.033203\" xlink:href=\"#DejaVuSans-39\"/>\r\n      </g>\r\n     </g>\r\n    </g>\r\n   </g>\r\n   <g id=\"line2d_18\">\r\n    <path clip-path=\"url(#p66ee792e44)\" d=\"M 77.047443 442.290794 \r\nL 81.109687 431.398909 \r\nL 85.171931 421.043823 \r\nL 89.234175 411.213649 \r\nL 93.296419 401.88824 \r\nL 97.358663 393.041525 \r\nL 101.420908 384.643525 \r\nL 106.2956 375.11287 \r\nL 111.170293 366.125265 \r\nL 116.044986 357.625429 \r\nL 120.919679 349.561933 \r\nL 125.794372 341.889073 \r\nL 131.481514 333.380077 \r\nL 137.168655 325.303239 \r\nL 142.855797 317.627198 \r\nL 148.542939 310.336689 \r\nL 154.23008 303.431666 \r\nL 159.104773 297.829654 \r\nL 163.979466 292.535009 \r\nL 168.854159 287.565994 \r\nL 173.728852 282.942113 \r\nL 177.791096 279.365411 \r\nL 181.85334 276.048219 \r\nL 185.915584 272.994064 \r\nL 189.977828 270.202927 \r\nL 194.040072 267.672393 \r\nL 198.102316 265.398604 \r\nL 202.16456 263.376955 \r\nL 206.226804 261.602554 \r\nL 210.289048 260.070448 \r\nL 214.351292 258.775619 \r\nL 218.413537 257.712751 \r\nL 222.475781 256.875776 \r\nL 226.538025 256.257162 \r\nL 230.600269 255.846966 \r\nL 234.662513 255.631717 \r\nL 239.537206 255.606237 \r\nL 244.411899 255.801545 \r\nL 250.09904 256.257296 \r\nL 256.598631 257.001002 \r\nL 267.160465 258.47834 \r\nL 278.534749 260.020476 \r\nL 285.034339 260.663269 \r\nL 289.909032 260.933402 \r\nL 293.971276 260.970489 \r\nL 298.03352 260.798034 \r\nL 302.095764 260.380463 \r\nL 305.345559 259.846999 \r\nL 308.595355 259.118501 \r\nL 311.84515 258.179804 \r\nL 315.094945 257.017129 \r\nL 318.34474 255.618245 \r\nL 321.594536 253.972615 \r\nL 324.844331 252.07151 \r\nL 328.094126 249.908118 \r\nL 331.343921 247.477618 \r\nL 334.593717 244.777255 \r\nL 337.843512 241.806379 \r\nL 341.093307 238.566488 \r\nL 344.343102 235.061237 \r\nL 348.405347 230.315587 \r\nL 352.467591 225.180657 \r\nL 356.529835 219.677686 \r\nL 360.592079 213.832901 \r\nL 365.466772 206.41189 \r\nL 370.341464 198.605358 \r\nL 376.028606 189.104201 \r\nL 383.340645 176.455725 \r\nL 402.839417 142.431206 \r\nL 408.526559 133.044006 \r\nL 413.401252 125.411756 \r\nL 417.463496 119.42251 \r\nL 421.52574 113.834233 \r\nL 424.775535 109.691524 \r\nL 428.02533 105.87127 \r\nL 431.275125 102.40018 \r\nL 434.524921 99.302523 \r\nL 436.962267 97.23724 \r\nL 439.399614 95.40166 \r\nL 441.83696 93.802205 \r\nL 444.274306 92.444073 \r\nL 446.711653 91.33127 \r\nL 449.148999 90.466656 \r\nL 451.586346 89.852005 \r\nL 454.023692 89.488062 \r\nL 456.461039 89.374612 \r\nL 458.898385 89.510529 \r\nL 461.335731 89.893815 \r\nL 463.773078 90.521628 \r\nL 466.210424 91.39029 \r\nL 468.647771 92.49527 \r\nL 471.085117 93.831156 \r\nL 473.522464 95.391596 \r\nL 475.95981 97.169249 \r\nL 479.209605 99.862676 \r\nL 482.459401 102.904372 \r\nL 485.709196 106.268347 \r\nL 488.958991 109.925966 \r\nL 493.021235 114.864071 \r\nL 497.083479 120.15026 \r\nL 501.958172 126.862761 \r\nL 508.457763 136.258188 \r\nL 519.832046 153.233614 \r\nL 528.768983 166.4076 \r\nL 535.268573 175.610157 \r\nL 540.955715 183.283931 \r\nL 545.830408 189.530106 \r\nL 550.705101 195.442481 \r\nL 555.579794 201.006404 \r\nL 560.454487 206.217864 \r\nL 565.329179 211.082526 \r\nL 570.203872 215.614466 \r\nL 575.078565 219.834584 \r\nL 579.953258 223.768633 \r\nL 584.827951 227.444839 \r\nL 590.515093 231.444957 \r\nL 596.202234 235.172854 \r\nL 602.701825 239.15049 \r\nL 610.013864 243.338069 \r\nL 618.950801 248.177383 \r\nL 643.324265 261.209073 \r\nL 652.261202 266.319987 \r\nL 661.198139 271.694256 \r\nL 670.135076 277.343478 \r\nL 679.072013 283.266539 \r\nL 688.821399 290.001818 \r\nL 712.382415 306.432053 \r\nL 719.694454 311.168787 \r\nL 726.194044 315.110476 \r\nL 732.693635 318.768543 \r\nL 739.193225 322.139405 \r\nL 745.692816 325.246002 \r\nL 753.004855 328.487194 \r\nL 765.191587 333.588877 \r\nL 774.128524 337.425719 \r\nL 780.628115 340.457702 \r\nL 786.315256 343.372357 \r\nL 791.189949 346.110052 \r\nL 796.064642 349.092815 \r\nL 800.939335 352.332816 \r\nL 805.814028 355.836164 \r\nL 810.688721 359.606438 \r\nL 815.563414 363.647545 \r\nL 820.438107 367.966 \r\nL 825.312799 372.572685 \r\nL 830.187492 377.484128 \r\nL 835.062185 382.723346 \r\nL 839.936878 388.320277 \r\nL 844.811571 394.311788 \r\nL 848.873815 399.637267 \r\nL 852.936059 405.295007 \r\nL 856.998303 411.315487 \r\nL 861.060547 417.730799 \r\nL 865.122791 424.573811 \r\nL 869.185035 431.877139 \r\nL 873.247279 439.671899 \r\nL 877.309523 447.986219 \r\nL 881.371768 456.843476 \r\nL 885.434012 466.260241 \r\nL 888.683807 474.201818 \r\nL 888.683807 474.201818 \r\n\" style=\"fill:none;stroke:#1f77b4;stroke-linecap:square;stroke-width:1.5;\"/>\r\n   </g>\r\n   <g id=\"patch_3\">\r\n    <path d=\"M 36.465625 496.44 \r\nL 36.465625 7.2 \r\n\" style=\"fill:none;stroke:#000000;stroke-linecap:square;stroke-linejoin:miter;stroke-width:0.8;\"/>\r\n   </g>\r\n   <g id=\"patch_4\">\r\n    <path d=\"M 929.265625 496.44 \r\nL 929.265625 7.2 \r\n\" style=\"fill:none;stroke:#000000;stroke-linecap:square;stroke-linejoin:miter;stroke-width:0.8;\"/>\r\n   </g>\r\n   <g id=\"patch_5\">\r\n    <path d=\"M 36.465625 496.44 \r\nL 929.265625 496.44 \r\n\" style=\"fill:none;stroke:#000000;stroke-linecap:square;stroke-linejoin:miter;stroke-width:0.8;\"/>\r\n   </g>\r\n   <g id=\"patch_6\">\r\n    <path d=\"M 36.465625 7.2 \r\nL 929.265625 7.2 \r\n\" style=\"fill:none;stroke:#000000;stroke-linecap:square;stroke-linejoin:miter;stroke-width:0.8;\"/>\r\n   </g>\r\n  </g>\r\n </g>\r\n <defs>\r\n  <clipPath id=\"p66ee792e44\">\r\n   <rect height=\"489.24\" width=\"892.8\" x=\"36.465625\" y=\"7.2\"/>\r\n  </clipPath>\r\n </defs>\r\n</svg>\r\n",
      "image/png": "[encoded data removed]"
     },
     "metadata": {
      "needs_background": "light"
     }
    }
   ],
   "metadata": {}
  },
  {
   "cell_type": "markdown",
   "source": [
    "# Training"
   ],
   "metadata": {}
  },
  {
   "cell_type": "markdown",
   "source": [
    "# Evaluation on Test Set"
   ],
   "metadata": {}
  },
  {
   "cell_type": "code",
   "execution_count": null,
   "source": [
    "with open('../data/data_test.pt', 'rb') as file:\r\n",
    "    X_test, y_test = pickle.load(file)\r\n",
    "\r\n",
    "print(f'{X_test.shape = }')\r\n",
    "print(f'{y_test.shape = }')"
   ],
   "outputs": [
    {
     "output_type": "stream",
     "name": "stdout",
     "text": [
      "X_test.shape = (48160, 28)\n",
      "y_test.shape = (48160, 2)\n"
     ]
    }
   ],
   "metadata": {}
  },
  {
   "cell_type": "code",
   "execution_count": null,
   "source": [
    "y_pred_hosp = calibrated_svc_hosp.predict(X_test)\r\n",
    "y_pred_death = calibrated_svc_death.predict(X_test)\r\n",
    "\r\n",
    "y_pred_hosp_proba = calibrated_svc_hosp.predict_proba(X_test)\r\n",
    "y_pred_death_proba = calibrated_svc_death.predict_proba(X_test)"
   ],
   "outputs": [],
   "metadata": {}
  },
  {
   "cell_type": "code",
   "execution_count": null,
   "source": [
    "print(f'binary cross-entropy: {log_loss(y_test[:, 0], y_pred_hosp_proba[:, 1])}')\r\n",
    "print(f'brier loss: {brier_score_loss(y_test[:, 0], y_pred_hosp_proba[:, 1]).round(4)}')\r\n",
    "print(f'accuracy: {accuracy_score(y_test[:, 0], y_pred_hosp).round(4)}')\r\n",
    "print('confusion matrix:')\r\n",
    "print(confusion_matrix(y_test[:, 0], y_pred_hosp))"
   ],
   "outputs": [
    {
     "output_type": "stream",
     "name": "stdout",
     "text": [
      "binary cross-entropy: 0.31185133571250834\n",
      "brier loss: 0.0782\n",
      "accuracy: 0.944\n",
      "confusion matrix:\n",
      "[[45462     0]\n",
      " [ 2698     0]]\n"
     ]
    }
   ],
   "metadata": {}
  },
  {
   "cell_type": "code",
   "execution_count": null,
   "source": [
    "print(f'binary cross-entropy: {log_loss(y_test[:, 1], y_pred_death_proba[:, 1])}')\r\n",
    "print(f'brier loss: {brier_score_loss(y_test[:, 1], y_pred_death_proba[:, 1]).round(4)}')\r\n",
    "print(f'accuracy: {accuracy_score(y_test[:, 1], y_pred_death).round(4)}')\r\n",
    "print('confusion matrix:')\r\n",
    "print(confusion_matrix(y_test[:, 1], y_pred_death))"
   ],
   "outputs": [
    {
     "output_type": "stream",
     "name": "stdout",
     "text": [
      "binary cross-entropy: 0.44064179922524277\n",
      "brier loss: 0.1287\n",
      "accuracy: 0.8202\n",
      "confusion matrix:\n",
      "[[39466  8419]\n",
      " [  241    34]]\n"
     ]
    }
   ],
   "metadata": {}
  }
 ],
 "metadata": {
  "orig_nbformat": 4,
  "language_info": {
   "name": "python",
   "version": "3.9.5",
   "mimetype": "text/x-python",
   "codemirror_mode": {
    "name": "ipython",
    "version": 3
   },
   "pygments_lexer": "ipython3",
   "nbconvert_exporter": "python",
   "file_extension": ".py"
  },
  "kernelspec": {
   "name": "python3",
   "display_name": "Python 3.9.5 64-bit"
  },
  "interpreter": {
   "hash": "68764fea58fce3debd0ec160882a0d43aa3f505a880da5fb9e1c918b12b71a7c"
  }
 },
 "nbformat": 4,
 "nbformat_minor": 2
}