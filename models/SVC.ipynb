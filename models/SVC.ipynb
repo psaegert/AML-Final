{
 "cells": [
  {
   "cell_type": "code",
   "execution_count": 1,
   "source": [
    "import numpy as np\r\n",
    "import pickle\r\n",
    "import time\r\n",
    "\r\n",
    "from tqdm.auto import tqdm\r\n",
    "\r\n",
    "from sklearn.linear_model import SGDClassifier\r\n",
    "from sklearn.calibration import CalibratedClassifierCV\r\n",
    "\r\n",
    "from sklearn.preprocessing import StandardScaler\r\n",
    "from sklearn.model_selection import KFold\r\n",
    "from sklearn.metrics import log_loss, brier_score_loss, accuracy_score, confusion_matrix\r\n",
    "\r\n",
    "import GPy\r\n",
    "import optunity as opt\r\n",
    "import sobol as sb\r\n",
    "\r\n",
    "import scipy.stats as stats\r\n",
    "\r\n",
    "import matplotlib.pyplot as plt"
   ],
   "outputs": [],
   "metadata": {}
  },
  {
   "cell_type": "code",
   "execution_count": 2,
   "source": [
    "retrain = False"
   ],
   "outputs": [],
   "metadata": {}
  },
  {
   "cell_type": "markdown",
   "source": [
    "# Data"
   ],
   "metadata": {}
  },
  {
   "cell_type": "code",
   "execution_count": 3,
   "source": [
    "with open('../data/data_train.pt', 'rb') as file:\r\n",
    "    X_train, y_train = pickle.load(file)\r\n",
    "\r\n",
    "print(f'{X_train.shape = }')\r\n",
    "print(f'{y_train.shape = }')"
   ],
   "outputs": [
    {
     "output_type": "stream",
     "name": "stdout",
     "text": [
      "X_train.shape = (2521156, 28)\n",
      "y_train.shape = (2521156, 2)\n"
     ]
    }
   ],
   "metadata": {}
  },
  {
   "cell_type": "markdown",
   "source": [
    "# Parameter Optimization"
   ],
   "metadata": {}
  },
  {
   "cell_type": "code",
   "execution_count": 4,
   "source": [
    "SGDClassifier_parameters = {\r\n",
    "    'n_jobs': 8,                # use 8 cores\r\n",
    "    'fit_intercept': False,     # data is scaled and centered, we can set fit_intercept=False\r\n",
    "    'tol': 1e-5,                # more accurate than default\r\n",
    "    'shuffle': True,            # shuffle dataset\r\n",
    "    'random_state': 20210927    # with the same random state\r\n",
    "}\r\n",
    "\r\n",
    "CalibratedClassifierCV_parameters = {\r\n",
    "    'n_jobs': 8,\r\n",
    "}"
   ],
   "outputs": [],
   "metadata": {}
  },
  {
   "cell_type": "code",
   "execution_count": 5,
   "source": [
    "hyperparameter_search_space_boundaries = {\r\n",
    "    'log_alpha': [-6, 6], # logarithm of the regularization coefficient\r\n",
    "}"
   ],
   "outputs": [],
   "metadata": {}
  },
  {
   "cell_type": "markdown",
   "source": [
    "## Cross-Validation: Helper Functions"
   ],
   "metadata": {}
  },
  {
   "cell_type": "code",
   "execution_count": 6,
   "source": [
    "def get_mean_CV_Score(score_function, hyperparameters, y_label):\r\n",
    "    assert y_label in ['hosp', 'death']\r\n",
    "    y_index = 0 if y_label == 'hosp' else 1\r\n",
    "\r\n",
    "    log_alpha, = hyperparameters\r\n",
    "\r\n",
    "    kf = KFold(n_splits=5, shuffle=True, random_state=20210927)\r\n",
    "\r\n",
    "    log_loss_list = np.empty(5, dtype=np.float64)\r\n",
    "\r\n",
    "    for split_index, (fit_index, val_index) in enumerate(kf.split(X_train)):\r\n",
    "        # create splits\r\n",
    "        X_fit, X_val = X_train[fit_index], X_train[val_index]\r\n",
    "        y_fit, y_val = y_train[fit_index], y_train[val_index]\r\n",
    "\r\n",
    "        # scale features\r\n",
    "        sc_X_fit = StandardScaler()\r\n",
    "        X_fit_scaled = sc_X_fit.fit_transform(X_fit)\r\n",
    "        X_val_scaled = sc_X_fit.transform(X_val)\r\n",
    "\r\n",
    "        # create classifier\r\n",
    "        base_svc_hosp = SGDClassifier(**SGDClassifier_parameters, alpha=np.exp(log_alpha))\r\n",
    "        calibrated_svc_hosp = CalibratedClassifierCV(base_svc_hosp, **CalibratedClassifierCV_parameters)\r\n",
    "\r\n",
    "        # fit\r\n",
    "        calibrated_svc_hosp.fit(X_fit_scaled, y_fit[:, y_index])\r\n",
    "\r\n",
    "        # evaluate\r\n",
    "        y_pred_proba = calibrated_svc_hosp.predict_proba(X_val_scaled)\r\n",
    "        log_loss_list[split_index] = score_function(y_val[:, y_index], y_pred_proba[:, 1])\r\n",
    "\r\n",
    "    return np.mean(log_loss_list)"
   ],
   "outputs": [],
   "metadata": {}
  },
  {
   "cell_type": "code",
   "execution_count": 7,
   "source": [
    "def expected_improvement(log_alpha, gp):\r\n",
    "    # compute E(q) and Var(q)\r\n",
    "    E_pred, Var_pred = gp.predict_noiseless(np.array([[log_alpha]]))\r\n",
    "\r\n",
    "    # compute gamma with the STD(q)\r\n",
    "    γ = (E_best - E_pred) / np.sqrt(Var_pred)\r\n",
    "\r\n",
    "    # return Expected Improvement\r\n",
    "    return np.sqrt(Var_pred) * (γ * stats.norm.cdf(γ) + stats.norm.pdf(γ))"
   ],
   "outputs": [],
   "metadata": {}
  },
  {
   "cell_type": "code",
   "execution_count": 8,
   "source": [
    "def initialize_GP(n_samples, y_label):\r\n",
    "    assert y_label in ['hosp', 'death']\r\n",
    "\r\n",
    "    Q_init = np.empty((n_samples, 1))\r\n",
    "    E_init = np.empty((n_samples, 1))\r\n",
    "\r\n",
    "    for i in range(n_samples):\r\n",
    "        Q_init[i, :] = sb.i4_sobol(1, i)[0] * (hyperparameter_search_space_boundaries['log_alpha'][1] - hyperparameter_search_space_boundaries['log_alpha'][0]) + hyperparameter_search_space_boundaries['log_alpha'][0]\r\n",
    "\r\n",
    "    for i, (log_alpha, ) in enumerate(tqdm(Q_init)):\r\n",
    "        E_init[i, :] = get_mean_CV_Score(log_loss, (log_alpha,), y_label)\r\n",
    "\r\n",
    "    return Q_init, E_init"
   ],
   "outputs": [],
   "metadata": {}
  },
  {
   "cell_type": "markdown",
   "source": [
    "## Run Optimization"
   ],
   "metadata": {}
  },
  {
   "cell_type": "code",
   "execution_count": 9,
   "source": [
    "initial_n_samples = 16\r\n",
    "additional_n_samples = 64"
   ],
   "outputs": [],
   "metadata": {}
  },
  {
   "cell_type": "code",
   "execution_count": 10,
   "source": [
    "# 2h on i7-6700k @ 4.0GHz\r\n",
    "GP, Q, E = {}, {}, {}\r\n",
    "for y_label in ['hosp', 'death']:\r\n",
    "    if retrain:\r\n",
    "        print(f\"Initializing GP for '{y_label}'...\")\r\n",
    "        time.sleep(0.3)\r\n",
    "        Q[y_label], E[y_label] = initialize_GP(initial_n_samples, y_label)\r\n",
    "\r\n",
    "        print('Training GP...')\r\n",
    "        time.sleep(0.3)\r\n",
    "        for k in tqdm(range(additional_n_samples)):\r\n",
    "\r\n",
    "            # train Gaussian Process\r\n",
    "            GP[y_label] = GPy.models.GPRegression(Q[y_label], E[y_label], kernel=GPy.kern.Matern52(1))\r\n",
    "            GP[y_label].optimize(messages=False)\r\n",
    "\r\n",
    "            # determine E_best (minimum value of E)\r\n",
    "            E_best = np.min(E[y_label])\r\n",
    "\r\n",
    "            # determine q_new (q with maximum expected improvement)\r\n",
    "            optimizer_output = opt.maximize(\r\n",
    "                lambda **kwargs: expected_improvement(gp=GP[y_label], **kwargs),\r\n",
    "                log_alpha=hyperparameter_search_space_boundaries['log_alpha']\r\n",
    "            )[0]\r\n",
    "            q_new = np.array([optimizer_output['log_alpha']]).ravel()\r\n",
    "\r\n",
    "            # add q_new to the training set Q\r\n",
    "            Q[y_label] = np.vstack((Q[y_label], q_new))\r\n",
    "\r\n",
    "            # add value to E\r\n",
    "            E[y_label] = np.vstack((E[y_label], get_mean_CV_Score(log_loss, q_new, y_label).reshape(-1, 1)))\r\n",
    "\r\n",
    "        print('Completed Training')\r\n",
    "        print('Storing Results...')\r\n",
    "        with open(f'../hyperparameter_results/SVC_{y_label}.pt', 'wb') as file:\r\n",
    "            pickle.dump((Q[y_label], E[y_label]), file)\r\n",
    "        print('Stored Results...')\r\n",
    "\r\n",
    "    else:\r\n",
    "        print(f'Loading Results ({y_label})...')\r\n",
    "        with open(f'../hyperparameter_results/SVC_{y_label}.pt', 'rb') as file:\r\n",
    "            Q[y_label], E[y_label] = pickle.load(file)\r\n",
    "        print(f'Loaded Results ({y_label})')\r\n",
    "\r\n",
    "    GP[y_label] = GPy.models.GPRegression(Q[y_label], E[y_label], kernel=GPy.kern.Matern52(1))\r\n",
    "    GP[y_label].optimize(messages=False);"
   ],
   "outputs": [
    {
     "output_type": "stream",
     "name": "stdout",
     "text": [
      "Loading Results (hosp)...\n",
      "Loaded Results (hosp)\n",
      "Loading Results (death)...\n",
      "Loaded Results (death)\n"
     ]
    }
   ],
   "metadata": {}
  },
  {
   "cell_type": "markdown",
   "source": [
    "## GP-Prediction"
   ],
   "metadata": {}
  },
  {
   "cell_type": "code",
   "execution_count": 11,
   "source": [
    "log_alpha_linspace = np.linspace(*np.array(hyperparameter_search_space_boundaries['log_alpha']) * np.array([1.1, 1.1]), 1000)\r\n",
    "\r\n",
    "GP_predicted_log_loss_mean, GP_predicted_log_loss_std = {}, {}\r\n",
    "for y_label in ['hosp', 'death']:\r\n",
    "    GP_predicted_log_loss_mean[y_label], GP_predicted_log_loss_var = GP[y_label].predict_noiseless(log_alpha_linspace.reshape(-1, 1))\r\n",
    "    GP_predicted_log_loss_std[y_label] = np.sqrt(GP_predicted_log_loss_var)"
   ],
   "outputs": [],
   "metadata": {}
  },
  {
   "cell_type": "markdown",
   "source": [
    "## Find 'Best' Hyperparameter"
   ],
   "metadata": {}
  },
  {
   "cell_type": "code",
   "execution_count": 12,
   "source": [
    "def GP_log_loss_upper_confidence_bound(log_alpha, gp):\r\n",
    "    mean, var = gp.predict_noiseless(np.array([[log_alpha]]))\r\n",
    "    return mean + np.std(var)"
   ],
   "outputs": [],
   "metadata": {}
  },
  {
   "cell_type": "code",
   "execution_count": 13,
   "source": [
    "GP_best_hyperparameter_prediction = {}\r\n",
    "for y_label in ['hosp', 'death']:\r\n",
    "    GP_best_hyperparameter_prediction[y_label] = opt.minimize(\r\n",
    "        lambda **kwargs: GP_log_loss_upper_confidence_bound(gp=GP[y_label], **kwargs),\r\n",
    "        log_alpha=hyperparameter_search_space_boundaries['log_alpha']\r\n",
    "    )[0]\r\n",
    "\r\n",
    "hyperparameter_best_upper_confidence_bound = {\r\n",
    "    y_label: {\r\n",
    "        'alpha': np.exp(GP_best_hyperparameter_prediction[y_label]['log_alpha'])\r\n",
    "    }\r\n",
    "    for y_label in ['hosp', 'death']\r\n",
    "}"
   ],
   "outputs": [],
   "metadata": {}
  },
  {
   "cell_type": "markdown",
   "source": [
    "## GP-Crossvalidation Results"
   ],
   "metadata": {}
  },
  {
   "cell_type": "code",
   "execution_count": 14,
   "source": [
    "fig, axes = plt.subplots(1, 2, figsize=(30, 9))\r\n",
    "\r\n",
    "for i, y_label in enumerate(['hosp', 'death']):\r\n",
    "    axes[i].scatter(np.exp(Q[y_label][:10, 0]), E[y_label][:10, 0], color='tab:orange', label='Initial GP')\r\n",
    "    axes[i].scatter(np.exp(Q[y_label][10:, 0]), E[y_label][10:, 0], color='tab:blue', label='Trained GP')\r\n",
    "\r\n",
    "    axes[i].plot(np.exp(log_alpha_linspace), GP_predicted_log_loss_mean[y_label][:, 0], color='black', alpha=0.5, label=r'Predicted Log Loss by GP ($\\pm$ STD)')\r\n",
    "    axes[i].fill_between(np.exp(log_alpha_linspace), GP_predicted_log_loss_mean[y_label][:, 0] - GP_predicted_log_loss_std[y_label][:, 0], GP_predicted_log_loss_mean[y_label][:, 0] + GP_predicted_log_loss_std[y_label][:, 0], color='black', alpha=0.2)\r\n",
    "\r\n",
    "    axes[i].axvline(hyperparameter_best_upper_confidence_bound[y_label]['alpha'], color='tab:green', label=r'$\\alpha$ =' + f' {np.round(hyperparameter_best_upper_confidence_bound[y_label][\"alpha\"], 3)} (Best Upper Confidence Bound)')\r\n",
    "\r\n",
    "    axes[i].set_xscale('log'); axes[i].set_xlim(np.exp(np.min(log_alpha_linspace)), np.exp(np.max(log_alpha_linspace)))\r\n",
    "    axes[i].set_xlabel(r'Regularization $\\alpha$'); axes[i].set_ylabel('Log Loss (Binary Crossentropy)'); axes[i].set_title(f'SVC Hyperparameter Optimization ({y_label})')\r\n",
    "    axes[i].legend();"
   ],
   "outputs": [
    {
     "output_type": "display_data",
     "data": {
      "image/png": "[encoded data removed]",
      "text/plain": [
       "<Figure size 2160x648 with 2 Axes>"
      ]
     },
     "metadata": {
      "needs_background": "light"
     }
    }
   ],
   "metadata": {}
  },
  {
   "cell_type": "markdown",
   "source": [
    "# Final Training"
   ],
   "metadata": {}
  },
  {
   "cell_type": "code",
   "execution_count": 15,
   "source": [
    "# scale features\r\n",
    "sc_X_train = StandardScaler()\r\n",
    "X_train_scaled = sc_X_train.fit_transform(X_train)\r\n",
    "\r\n",
    "# create classifier\r\n",
    "base_svc = {y_label: SGDClassifier(**SGDClassifier_parameters, alpha=hyperparameter_best_upper_confidence_bound[y_label]['alpha']) for y_label in ['hosp', 'death']}\r\n",
    "calibrated_svc = {y_label: CalibratedClassifierCV(base_svc[y_label], **CalibratedClassifierCV_parameters) for y_label in ['hosp', 'death']}\r\n",
    "\r\n",
    "# fit\r\n",
    "for i, y_label in enumerate(['hosp', 'death']):\r\n",
    "    calibrated_svc[y_label].fit(X_train_scaled, y_train[:, i]);"
   ],
   "outputs": [],
   "metadata": {}
  },
  {
   "cell_type": "markdown",
   "source": [
    "# Evaluation on Test Set"
   ],
   "metadata": {}
  },
  {
   "cell_type": "code",
   "execution_count": 16,
   "source": [
    "with open('../data/data_test.pt', 'rb') as file:\r\n",
    "    X_test, y_test = pickle.load(file)\r\n",
    "\r\n",
    "print(f'{X_test.shape = }')\r\n",
    "print(f'{y_test.shape = }')\r\n",
    "\r\n",
    "X_test_scaled = sc_X_train.transform(X_test)"
   ],
   "outputs": [
    {
     "output_type": "stream",
     "name": "stdout",
     "text": [
      "X_test.shape = (630290, 28)\n",
      "y_test.shape = (630290, 2)\n"
     ]
    }
   ],
   "metadata": {}
  },
  {
   "cell_type": "code",
   "execution_count": 17,
   "source": [
    "evaluation_results = {}\r\n",
    "\r\n",
    "for i, y_label in enumerate(['hosp', 'death']):\r\n",
    "    print(f'--- {y_label} ---')\r\n",
    "\r\n",
    "    y_pred_proba = calibrated_svc[y_label].predict_proba(X_test_scaled)\r\n",
    "    evaluation_results[y_label] = y_pred_proba\r\n",
    "    y_pred = calibrated_svc[y_label].predict(X_test_scaled)\r\n",
    "\r\n",
    "    print(f'binary cross-entropy: {np.round(log_loss(y_test[:, i], y_pred_proba[:, 1]), 4)}')\r\n",
    "    print(f'brier loss: {brier_score_loss(y_test[:, i], y_pred_proba[:, 1]).round(4)}')\r\n",
    "    print(f'accuracy: {accuracy_score(y_test[:, i], y_pred).round(4)}')\r\n",
    "    print('confusion matrix:')\r\n",
    "    print(confusion_matrix(y_test[:, i], y_pred))\r\n",
    "    print()"
   ],
   "outputs": [
    {
     "output_type": "stream",
     "name": "stdout",
     "text": [
      "--- hosp ---\n",
      "binary cross-entropy: 0.2133\n",
      "brier loss: 0.0576\n",
      "accuracy: 0.9313\n",
      "confusion matrix:\n",
      "[[585207    415]\n",
      " [ 42890   1778]]\n",
      "\n",
      "--- death ---\n",
      "binary cross-entropy: 0.0435\n",
      "brier loss: 0.0111\n",
      "accuracy: 0.9874\n",
      "confusion matrix:\n",
      "[[621044    442]\n",
      " [  7513   1291]]\n",
      "\n"
     ]
    }
   ],
   "metadata": {}
  },
  {
   "cell_type": "code",
   "execution_count": 18,
   "source": [
    "with open('../evaluation_results/SVC.pt', 'wb') as file:\r\n",
    "    pickle.dump(y_pred_proba, file)"
   ],
   "outputs": [],
   "metadata": {}
  },
  {
   "cell_type": "markdown",
   "source": [
    "# Observations"
   ],
   "metadata": {}
  },
  {
   "cell_type": "markdown",
   "source": [
    "much more false negatives than false positives"
   ],
   "metadata": {}
  }
 ],
 "metadata": {
  "orig_nbformat": 4,
  "language_info": {
   "name": "python",
   "version": "3.9.5",
   "mimetype": "text/x-python",
   "codemirror_mode": {
    "name": "ipython",
    "version": 3
   },
   "pygments_lexer": "ipython3",
   "nbconvert_exporter": "python",
   "file_extension": ".py"
  },
  "kernelspec": {
   "name": "python3",
   "display_name": "Python 3.9.5 64-bit"
  },
  "interpreter": {
   "hash": "68764fea58fce3debd0ec160882a0d43aa3f505a880da5fb9e1c918b12b71a7c"
  }
 },
 "nbformat": 4,
 "nbformat_minor": 2
}