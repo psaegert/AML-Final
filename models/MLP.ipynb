{
 "cells": [
  {
   "cell_type": "markdown",
   "metadata": {
    "id": "5qdkNMMEJZ-F"
   },
   "source": [
    "# Setup"
   ]
  },
  {
   "cell_type": "code",
   "execution_count": 59,
   "metadata": {
    "colab": {
     "base_uri": "https://localhost:8080/"
    },
    "id": "1Ah8rmaWBd2D",
    "outputId": "195a76c2-a3e2-42f4-dc59-3c4faa3a3c1d"
   },
   "outputs": [
    {
     "name": "stdout",
     "output_type": "stream",
     "text": [
      "Drive already mounted at /content/drive; to attempt to forcibly remount, call drive.mount(\"/content/drive\", force_remount=True).\n"
     ]
    }
   ],
   "source": [
    "import pandas as pd\n",
    "import numpy as np\n",
    "from tqdm import tqdm\n",
    "import torch\n",
    "import torch.nn as nn\n",
    "from sklearn.metrics import brier_score_loss\n",
    "import matplotlib.pyplot as plt\n",
    "from google.colab import drive\n",
    "drive.mount('/content/drive')"
   ]
  },
  {
   "cell_type": "code",
   "execution_count": 60,
   "metadata": {
    "colab": {
     "base_uri": "https://localhost:8080/",
     "height": 226
    },
    "id": "KTeswJ9JBmq2",
    "outputId": "6ed38cfc-212b-4441-9ee5-520bdf1800d8"
   },
   "outputs": [
    {
     "data": {
      "text/html": [
       "<div>\n",
       "<style scoped>\n",
       "    .dataframe tbody tr th:only-of-type {\n",
       "        vertical-align: middle;\n",
       "    }\n",
       "\n",
       "    .dataframe tbody tr th {\n",
       "        vertical-align: top;\n",
       "    }\n",
       "\n",
       "    .dataframe thead th {\n",
       "        text-align: right;\n",
       "    }\n",
       "</style>\n",
       "<table border=\"1\" class=\"dataframe\">\n",
       "  <thead>\n",
       "    <tr style=\"text-align: right;\">\n",
       "      <th></th>\n",
       "      <th>hosp_yn</th>\n",
       "      <th>death_yn</th>\n",
       "      <th>sex_female</th>\n",
       "      <th>age_0</th>\n",
       "      <th>age_18</th>\n",
       "      <th>age_50</th>\n",
       "      <th>age_65</th>\n",
       "      <th>race_native</th>\n",
       "      <th>race_asian</th>\n",
       "      <th>race_black</th>\n",
       "      <th>race_other</th>\n",
       "      <th>race_native_pacific</th>\n",
       "      <th>race_white</th>\n",
       "      <th>ethnicity_hispanic</th>\n",
       "      <th>case_month</th>\n",
       "      <th>state_fips_code</th>\n",
       "      <th>county_fips_code</th>\n",
       "      <th>case_onset_interval</th>\n",
       "      <th>symptom_status</th>\n",
       "      <th>used_bed_ratio</th>\n",
       "      <th>used_icu_ratio</th>\n",
       "    </tr>\n",
       "  </thead>\n",
       "  <tbody>\n",
       "    <tr>\n",
       "      <th>0</th>\n",
       "      <td>False</td>\n",
       "      <td>False</td>\n",
       "      <td>True</td>\n",
       "      <td>False</td>\n",
       "      <td>True</td>\n",
       "      <td>False</td>\n",
       "      <td>False</td>\n",
       "      <td>False</td>\n",
       "      <td>True</td>\n",
       "      <td>False</td>\n",
       "      <td>False</td>\n",
       "      <td>False</td>\n",
       "      <td>False</td>\n",
       "      <td>True</td>\n",
       "      <td>2021-02</td>\n",
       "      <td>34</td>\n",
       "      <td>34003</td>\n",
       "      <td>0</td>\n",
       "      <td>True</td>\n",
       "      <td>0.718141</td>\n",
       "      <td>0.451212</td>\n",
       "    </tr>\n",
       "    <tr>\n",
       "      <th>1</th>\n",
       "      <td>False</td>\n",
       "      <td>False</td>\n",
       "      <td>True</td>\n",
       "      <td>False</td>\n",
       "      <td>True</td>\n",
       "      <td>False</td>\n",
       "      <td>False</td>\n",
       "      <td>False</td>\n",
       "      <td>False</td>\n",
       "      <td>False</td>\n",
       "      <td>True</td>\n",
       "      <td>False</td>\n",
       "      <td>False</td>\n",
       "      <td>True</td>\n",
       "      <td>2021-02</td>\n",
       "      <td>51</td>\n",
       "      <td>51700</td>\n",
       "      <td>0</td>\n",
       "      <td>True</td>\n",
       "      <td>0.746529</td>\n",
       "      <td>0.774469</td>\n",
       "    </tr>\n",
       "    <tr>\n",
       "      <th>2</th>\n",
       "      <td>False</td>\n",
       "      <td>False</td>\n",
       "      <td>True</td>\n",
       "      <td>False</td>\n",
       "      <td>True</td>\n",
       "      <td>False</td>\n",
       "      <td>False</td>\n",
       "      <td>False</td>\n",
       "      <td>False</td>\n",
       "      <td>False</td>\n",
       "      <td>False</td>\n",
       "      <td>False</td>\n",
       "      <td>True</td>\n",
       "      <td>True</td>\n",
       "      <td>2021-02</td>\n",
       "      <td>51</td>\n",
       "      <td>51540</td>\n",
       "      <td>0</td>\n",
       "      <td>True</td>\n",
       "      <td>0.866410</td>\n",
       "      <td>0.755197</td>\n",
       "    </tr>\n",
       "    <tr>\n",
       "      <th>3</th>\n",
       "      <td>False</td>\n",
       "      <td>False</td>\n",
       "      <td>True</td>\n",
       "      <td>False</td>\n",
       "      <td>True</td>\n",
       "      <td>False</td>\n",
       "      <td>False</td>\n",
       "      <td>False</td>\n",
       "      <td>False</td>\n",
       "      <td>False</td>\n",
       "      <td>False</td>\n",
       "      <td>False</td>\n",
       "      <td>True</td>\n",
       "      <td>True</td>\n",
       "      <td>2020-08</td>\n",
       "      <td>36</td>\n",
       "      <td>36013</td>\n",
       "      <td>0</td>\n",
       "      <td>True</td>\n",
       "      <td>0.761232</td>\n",
       "      <td>0.659091</td>\n",
       "    </tr>\n",
       "    <tr>\n",
       "      <th>4</th>\n",
       "      <td>False</td>\n",
       "      <td>False</td>\n",
       "      <td>True</td>\n",
       "      <td>False</td>\n",
       "      <td>True</td>\n",
       "      <td>False</td>\n",
       "      <td>False</td>\n",
       "      <td>False</td>\n",
       "      <td>False</td>\n",
       "      <td>False</td>\n",
       "      <td>False</td>\n",
       "      <td>False</td>\n",
       "      <td>True</td>\n",
       "      <td>True</td>\n",
       "      <td>2020-12</td>\n",
       "      <td>39</td>\n",
       "      <td>39023</td>\n",
       "      <td>0</td>\n",
       "      <td>True</td>\n",
       "      <td>0.660607</td>\n",
       "      <td>0.855514</td>\n",
       "    </tr>\n",
       "  </tbody>\n",
       "</table>\n",
       "</div>"
      ],
      "text/plain": [
       "   hosp_yn  death_yn  ...  used_bed_ratio  used_icu_ratio\n",
       "0    False     False  ...        0.718141        0.451212\n",
       "1    False     False  ...        0.746529        0.774469\n",
       "2    False     False  ...        0.866410        0.755197\n",
       "3    False     False  ...        0.761232        0.659091\n",
       "4    False     False  ...        0.660607        0.855514\n",
       "\n",
       "[5 rows x 21 columns]"
      ]
     },
     "execution_count": 60,
     "metadata": {},
     "output_type": "execute_result"
    }
   ],
   "source": [
    "df = pd.read_csv('/content/drive/MyDrive/Colab_Projects/AML_final_project/data_geo_hos.csv')\n",
    "df.head()"
   ]
  },
  {
   "cell_type": "markdown",
   "metadata": {
    "id": "GdlPzosgJf51"
   },
   "source": [
    "# Prepare Training- and Test Data"
   ]
  },
  {
   "cell_type": "code",
   "execution_count": 61,
   "metadata": {
    "id": "w-IiafIcCEn2"
   },
   "outputs": [],
   "source": [
    "df = df.drop(columns = ['ethnicity_hispanic', 'case_month', 'state_fips_code', 'county_fips_code', 'case_onset_interval', 'symptom_status'])\n",
    "df = df.replace({False: 0., True: 1.})\n",
    "df = df.sample(frac=1)\n",
    "\n",
    "data = torch.tensor(df.values, dtype = torch.float)\n",
    "\n",
    "TRAIN_SPLIT = 0.8\n",
    "train_size = int(TRAIN_SPLIT*data.shape[0])\n",
    "\n",
    "data_train = data[:train_size]\n",
    "data_test  = data[train_size:]"
   ]
  },
  {
   "cell_type": "markdown",
   "metadata": {
    "id": "H8GNe9WLJm2o"
   },
   "source": [
    "# Create Network Model"
   ]
  },
  {
   "cell_type": "code",
   "execution_count": 62,
   "metadata": {
    "id": "aPl8B_o9Dsiw"
   },
   "outputs": [],
   "source": [
    "class MLP(nn.Module):\n",
    "  '''implements a multilayer perceptron with sigmoid output activation\n",
    "     input_dim    --> dimension of input vector (number of dataframe columns)\n",
    "     hidden_dim   --> dimension of hidden layers\n",
    "     hidden_depth --> number of hidden layers '''\n",
    "\n",
    "  def __init__(self, input_dim, hidden_dim, hidden_depth):\n",
    "    super(MLP, self).__init__()\n",
    "\n",
    "    self.input_dim    = input_dim\n",
    "    self.hidden_dim   = hidden_dim\n",
    "    self.hidden_depth = hidden_depth\n",
    "\n",
    "    self.layers = nn.ModuleDict()\n",
    "\n",
    "    self.layers['fcl_in'] = nn.Linear(self.input_dim, self.hidden_dim) \n",
    "\n",
    "    for i in range(self.hidden_depth):\n",
    "      self.layers['fcl_hidden_' + str(i)] = nn.Linear(self.hidden_dim, self.hidden_dim)\n",
    "\n",
    "    self.layers['fcl_out']  = nn.Linear(self.hidden_dim, 2)\n",
    "\n",
    "\n",
    "  def forward(self, x):\n",
    "    x = nn.functional.relu(self.layers['fcl_in'](x))\n",
    "\n",
    "    for i in range(self.hidden_depth):\n",
    "      x = nn.functional.relu(self.layers['fcl_hidden_' + str(i)](x))\n",
    "\n",
    "    x = torch.sigmoid(self.layers['fcl_out'](x))\n",
    "\n",
    "    return x"
   ]
  },
  {
   "cell_type": "markdown",
   "metadata": {
    "id": "fmfe66ORJ2KL"
   },
   "source": [
    "# Tune Hyperparameters"
   ]
  },
  {
   "cell_type": "code",
   "execution_count": 71,
   "metadata": {
    "id": "68Xh6_IzAjug"
   },
   "outputs": [],
   "source": [
    "INPUT_DIM     = df.drop(columns = ['hosp_yn', 'death_yn']).shape[1]\n",
    "HIDDEN_DIM    = 128\n",
    "HIDDEN_DEPTH  = 5\n",
    "BATCH_SIZE    = 128\n",
    "N_EPOCHS      = 12\n",
    "LEARNING_RATE = 0.001\n",
    "LOSS          = nn.BCELoss() # (Binary Cross Entropy)"
   ]
  },
  {
   "cell_type": "markdown",
   "metadata": {
    "id": "wmn04PwXJ95z"
   },
   "source": [
    "# Train Network"
   ]
  },
  {
   "cell_type": "code",
   "execution_count": 68,
   "metadata": {
    "colab": {
     "base_uri": "https://localhost:8080/"
    },
    "id": "IILjQqJK_NsP",
    "outputId": "ca5912d2-26a8-4790-af27-8aed71481666"
   },
   "outputs": [
    {
     "name": "stdout",
     "output_type": "stream",
     "text": [
      "epoch 1: "
     ]
    },
    {
     "name": "stderr",
     "output_type": "stream",
     "text": [
      "100%|██████████| 19697/19697 [00:50<00:00, 389.02it/s]\n"
     ]
    },
    {
     "name": "stdout",
     "output_type": "stream",
     "text": [
      "epoch 2: "
     ]
    },
    {
     "name": "stderr",
     "output_type": "stream",
     "text": [
      "100%|██████████| 19697/19697 [00:50<00:00, 393.32it/s]\n"
     ]
    },
    {
     "name": "stdout",
     "output_type": "stream",
     "text": [
      "epoch 3: "
     ]
    },
    {
     "name": "stderr",
     "output_type": "stream",
     "text": [
      "100%|██████████| 19697/19697 [00:49<00:00, 399.30it/s]\n"
     ]
    },
    {
     "name": "stdout",
     "output_type": "stream",
     "text": [
      "epoch 4: "
     ]
    },
    {
     "name": "stderr",
     "output_type": "stream",
     "text": [
      "100%|██████████| 19697/19697 [00:50<00:00, 390.65it/s]\n"
     ]
    },
    {
     "name": "stdout",
     "output_type": "stream",
     "text": [
      "epoch 5: "
     ]
    },
    {
     "name": "stderr",
     "output_type": "stream",
     "text": [
      "100%|██████████| 19697/19697 [00:50<00:00, 391.92it/s]\n"
     ]
    },
    {
     "name": "stdout",
     "output_type": "stream",
     "text": [
      "epoch 6: "
     ]
    },
    {
     "name": "stderr",
     "output_type": "stream",
     "text": [
      "100%|██████████| 19697/19697 [00:49<00:00, 394.46it/s]\n"
     ]
    },
    {
     "name": "stdout",
     "output_type": "stream",
     "text": [
      "epoch 7: "
     ]
    },
    {
     "name": "stderr",
     "output_type": "stream",
     "text": [
      "100%|██████████| 19697/19697 [00:50<00:00, 391.35it/s]\n"
     ]
    },
    {
     "name": "stdout",
     "output_type": "stream",
     "text": [
      "epoch 8: "
     ]
    },
    {
     "name": "stderr",
     "output_type": "stream",
     "text": [
      "100%|██████████| 19697/19697 [00:50<00:00, 393.39it/s]\n"
     ]
    },
    {
     "name": "stdout",
     "output_type": "stream",
     "text": [
      "epoch 9: "
     ]
    },
    {
     "name": "stderr",
     "output_type": "stream",
     "text": [
      "100%|██████████| 19697/19697 [00:51<00:00, 385.16it/s]\n"
     ]
    },
    {
     "name": "stdout",
     "output_type": "stream",
     "text": [
      "epoch 10: "
     ]
    },
    {
     "name": "stderr",
     "output_type": "stream",
     "text": [
      "100%|██████████| 19697/19697 [00:51<00:00, 384.18it/s]\n"
     ]
    },
    {
     "name": "stdout",
     "output_type": "stream",
     "text": [
      "epoch 11: "
     ]
    },
    {
     "name": "stderr",
     "output_type": "stream",
     "text": [
      "100%|██████████| 19697/19697 [00:51<00:00, 383.14it/s]\n"
     ]
    },
    {
     "name": "stdout",
     "output_type": "stream",
     "text": [
      "epoch 12: "
     ]
    },
    {
     "name": "stderr",
     "output_type": "stream",
     "text": [
      "100%|██████████| 19697/19697 [00:51<00:00, 379.68it/s]\n"
     ]
    }
   ],
   "source": [
    "loss_train  = []\n",
    "loss_test   = []\n",
    "\n",
    "brier_train = []\n",
    "brier_test  = []\n",
    "\n",
    "# initializing network and optimizer\n",
    "net = MLP(INPUT_DIM, HIDDEN_DIM, HIDDEN_DEPTH)\n",
    "optim = torch.optim.SGD(net.parameters(), lr = LEARNING_RATE)\n",
    "\n",
    "# create dataloader\n",
    "train_generator = torch.utils.data.DataLoader(dataset = data_train, batch_size = BATCH_SIZE, shuffle = True)\n",
    "\n",
    "for i in range(N_EPOCHS):\n",
    "  print(\"epoch \" + str(i+1) + \":\", end=\" \")\n",
    "\n",
    "  for batch in tqdm(train_generator, leave = True, position = 0):\n",
    "\n",
    "    optim.zero_grad()\n",
    "\n",
    "    target     = batch[:,[0,1]]\n",
    "    prediction = net(batch[:, 2:]) \n",
    "\n",
    "    loss = LOSS(prediction, target)\n",
    "    loss.backward()\n",
    "\n",
    "    optim.step()\n",
    "  \n",
    "  # record loss and brier score after every epoch\n",
    "  with torch.no_grad():\n",
    "    target_train     = data_train[:,[0,1]]\n",
    "    target_test      = data_test[:,[0,1]]\n",
    "    \n",
    "    prediction_train = net(data_train[:, 2:])\n",
    "    prediction_test  = net(data_test[:, 2:])\n",
    "    \n",
    "    loss_train.append(LOSS(prediction_train, target_train))\n",
    "    loss_test.append(LOSS(prediction_test, target_test))\n",
    "\n",
    "    brier_train.append([brier_score_loss(target_train[:,0], prediction_train[:,0]), brier_score_loss(target_train[:,1], prediction_train[:,1])])\n",
    "    brier_test.append([brier_score_loss(target_test[:,0], prediction_test[:,0]), brier_score_loss(target_test[:,1], prediction_test[:,1])])\n"
   ]
  },
  {
   "cell_type": "markdown",
   "metadata": {
    "id": "57t9KYj8KFZI"
   },
   "source": [
    "# Evaluate Performance"
   ]
  },
  {
   "cell_type": "code",
   "execution_count": 69,
   "metadata": {
    "colab": {
     "base_uri": "https://localhost:8080/",
     "height": 797
    },
    "id": "BRrNMzBcUpsr",
    "outputId": "5ed65914-c806-4b76-d367-0188161eedc1"
   },
   "outputs": [
    {
     "data": {
      "image/png": "[encoded data removed]",
      "text/plain": [
       "<Figure size 1080x720 with 4 Axes>"
      ]
     },
     "metadata": {
      "needs_background": "light"
     },
     "output_type": "display_data"
    },
    {
     "name": "stdout",
     "output_type": "stream",
     "text": [
      "final cross entropy loss on test set:  0.13375506\n",
      "final brier score loss on test set (hospitalization):  0.05929059854515798\n",
      "final brier score loss on test set (fatality):  0.012769281952133732\n"
     ]
    }
   ],
   "source": [
    "loss_train  = np.array(loss_train)\n",
    "loss_test   = np.array(loss_test)\n",
    "brier_train = np.array(brier_train)\n",
    "brier_test  = np.array(brier_test)\n",
    "\n",
    "x = list(range(1, N_EPOCHS +1))\n",
    "\n",
    "fig, ax = plt.subplots(2,2, figsize = (15, 10), constrained_layout=True)\n",
    "\n",
    "ax[0][0].plot(x, loss_train, label = \"training set\")\n",
    "ax[0][0].plot(x, loss_test, label = \"test set\")\n",
    "ax[0][0].set_xlabel(\"epoch\", fontsize = 14)\n",
    "ax[0][0].set_title(\"Binary Cross Entropy Loss\", fontsize = 14, fontweight=\"bold\")\n",
    "ax[0][0].legend(fontsize = 14)\n",
    "\n",
    "ax[0][1].axis(\"off\")\n",
    "\n",
    "ax[1][0].plot(x, brier_train[:,0], label = \"training set\")\n",
    "ax[1][0].plot(x, brier_test[:,0], label = \"test set\")\n",
    "ax[1][0].set_xlabel(\"epoch\", fontsize = 14)\n",
    "ax[1][0].set_title(\"Brier Score Loss; Hospitalization\", fontsize = 14, fontweight=\"bold\")\n",
    "ax[1][0].legend(fontsize = 14)\n",
    "\n",
    "ax[1][1].plot(x, brier_train[:,1], label = \"training set\")\n",
    "ax[1][1].plot(x, brier_test[:,1], label = \"test set\")\n",
    "ax[1][1].set_xlabel(\"epoch\", fontsize = 14)\n",
    "ax[1][1].set_title(\"Brier Score Loss; Fatality\", fontsize = 14, fontweight=\"bold\")\n",
    "ax[1][1].legend(fontsize = 14)\n",
    "\n",
    "plt.show()\n",
    "\n",
    "print(\"final cross entropy loss on test set: \", loss_test[-1])\n",
    "print(\"final brier score loss on test set (hospitalization): \", brier_test[-1,0])\n",
    "print(\"final brier score loss on test set (fatality): \", brier_test[-1,1])"
   ]
  },
  {
   "cell_type": "code",
   "execution_count": 70,
   "metadata": {
    "colab": {
     "base_uri": "https://localhost:8080/"
    },
    "id": "BUn3ywLiRE7_",
    "outputId": "b4f17efb-a329-413d-93f5-96e905206796"
   },
   "outputs": [
    {
     "name": "stdout",
     "output_type": "stream",
     "text": [
      "case_1 (young)\n",
      "probability of hospitalization:  2.56 %\n",
      "probability of death:  0.03 %\n",
      "\n",
      "\n",
      "case_2 (old)\n",
      "probability of hospitalization:  30.03 %\n",
      "probability of death:  12.11 %\n"
     ]
    }
   ],
   "source": [
    "# check wether the network produces reasonable results for simple test cases:\n",
    "# case_1 -> male, <18 years old, white\n",
    "# case_2 -> male, 65+ years old, white\n",
    "case_1 = torch.tensor([0., 1., 0., 0., 0., 0., 0., 0., 0., 0., 1., 0.718141, 0.451212]) # young\n",
    "case_2 = torch.tensor([0., 0., 0., 0., 1., 0., 0., 0., 0., 0., 1., 0.718141, 0.451212]) # old\n",
    "\n",
    "hosp_1, fata_1 = net(case_1)\n",
    "hosp_2, fata_2 = net(case_2)\n",
    "\n",
    "hosp_1 = round(100*hosp_1.item(), 2)\n",
    "fata_1 = round(100*fata_1.item(), 2)\n",
    "hosp_2 = round(100*hosp_2.item(), 2)\n",
    "fata_2 = round(100*fata_2.item(), 2)\n",
    "\n",
    "print(\"case_1 (young)\")\n",
    "print(\"probability of hospitalization: \", hosp_1, \"%\")\n",
    "print(\"probability of death: \", fata_1, \"%\")\n",
    "print(\"\\n\")\n",
    "print(\"case_2 (old)\")\n",
    "print(\"probability of hospitalization: \", hosp_2, \"%\")\n",
    "print(\"probability of death: \", fata_2, \"%\")"
   ]
  }
 ],
 "metadata": {
  "colab": {
   "name": "MLP.ipynb",
   "provenance": []
  },
  "kernelspec": {
   "display_name": "Python 3",
   "language": "python",
   "name": "python3"
  },
  "language_info": {
   "codemirror_mode": {
    "name": "ipython",
    "version": 3
   },
   "file_extension": ".py",
   "mimetype": "text/x-python",
   "name": "python",
   "nbconvert_exporter": "python",
   "pygments_lexer": "ipython3",
   "version": "3.7.9"
  }
 },
 "nbformat": 4,
 "nbformat_minor": 1
}
