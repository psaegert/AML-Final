{
 "cells": [
  {
   "cell_type": "code",
   "execution_count": 1,
   "source": [
    "import os\n",
    "\n",
    "import numpy as np\n",
    "import pickle\n",
    "import time\n",
    "import pandas as pd\n",
    "\n",
    "from tqdm.auto import tqdm\n",
    "\n",
    "import INN\n",
    "import torch\n",
    "import torch.nn.functional as F\n",
    "from torch.optim import Adam\n",
    "from IPython.display import clear_output\n",
    "\n",
    "from sklearn.preprocessing import StandardScaler\n",
    "from sklearn.model_selection import KFold\n",
    "from sklearn.metrics import log_loss, brier_score_loss, accuracy_score, confusion_matrix\n",
    "\n",
    "import GPy\n",
    "import optunity as opt\n",
    "import sobol as sb\n",
    "\n",
    "import scipy.stats as stats\n",
    "\n",
    "import matplotlib.pyplot as plt"
   ],
   "outputs": [],
   "metadata": {}
  },
  {
   "cell_type": "code",
   "execution_count": 2,
   "source": [
    "device = 'cuda' if torch.cuda.is_available() else 'cpu'\n",
    "print(f'Using device: {device}')"
   ],
   "outputs": [
    {
     "output_type": "stream",
     "name": "stdout",
     "text": [
      "Using device: cuda\n"
     ]
    }
   ],
   "metadata": {}
  },
  {
   "cell_type": "code",
   "execution_count": 3,
   "source": [
    "train = True"
   ],
   "outputs": [],
   "metadata": {}
  },
  {
   "cell_type": "markdown",
   "source": [
    "# Data"
   ],
   "metadata": {}
  },
  {
   "cell_type": "code",
   "execution_count": 4,
   "source": [
    "with open('../../data/data_train.pt', 'rb') as file:\n",
    "    X_train, y_train = pickle.load(file)\n",
    "\n",
    "X_train = X_train\n",
    "y_train = y_train\n",
    "\n",
    "print(f'{X_train.shape = }')\n",
    "print(f'{y_train.shape = }')"
   ],
   "outputs": [
    {
     "output_type": "stream",
     "name": "stdout",
     "text": [
      "X_train.shape = (2521156, 28)\n",
      "y_train.shape = (2521156, 2)\n"
     ]
    }
   ],
   "metadata": {}
  },
  {
   "cell_type": "markdown",
   "source": [
    "# Parameter Optimization"
   ],
   "metadata": {}
  },
  {
   "cell_type": "code",
   "execution_count": 5,
   "source": [
    "CINN_parameters = {\n",
    "    'n_features': X_train.shape[1],\n",
    "    'condition_features': y_train.shape[1],\n",
    "    'device': device\n",
    "}\n",
    "\n",
    "loss_weights = {\n",
    "    'dvg_factor': 1,\n",
    "    'logdet_factor': 1,\n",
    "    'rcst_factor': 1\n",
    "}\n",
    "\n",
    "lr = 5e-4"
   ],
   "outputs": [],
   "metadata": {}
  },
  {
   "cell_type": "code",
   "execution_count": 6,
   "source": [
    "n_epochs = 6\n",
    "batch_size = 1024"
   ],
   "outputs": [],
   "metadata": {}
  },
  {
   "cell_type": "code",
   "execution_count": 7,
   "source": [
    "hyperparameter_search_space_boundaries = {\n",
    "    'n_blocks': [1, 12],\n",
    "    'n_coupling_network_hidden_layers': [1, 5],\n",
    "    'n_coupling_network_hidden_nodes': [4, 512 + 256],\n",
    "}"
   ],
   "outputs": [],
   "metadata": {}
  },
  {
   "cell_type": "code",
   "execution_count": 8,
   "source": [
    "def scale_hyperparameters(hyperparameters):\n",
    "    return np.array([h * (boundaries[1] - boundaries[0]) + boundaries[0] for h, boundaries in zip(hyperparameters, hyperparameter_search_space_boundaries.values())])"
   ],
   "outputs": [],
   "metadata": {}
  },
  {
   "cell_type": "markdown",
   "source": [
    "## Cross-Validation: Helper Functions"
   ],
   "metadata": {}
  },
  {
   "cell_type": "code",
   "execution_count": 9,
   "source": [
    "def count_parameters(model):\n",
    "    total_params = 0\n",
    "    for name, parameter in model.named_parameters():\n",
    "        if not parameter.requires_grad: continue\n",
    "        param = parameter.numel()\n",
    "        total_params += param\n",
    "    return total_params"
   ],
   "outputs": [],
   "metadata": {}
  },
  {
   "cell_type": "code",
   "execution_count": 10,
   "source": [
    "# def get_mean_CV_Score(score_function, hyperparameters, progress_bar_kwargs=None):\n",
    "#     n_blocks, n_coupling_network_hidden_layers, n_coupling_network_hidden_nodes = hyperparameters\n",
    "\n",
    "#     kf = KFold(n_splits=5, shuffle=True, random_state=20210927)\n",
    "\n",
    "#     log_loss_list = np.empty(5, dtype=np.float64)\n",
    "\n",
    "#     for split_index, (fit_index, val_index) in enumerate(kf.split(X_train)):\n",
    "#         # create splits\n",
    "#         X_fit, X_val = X_train[fit_index], X_train[val_index]\n",
    "#         y_fit, y_val = torch.Tensor(y_train[fit_index]).to(device), y_train[val_index]\n",
    "\n",
    "#         # scale features\n",
    "#         sc_X_fit = StandardScaler()\n",
    "#         X_fit_scaled = torch.Tensor(sc_X_fit.fit_transform(X_fit)).to(device)\n",
    "#         X_val_scaled = torch.Tensor(sc_X_fit.transform(X_val)).to(device)\n",
    "\n",
    "#         # create classifier\n",
    "#         inn = INN.INN(**INN_parameters, n_blocks=n_blocks, coupling_network_layers=[n_coupling_network_hidden_nodes] * n_coupling_network_hidden_layers).to(device)\n",
    "\n",
    "#         inn.train()\n",
    "\n",
    "#         # fit\n",
    "#         inn.fit(\n",
    "#             X_fit_scaled,\n",
    "#             y_fit,\n",
    "#             n_epochs=n_epochs,\n",
    "#             batch_size=batch_size,\n",
    "#             optimizer=Adam(inn.parameters(), lr=lr), \n",
    "#             loss_weights=loss_weights,\n",
    "#             verbose=1,\n",
    "#             progress_bar_kwargs=progress_bar_kwargs\n",
    "#         )\n",
    "\n",
    "#         inn.eval()\n",
    "\n",
    "#         del X_fit_scaled, y_fit\n",
    "\n",
    "#         # evaluate\n",
    "#         n_batches = len(X_val) // batch_size\n",
    "#         y_proba_pred = np.empty((0, 2))\n",
    "#         for i_batch in range(n_batches + 1):\n",
    "#             y_proba_pred_new = inn.forward(X_val_scaled[i_batch * batch_size: (i_batch+1) * batch_size])[0].detach().cpu().numpy()\n",
    "#             y_proba_pred = np.concatenate([y_proba_pred, y_proba_pred_new], axis=0)\n",
    "\n",
    "#         log_loss_list[split_index] = score_function(y_val, y_proba_pred)\n",
    "\n",
    "#         del inn, X_val_scaled\n",
    "\n",
    "#     return np.mean(log_loss_list)"
   ],
   "outputs": [],
   "metadata": {}
  },
  {
   "cell_type": "code",
   "execution_count": 11,
   "source": [
    "# def expected_improvement(n_blocks, n_coupling_network_hidden_layers, n_coupling_network_hidden_nodes, gp):\n",
    "#     # compute E(q) and Var(q)\n",
    "#     E_pred, Var_pred = gp.predict_noiseless(np.array([[n_blocks, n_coupling_network_hidden_layers, n_coupling_network_hidden_nodes]]))\n",
    "\n",
    "#     # compute gamma with the STD(q)\n",
    "#     γ = (E_best - E_pred) / np.sqrt(Var_pred)\n",
    "\n",
    "#     # return Expected Improvement\n",
    "#     return (np.sqrt(Var_pred) * (γ * stats.norm.cdf(γ) + stats.norm.pdf(γ)))[0]"
   ],
   "outputs": [],
   "metadata": {}
  },
  {
   "cell_type": "code",
   "execution_count": 12,
   "source": [
    "# def initialize_GP(n_samples, progress=0):\n",
    "#     Q_init = np.empty((n_samples, len(hyperparameter_search_space_boundaries)))\n",
    "#     E_init = np.empty((n_samples, 1))\n",
    "\n",
    "#     # initialize with sobol sequence between 0 and 1\n",
    "#     for i in range(n_samples):\n",
    "#         for j, boundaries in enumerate(hyperparameter_search_space_boundaries.values()):\n",
    "#             Q_init[i, j] = sb.i4_sobol(len(hyperparameter_search_space_boundaries), i)[0][j]# * (boundaries[1] - boundaries[0]) + boundaries[0]\n",
    "\n",
    "#     # compute scores for the initial hyperparameters\n",
    "#     for i, hyperparameters in enumerate(Q_init):\n",
    "\n",
    "#         # skip the ones that have already been computed\n",
    "#         if progress > i:\n",
    "#             continue\n",
    "\n",
    "#         # scale hyperparameters according to their bounds and convert them to integers\n",
    "#         hyperparameters_scaled = scale_hyperparameters(hyperparameters).round().astype(int)\n",
    "\n",
    "#         # print the status\n",
    "#         hyperparameters_dict = {key: hyperparameters_scaled[i] for i, key in enumerate(hyperparameter_search_space_boundaries.keys())}\n",
    "#         print(f'{i+1}/{len(Q_init)}: {hyperparameters_dict}')\n",
    "#         time.sleep(0.35)\n",
    "        \n",
    "#         # compute cv score\n",
    "#         E_init[i, :] = get_mean_CV_Score(log_loss, hyperparameters_scaled)\n",
    "#         progress += 1\n",
    "\n",
    "#         # save checkpoint\n",
    "#         print('Storing Checkpoint...')\n",
    "#         with open(f'../hyperparameter_results/INN.pt', 'wb') as file:\n",
    "#             pickle.dump((Q_init, E_init), file)\n",
    "#         with open(f'../hyperparameter_results/INN_progress.pt', 'wb') as file:\n",
    "#             pickle.dump(progress, file)\n",
    "#         print('Stored Checkpoint...')\n",
    "#         clear_output(wait=True)\n",
    "\n",
    "#     return Q_init, E_init"
   ],
   "outputs": [],
   "metadata": {}
  },
  {
   "cell_type": "markdown",
   "source": [
    "## Run Optimization"
   ],
   "metadata": {}
  },
  {
   "cell_type": "code",
   "execution_count": 13,
   "source": [
    "# initial_n_samples = 8#16\n",
    "# additional_n_samples = 24#64"
   ],
   "outputs": [],
   "metadata": {}
  },
  {
   "cell_type": "markdown",
   "source": [
    "## GP-Prediction"
   ],
   "metadata": {}
  },
  {
   "cell_type": "code",
   "execution_count": 14,
   "source": [
    "# if train:\n",
    "#     # load checkpoint if possible\n",
    "#     if os.path.isfile('../hyperparameter_results/INN.pt') and os.path.isfile('../hyperparameter_results/INN_progress.pt'):\n",
    "#         print('Loading Checkpoint...')\n",
    "#         with open('../hyperparameter_results/INN.pt', 'rb') as file:\n",
    "#             Q, E = pickle.load(file)\n",
    "#         with open('../hyperparameter_results/INN_progress.pt', 'rb') as file:\n",
    "#             progress = pickle.load(file)\n",
    "#         print('Loaded Checkpoint')\n",
    "#     else:\n",
    "#         progress = 0\n",
    "    \n",
    "#     # if not all initial hyperparameters have been tested, continue testing them\n",
    "#     if progress < initial_n_samples:\n",
    "#         print(f\"Initializing GP...\")\n",
    "#         time.sleep(0.3)\n",
    "#         Q, E = initialize_GP(initial_n_samples, progress=progress)\n",
    "#         progress = initial_n_samples\n",
    "\n",
    "#     # main GP training loop\n",
    "#     print('Training GP...')\n",
    "#     for k in range(progress - initial_n_samples, additional_n_samples):\n",
    "#         # train Gaussian Process\n",
    "#         GP = GPy.models.GPRegression(Q, E, kernel=GPy.kern.Matern52(3))\n",
    "#         GP.optimize(messages=False)\n",
    "\n",
    "#         # determine E_best (minimum value of E)\n",
    "#         E_best = np.min(E)\n",
    "\n",
    "#         # determine q_new (q with maximum expected improvement)\n",
    "#         optimizer_output = opt.maximize(\n",
    "#             lambda **kwargs: expected_improvement(gp=GP, **kwargs),\n",
    "#             **{k: [0, 1] for k in hyperparameter_search_space_boundaries.keys()}\n",
    "#         )[0]\n",
    "\n",
    "#         # extract and scale new 'optimal' hyperparameters\n",
    "#         q_new = np.array([optimizer_output[k] for k in hyperparameter_search_space_boundaries.keys()]).ravel()\n",
    "#         q_new_scaled = scale_hyperparameters(q_new).round().astype(int)\n",
    "\n",
    "#         # only for integer values: if the new hyperparameters have already been tested, the algorithm converged\n",
    "#         for q in Q:\n",
    "#             if (q_new == q).all():\n",
    "#                 print('GP Converged early.')\n",
    "#                 break\n",
    "\n",
    "#         # print status\n",
    "#         hyperparameters_dict = {key: q_new_scaled[i] for i, key in enumerate(hyperparameter_search_space_boundaries.keys())}\n",
    "#         print(f'{k+1}/{additional_n_samples}: {hyperparameters_dict}')\n",
    "#         time.sleep(0.3)\n",
    "\n",
    "#         # add q_new to the training set Q\n",
    "#         Q = np.vstack((Q, q_new))\n",
    "\n",
    "#         # add value to E\n",
    "#         E = np.vstack((E, get_mean_CV_Score(log_loss, q_new_scaled).reshape(-1, 1)))\n",
    "\n",
    "#         # save checkpoint\n",
    "#         progress += 1\n",
    "#         print('Storing Checkpoint...')\n",
    "#         with open(f'../hyperparameter_results/INN.pt', 'wb') as file:\n",
    "#             pickle.dump((Q, E), file)\n",
    "#         with open(f'../hyperparameter_results/INN_progress.pt', 'wb') as file:\n",
    "#             pickle.dump(progress, file)\n",
    "#         print('Stored Checkpoint...')\n",
    "\n",
    "#         clear_output(wait=True)\n",
    "\n",
    "#     print('Completed Training')\n",
    "\n",
    "# else:\n",
    "#     print(f'Loading Results...')\n",
    "#     with open(f'../hyperparameter_results/INN.pt', 'rb') as file:\n",
    "#         Q, E = pickle.load(file)\n",
    "#     print(f'Loaded Results')\n",
    "\n",
    "# GP = GPy.models.GPRegression(Q, E, kernel=GPy.kern.Matern52(3))\n",
    "# GP.optimize(messages=False);"
   ],
   "outputs": [],
   "metadata": {}
  },
  {
   "cell_type": "markdown",
   "source": [
    "## GP-Prediction"
   ],
   "metadata": {}
  },
  {
   "cell_type": "code",
   "execution_count": 15,
   "source": [
    "# Q_scaled = np.round([scale_hyperparameters(q) for q in Q]).astype(int)"
   ],
   "outputs": [],
   "metadata": {}
  },
  {
   "cell_type": "code",
   "execution_count": 16,
   "source": [
    "# fig, axes = plt.subplots(1, 3, figsize=(30, 6))\n",
    "\n",
    "# for i in range(3):\n",
    "#     axes[i].scatter(Q_scaled[:5, i], E[:5])"
   ],
   "outputs": [],
   "metadata": {}
  },
  {
   "cell_type": "code",
   "execution_count": 17,
   "source": [
    "# fig = plt.figure(figsize=(12, 8))\n",
    "# fig.tight_layout()\n",
    "# ax = fig.add_subplot(111, projection='3d')\n",
    "# ax.set_xlabel(r'n_blocks'); ax.set_ylabel(r'n_layers'); ax.set_zlabel(r'n_nodes')\n",
    "\n",
    "# x = Q_scaled[:, 0]\n",
    "# y = Q_scaled[:, 1]\n",
    "# z = Q_scaled[:, 2]\n",
    "# c = E[:, 0]\n",
    "\n",
    "# img = ax.scatter(x, y, z, c=c, cmap=plt.get_cmap('Spectral'))\n",
    "# fig.subplots_adjust(right=0.7)\n",
    "# colorbar_ax = fig.add_axes([0.8, 0.2, 0.03, 0.6])\n",
    "# fig.colorbar(img, cax=colorbar_ax, label='\\nBCE')\n",
    "# ax.view_init(elev=20., azim=220)"
   ],
   "outputs": [],
   "metadata": {}
  },
  {
   "cell_type": "markdown",
   "source": [
    "## Find 'Best' Hyperparameter"
   ],
   "metadata": {}
  },
  {
   "cell_type": "code",
   "execution_count": 18,
   "source": [
    "# def GP_log_loss_upper_confidence_bound(n_blocks, n_coupling_network_hidden_layers, n_coupling_network_hidden_nodes, gp):\n",
    "#     mean, var = gp.predict_noiseless(np.array([[n_blocks, n_coupling_network_hidden_layers, n_coupling_network_hidden_nodes]]))\n",
    "#     return mean + np.sqrt(var)"
   ],
   "outputs": [],
   "metadata": {}
  },
  {
   "cell_type": "code",
   "execution_count": 19,
   "source": [
    "# hyperparameter_best_upper_confidence_bound = opt.minimize(\n",
    "#     lambda **kwargs: GP_log_loss_upper_confidence_bound(gp=GP, **kwargs),\n",
    "#     **{k: [0, 1] for k in hyperparameter_search_space_boundaries.keys()}\n",
    "# )[0]\n",
    "\n",
    "# hyperparameter_best_upper_confidence_bound_scaled = scale_hyperparameters(hyperparameter_best_upper_confidence_bound.values()).round().astype(int)"
   ],
   "outputs": [],
   "metadata": {}
  },
  {
   "cell_type": "code",
   "execution_count": 20,
   "source": [
    "# hyperparameter_best_upper_confidence_bound_scaled"
   ],
   "outputs": [],
   "metadata": {}
  },
  {
   "cell_type": "markdown",
   "source": [
    "# Final Training"
   ],
   "metadata": {}
  },
  {
   "cell_type": "code",
   "execution_count": 21,
   "source": [
    "# scale features\n",
    "sc_X_train = StandardScaler()\n",
    "X_train_scaled = sc_X_train.fit_transform(X_train)\n",
    "\n",
    "#create classifier\n",
    "# inn = INN.CINN(**INN_parameters, \n",
    "#     n_blocks=hyperparameter_best_upper_confidence_bound_scaled[0], \n",
    "#     coupling_network_layers=[hyperparameter_best_upper_confidence_bound_scaled[2]] * hyperparameter_best_upper_confidence_bound_scaled[1]\n",
    "# )\n",
    "\n",
    "cinn = INN.CINN(**CINN_parameters, \n",
    "    n_blocks=5, \n",
    "    coupling_network_layers=[512] * 2\n",
    ")\n",
    "\n",
    "X_train_scaled_cuda = torch.Tensor(X_train_scaled).to(device)\n",
    "y_train_cuda = torch.Tensor(y_train).to(device)\n",
    "\n",
    "# fit\n",
    "cinn.fit(X_train_scaled_cuda, y_train_cuda, \n",
    "    n_epochs=16,\n",
    "    batch_size=batch_size,\n",
    "    optimizer=Adam(cinn.parameters(), lr=lr), \n",
    "    loss_weights=loss_weights,\n",
    "    verbose=2,\n",
    ");\n",
    "\n",
    "del X_train_scaled_cuda, y_train_cuda"
   ],
   "outputs": [
    {
     "output_type": "stream",
     "name": "stderr",
     "text": [
      "Epoch 0: 100%|██████████| 2462/2462 [00:59<00:00, 41.09it/s, batch=2461/2462, weighted_loss=-61.392, dvg=+11.137, rcst=+0.476, logdet=-73.006]\n",
      "Epoch 1: 100%|██████████| 2462/2462 [01:00<00:00, 40.81it/s, batch=2461/2462, weighted_loss=-68.106, dvg=+9.648, rcst=+0.465, logdet=-78.219]\n",
      "Epoch 2: 100%|██████████| 2462/2462 [01:00<00:00, 40.61it/s, batch=2461/2462, weighted_loss=-71.511, dvg=+9.576, rcst=+0.457, logdet=-81.544]\n",
      "Epoch 3: 100%|██████████| 2462/2462 [01:00<00:00, 40.59it/s, batch=2461/2462, weighted_loss=-73.658, dvg=+9.402, rcst=+0.456, logdet=-83.516]\n",
      "Epoch 4: 100%|██████████| 2462/2462 [01:00<00:00, 40.64it/s, batch=2461/2462, weighted_loss=-75.799, dvg=+8.980, rcst=+0.445, logdet=-85.225]\n",
      "Epoch 5: 100%|██████████| 2462/2462 [01:01<00:00, 40.30it/s, batch=2461/2462, weighted_loss=-75.363, dvg=+10.582, rcst=+0.451, logdet=-86.396]\n",
      "Epoch 6: 100%|██████████| 2462/2462 [01:01<00:00, 40.35it/s, batch=2461/2462, weighted_loss=-78.662, dvg=+8.447, rcst=+0.435, logdet=-87.544]\n",
      "Epoch 7: 100%|██████████| 2462/2462 [00:59<00:00, 41.27it/s, batch=2461/2462, weighted_loss=-76.976, dvg=+10.128, rcst=+0.433, logdet=-87.538]\n",
      "Epoch 8: 100%|██████████| 2462/2462 [00:57<00:00, 42.60it/s, batch=2461/2462, weighted_loss=-79.143, dvg=+8.902, rcst=+0.427, logdet=-88.472]\n",
      "Epoch 9: 100%|██████████| 2462/2462 [00:58<00:00, 42.14it/s, batch=2461/2462, weighted_loss=-80.314, dvg=+8.525, rcst=+0.417, logdet=-89.255]\n",
      "Epoch 10:  19%|█▉        | 479/2462 [00:11<00:47, 41.41it/s, batch=478/2462, weighted_loss=-81.276, dvg=+8.728, rcst=+0.395, logdet=-90.399]\n"
     ]
    },
    {
     "output_type": "error",
     "ename": "KeyboardInterrupt",
     "evalue": "",
     "traceback": [
      "\u001b[0;31m---------------------------------------------------------------------------\u001b[0m",
      "\u001b[0;31mKeyboardInterrupt\u001b[0m                         Traceback (most recent call last)",
      "\u001b[0;32m<ipython-input-21-14c9d0190130>\u001b[0m in \u001b[0;36m<module>\u001b[0;34m\u001b[0m\n\u001b[1;32m     18\u001b[0m \u001b[0;34m\u001b[0m\u001b[0m\n\u001b[1;32m     19\u001b[0m \u001b[0;31m# fit\u001b[0m\u001b[0;34m\u001b[0m\u001b[0;34m\u001b[0m\u001b[0;34m\u001b[0m\u001b[0m\n\u001b[0;32m---> 20\u001b[0;31m cinn.fit(X_train_scaled_cuda, y_train_cuda, \n\u001b[0m\u001b[1;32m     21\u001b[0m     \u001b[0mn_epochs\u001b[0m\u001b[0;34m=\u001b[0m\u001b[0;36m16\u001b[0m\u001b[0;34m,\u001b[0m\u001b[0;34m\u001b[0m\u001b[0;34m\u001b[0m\u001b[0m\n\u001b[1;32m     22\u001b[0m     \u001b[0mbatch_size\u001b[0m\u001b[0;34m=\u001b[0m\u001b[0mbatch_size\u001b[0m\u001b[0;34m,\u001b[0m\u001b[0;34m\u001b[0m\u001b[0;34m\u001b[0m\u001b[0m\n",
      "\u001b[0;32m~/Documents/UNI/Semester_6/AML/AML-Final/models/INN.py\u001b[0m in \u001b[0;36mfit\u001b[0;34m(self, X, Y, n_epochs, batch_size, optimizer, loss_weights, verbose, progress_bar_kwargs)\u001b[0m\n\u001b[1;32m    363\u001b[0m \u001b[0;34m\u001b[0m\u001b[0m\n\u001b[1;32m    364\u001b[0m                 \u001b[0mloss\u001b[0m\u001b[0;34m.\u001b[0m\u001b[0mbackward\u001b[0m\u001b[0;34m(\u001b[0m\u001b[0;34m)\u001b[0m\u001b[0;34m\u001b[0m\u001b[0;34m\u001b[0m\u001b[0m\n\u001b[0;32m--> 365\u001b[0;31m                 \u001b[0moptimizer\u001b[0m\u001b[0;34m.\u001b[0m\u001b[0mstep\u001b[0m\u001b[0;34m(\u001b[0m\u001b[0;34m)\u001b[0m\u001b[0;34m\u001b[0m\u001b[0;34m\u001b[0m\u001b[0m\n\u001b[0m\u001b[1;32m    366\u001b[0m \u001b[0;34m\u001b[0m\u001b[0m\n\u001b[1;32m    367\u001b[0m                 \u001b[0mweighted_loss\u001b[0m \u001b[0;34m=\u001b[0m \u001b[0mloss\u001b[0m\u001b[0;34m.\u001b[0m\u001b[0mdetach\u001b[0m\u001b[0;34m(\u001b[0m\u001b[0;34m)\u001b[0m\u001b[0;34m.\u001b[0m\u001b[0mcpu\u001b[0m\u001b[0;34m(\u001b[0m\u001b[0;34m)\u001b[0m\u001b[0;34m.\u001b[0m\u001b[0mnumpy\u001b[0m\u001b[0;34m(\u001b[0m\u001b[0;34m)\u001b[0m\u001b[0;34m\u001b[0m\u001b[0;34m\u001b[0m\u001b[0m\n",
      "\u001b[0;32m~/.local/lib/python3.8/site-packages/torch/optim/optimizer.py\u001b[0m in \u001b[0;36mwrapper\u001b[0;34m(*args, **kwargs)\u001b[0m\n\u001b[1;32m     86\u001b[0m                 \u001b[0mprofile_name\u001b[0m \u001b[0;34m=\u001b[0m \u001b[0;34m\"Optimizer.step#{}.step\"\u001b[0m\u001b[0;34m.\u001b[0m\u001b[0mformat\u001b[0m\u001b[0;34m(\u001b[0m\u001b[0mobj\u001b[0m\u001b[0;34m.\u001b[0m\u001b[0m__class__\u001b[0m\u001b[0;34m.\u001b[0m\u001b[0m__name__\u001b[0m\u001b[0;34m)\u001b[0m\u001b[0;34m\u001b[0m\u001b[0;34m\u001b[0m\u001b[0m\n\u001b[1;32m     87\u001b[0m                 \u001b[0;32mwith\u001b[0m \u001b[0mtorch\u001b[0m\u001b[0;34m.\u001b[0m\u001b[0mautograd\u001b[0m\u001b[0;34m.\u001b[0m\u001b[0mprofiler\u001b[0m\u001b[0;34m.\u001b[0m\u001b[0mrecord_function\u001b[0m\u001b[0;34m(\u001b[0m\u001b[0mprofile_name\u001b[0m\u001b[0;34m)\u001b[0m\u001b[0;34m:\u001b[0m\u001b[0;34m\u001b[0m\u001b[0;34m\u001b[0m\u001b[0m\n\u001b[0;32m---> 88\u001b[0;31m                     \u001b[0;32mreturn\u001b[0m \u001b[0mfunc\u001b[0m\u001b[0;34m(\u001b[0m\u001b[0;34m*\u001b[0m\u001b[0margs\u001b[0m\u001b[0;34m,\u001b[0m \u001b[0;34m**\u001b[0m\u001b[0mkwargs\u001b[0m\u001b[0;34m)\u001b[0m\u001b[0;34m\u001b[0m\u001b[0;34m\u001b[0m\u001b[0m\n\u001b[0m\u001b[1;32m     89\u001b[0m             \u001b[0;32mreturn\u001b[0m \u001b[0mwrapper\u001b[0m\u001b[0;34m\u001b[0m\u001b[0;34m\u001b[0m\u001b[0m\n\u001b[1;32m     90\u001b[0m \u001b[0;34m\u001b[0m\u001b[0m\n",
      "\u001b[0;32m~/.local/lib/python3.8/site-packages/torch/autograd/grad_mode.py\u001b[0m in \u001b[0;36mdecorate_context\u001b[0;34m(*args, **kwargs)\u001b[0m\n\u001b[1;32m     26\u001b[0m         \u001b[0;32mdef\u001b[0m \u001b[0mdecorate_context\u001b[0m\u001b[0;34m(\u001b[0m\u001b[0;34m*\u001b[0m\u001b[0margs\u001b[0m\u001b[0;34m,\u001b[0m \u001b[0;34m**\u001b[0m\u001b[0mkwargs\u001b[0m\u001b[0;34m)\u001b[0m\u001b[0;34m:\u001b[0m\u001b[0;34m\u001b[0m\u001b[0;34m\u001b[0m\u001b[0m\n\u001b[1;32m     27\u001b[0m             \u001b[0;32mwith\u001b[0m \u001b[0mself\u001b[0m\u001b[0;34m.\u001b[0m\u001b[0m__class__\u001b[0m\u001b[0;34m(\u001b[0m\u001b[0;34m)\u001b[0m\u001b[0;34m:\u001b[0m\u001b[0;34m\u001b[0m\u001b[0;34m\u001b[0m\u001b[0m\n\u001b[0;32m---> 28\u001b[0;31m                 \u001b[0;32mreturn\u001b[0m \u001b[0mfunc\u001b[0m\u001b[0;34m(\u001b[0m\u001b[0;34m*\u001b[0m\u001b[0margs\u001b[0m\u001b[0;34m,\u001b[0m \u001b[0;34m**\u001b[0m\u001b[0mkwargs\u001b[0m\u001b[0;34m)\u001b[0m\u001b[0;34m\u001b[0m\u001b[0;34m\u001b[0m\u001b[0m\n\u001b[0m\u001b[1;32m     29\u001b[0m         \u001b[0;32mreturn\u001b[0m \u001b[0mcast\u001b[0m\u001b[0;34m(\u001b[0m\u001b[0mF\u001b[0m\u001b[0;34m,\u001b[0m \u001b[0mdecorate_context\u001b[0m\u001b[0;34m)\u001b[0m\u001b[0;34m\u001b[0m\u001b[0;34m\u001b[0m\u001b[0m\n\u001b[1;32m     30\u001b[0m \u001b[0;34m\u001b[0m\u001b[0m\n",
      "\u001b[0;32m~/.local/lib/python3.8/site-packages/torch/optim/adam.py\u001b[0m in \u001b[0;36mstep\u001b[0;34m(self, closure)\u001b[0m\n\u001b[1;32m    105\u001b[0m                     \u001b[0mstate_steps\u001b[0m\u001b[0;34m.\u001b[0m\u001b[0mappend\u001b[0m\u001b[0;34m(\u001b[0m\u001b[0mstate\u001b[0m\u001b[0;34m[\u001b[0m\u001b[0;34m'step'\u001b[0m\u001b[0;34m]\u001b[0m\u001b[0;34m)\u001b[0m\u001b[0;34m\u001b[0m\u001b[0;34m\u001b[0m\u001b[0m\n\u001b[1;32m    106\u001b[0m \u001b[0;34m\u001b[0m\u001b[0m\n\u001b[0;32m--> 107\u001b[0;31m             F.adam(params_with_grad,\n\u001b[0m\u001b[1;32m    108\u001b[0m                    \u001b[0mgrads\u001b[0m\u001b[0;34m,\u001b[0m\u001b[0;34m\u001b[0m\u001b[0;34m\u001b[0m\u001b[0m\n\u001b[1;32m    109\u001b[0m                    \u001b[0mexp_avgs\u001b[0m\u001b[0;34m,\u001b[0m\u001b[0;34m\u001b[0m\u001b[0;34m\u001b[0m\u001b[0m\n",
      "\u001b[0;32m~/.local/lib/python3.8/site-packages/torch/optim/_functional.py\u001b[0m in \u001b[0;36madam\u001b[0;34m(params, grads, exp_avgs, exp_avg_sqs, max_exp_avg_sqs, state_steps, amsgrad, beta1, beta2, lr, weight_decay, eps)\u001b[0m\n\u001b[1;32m     92\u001b[0m             \u001b[0mdenom\u001b[0m \u001b[0;34m=\u001b[0m \u001b[0;34m(\u001b[0m\u001b[0mmax_exp_avg_sqs\u001b[0m\u001b[0;34m[\u001b[0m\u001b[0mi\u001b[0m\u001b[0;34m]\u001b[0m\u001b[0;34m.\u001b[0m\u001b[0msqrt\u001b[0m\u001b[0;34m(\u001b[0m\u001b[0;34m)\u001b[0m \u001b[0;34m/\u001b[0m \u001b[0mmath\u001b[0m\u001b[0;34m.\u001b[0m\u001b[0msqrt\u001b[0m\u001b[0;34m(\u001b[0m\u001b[0mbias_correction2\u001b[0m\u001b[0;34m)\u001b[0m\u001b[0;34m)\u001b[0m\u001b[0;34m.\u001b[0m\u001b[0madd_\u001b[0m\u001b[0;34m(\u001b[0m\u001b[0meps\u001b[0m\u001b[0;34m)\u001b[0m\u001b[0;34m\u001b[0m\u001b[0;34m\u001b[0m\u001b[0m\n\u001b[1;32m     93\u001b[0m         \u001b[0;32melse\u001b[0m\u001b[0;34m:\u001b[0m\u001b[0;34m\u001b[0m\u001b[0;34m\u001b[0m\u001b[0m\n\u001b[0;32m---> 94\u001b[0;31m             \u001b[0mdenom\u001b[0m \u001b[0;34m=\u001b[0m \u001b[0;34m(\u001b[0m\u001b[0mexp_avg_sq\u001b[0m\u001b[0;34m.\u001b[0m\u001b[0msqrt\u001b[0m\u001b[0;34m(\u001b[0m\u001b[0;34m)\u001b[0m \u001b[0;34m/\u001b[0m \u001b[0mmath\u001b[0m\u001b[0;34m.\u001b[0m\u001b[0msqrt\u001b[0m\u001b[0;34m(\u001b[0m\u001b[0mbias_correction2\u001b[0m\u001b[0;34m)\u001b[0m\u001b[0;34m)\u001b[0m\u001b[0;34m.\u001b[0m\u001b[0madd_\u001b[0m\u001b[0;34m(\u001b[0m\u001b[0meps\u001b[0m\u001b[0;34m)\u001b[0m\u001b[0;34m\u001b[0m\u001b[0;34m\u001b[0m\u001b[0m\n\u001b[0m\u001b[1;32m     95\u001b[0m \u001b[0;34m\u001b[0m\u001b[0m\n\u001b[1;32m     96\u001b[0m         \u001b[0mstep_size\u001b[0m \u001b[0;34m=\u001b[0m \u001b[0mlr\u001b[0m \u001b[0;34m/\u001b[0m \u001b[0mbias_correction1\u001b[0m\u001b[0;34m\u001b[0m\u001b[0;34m\u001b[0m\u001b[0m\n",
      "\u001b[0;31mKeyboardInterrupt\u001b[0m: "
     ]
    }
   ],
   "metadata": {}
  },
  {
   "cell_type": "markdown",
   "source": [
    "# Evaluation on Test Set"
   ],
   "metadata": {}
  },
  {
   "cell_type": "code",
   "execution_count": 22,
   "source": [
    "# IMPORTANT: Disable Dropout\n",
    "cinn.eval();"
   ],
   "outputs": [],
   "metadata": {}
  },
  {
   "cell_type": "code",
   "execution_count": 27,
   "source": [
    "with open('../../data/data_test.pt', 'rb') as file:\n",
    "    X_test, y_test = pickle.load(file)\n",
    "\n",
    "print(f'{X_test.shape = }')\n",
    "print(f'{y_test.shape = }')\n",
    "\n",
    "X_test_scaled = torch.Tensor(sc_X_train.transform(X_test)).to(device)\n",
    "y_test_cuda = torch.Tensor(y_test).to(device)"
   ],
   "outputs": [
    {
     "output_type": "stream",
     "name": "stdout",
     "text": [
      "X_test.shape = (630290, 28)\n",
      "y_test.shape = (630290, 2)\n"
     ]
    }
   ],
   "metadata": {}
  },
  {
   "cell_type": "code",
   "execution_count": 28,
   "source": [
    "evaluation_results = {}\n",
    "\n",
    "n_batches = len(X_test) // batch_size\n",
    "z_pred = np.empty((len(X_test), 28))\n",
    "for i_batch in tqdm(range(n_batches + 1)):\n",
    "    z_pred[i_batch * batch_size: (i_batch+1) * batch_size] = cinn.forward(X_test_scaled[i_batch * batch_size: (i_batch+1) * batch_size], y_test_cuda[i_batch * batch_size: (i_batch+1) * batch_size]).detach().cpu().numpy()\n",
    "\n",
    "del y_test_cuda"
   ],
   "outputs": [
    {
     "output_type": "stream",
     "name": "stderr",
     "text": [
      "100%|██████████| 616/616 [00:02<00:00, 276.44it/s]\n"
     ]
    }
   ],
   "metadata": {}
  },
  {
   "cell_type": "code",
   "execution_count": 30,
   "source": [
    "X_train_scaled = torch.Tensor(sc_X_train.transform(X_train)).to(device)\n",
    "y_train_cuda = torch.Tensor(y_train).to(device)\n",
    "\n",
    "n_batches = len(X_train) // batch_size\n",
    "z_train_pred = np.empty((len(X_train), 28))\n",
    "for i_batch in tqdm(range(n_batches + 1)):\n",
    "    z_train_pred[i_batch * batch_size: (i_batch+1) * batch_size] = cinn.forward(X_train_scaled[i_batch * batch_size: (i_batch+1) * batch_size], y_train_cuda[i_batch * batch_size: (i_batch+1) * batch_size]).detach().cpu().numpy()\n",
    "\n",
    "del X_train_scaled, y_train_cuda"
   ],
   "outputs": [
    {
     "output_type": "stream",
     "name": "stderr",
     "text": [
      "100%|██████████| 2463/2463 [00:08<00:00, 280.87it/s]\n"
     ]
    }
   ],
   "metadata": {}
  },
  {
   "cell_type": "markdown",
   "source": [
    "# Latent Space"
   ],
   "metadata": {}
  },
  {
   "cell_type": "markdown",
   "source": [
    "## Distribution"
   ],
   "metadata": {}
  },
  {
   "cell_type": "code",
   "execution_count": 31,
   "source": [
    "NROWS = 4\n",
    "NCOLS = int(np.ceil(z_pred.shape[1] / NROWS))\n",
    "\n",
    "fig, axes = plt.subplots(NROWS, NCOLS, figsize=(28, 12))\n",
    "fig.suptitle('Latent Space Distribution (Train vs Test)\\n', size=20)\n",
    "fig.tight_layout(h_pad=4, w_pad=2.5)\n",
    "bins = np.linspace(-2, 2, 256)\n",
    "\n",
    "for i_row in tqdm(range(NROWS)):\n",
    "    for i_col in range(NCOLS):\n",
    "        i_latent = i_row * NCOLS + i_col\n",
    "        if i_latent >= z_pred.shape[1]:\n",
    "            axes[i_row][i_col].set_visible(False)\n",
    "            continue\n",
    "        axes[i_row][i_col].hist(z_train_pred[:, i_latent], density=True, bins=bins, alpha=0.5, label='Train', color='tab:blue')\n",
    "        axes[i_row][i_col].hist(z_pred[:, i_latent], density=True, bins=bins, alpha=0.5, label='Test', color='tab:red')\n",
    "        axes[i_row][i_col].set_title(f'$j={i_latent}$'); axes[i_row][i_col].set_ylabel(r'$p(z_{' + str(i_latent) + r'}$)'); axes[i_row][i_col].set_xlabel(r'$z_{' + str(i_latent) + r'}$')\n",
    "        axes[i_row][i_col].set_xlim(-2, 2); \n",
    "        if i_latent == 0: axes[i_row][i_col].legend();"
   ],
   "outputs": [
    {
     "output_type": "stream",
     "name": "stderr",
     "text": [
      "100%|██████████| 4/4 [00:12<00:00,  3.17s/it]\n"
     ]
    },
    {
     "output_type": "display_data",
     "data": {
      "image/png": "[encoded data removed]",
      "text/plain": [
       "<Figure size 2016x864 with 28 Axes>"
      ]
     },
     "metadata": {
      "needs_background": "light"
     }
    }
   ],
   "metadata": {}
  },
  {
   "cell_type": "code",
   "execution_count": 36,
   "source": [
    "keys = ['sex_female','age_0','age_18','age_50','age_65','race_native','race_asian','race_black','race_other','race_native_pacific','race_white','ethnicity_hispanic','case_onset_interval','symptom_status','used_bed_ratio','used_icu_ratio','rural-urban_Continuum Code_2013','urban_influence_code_2013','economic_typology_2015','pop_estimate_2019','less_hs_pct','hs_only_pct','some_college_pct','bachelor_higher_pct','unempl_rate','med_hh_income_19','med_hh_income_pct_state_total_19','poverty_pct_19', ]\n",
    "\n",
    "def prettyX(X, index=None):\n",
    "    return pd.DataFrame(X, columns=keys, index=index)"
   ],
   "outputs": [],
   "metadata": {}
  },
  {
   "cell_type": "code",
   "execution_count": null,
   "source": [
    "y_zeros = torch.zeros((1, 2)).to(device)\n",
    "y_h = torch.Tensor([[1, 0]]).to(device)\n",
    "y_d = torch.Tensor([[0, 1]]).to(device)\n",
    "y_hd = torch.Tensor([[1, 1]]).to(device)\n",
    "z_zeros = torch.zeros((1, 26)).to(device)"
   ],
   "outputs": [],
   "metadata": {}
  },
  {
   "cell_type": "markdown",
   "source": [
    "## Reconstruction: Latent Zeros"
   ],
   "metadata": {}
  },
  {
   "cell_type": "code",
   "execution_count": null,
   "source": [
    "x_zeros_pred = inn.inverse(y_zeros, z_zeros).detach().cpu().numpy()\n",
    "x_h_pred = inn.inverse(y_h, z_zeros).detach().cpu().numpy()\n",
    "x_d_pred = inn.inverse(y_d, z_zeros).detach().cpu().numpy()\n",
    "x_hd_pred = inn.inverse(y_hd, z_zeros).detach().cpu().numpy()"
   ],
   "outputs": [],
   "metadata": {}
  },
  {
   "cell_type": "code",
   "execution_count": null,
   "source": [
    "x_all = np.concatenate([x_zeros_pred, x_h_pred, x_d_pred, x_hd_pred], axis=0)"
   ],
   "outputs": [],
   "metadata": {}
  },
  {
   "cell_type": "code",
   "execution_count": null,
   "source": [
    "prettyX(sc_X_train.inverse_transform(x_all), index=['-', 'H', 'D', 'HD']).T"
   ],
   "outputs": [
    {
     "output_type": "execute_result",
     "data": {
      "text/html": [
       "<div>\n",
       "<style scoped>\n",
       "    .dataframe tbody tr th:only-of-type {\n",
       "        vertical-align: middle;\n",
       "    }\n",
       "\n",
       "    .dataframe tbody tr th {\n",
       "        vertical-align: top;\n",
       "    }\n",
       "\n",
       "    .dataframe thead th {\n",
       "        text-align: right;\n",
       "    }\n",
       "</style>\n",
       "<table border=\"1\" class=\"dataframe\">\n",
       "  <thead>\n",
       "    <tr style=\"text-align: right;\">\n",
       "      <th></th>\n",
       "      <th>-</th>\n",
       "      <th>H</th>\n",
       "      <th>D</th>\n",
       "      <th>HD</th>\n",
       "    </tr>\n",
       "  </thead>\n",
       "  <tbody>\n",
       "    <tr>\n",
       "      <th>sex_female</th>\n",
       "      <td>0.509732</td>\n",
       "      <td>0.506886</td>\n",
       "      <td>0.510686</td>\n",
       "      <td>0.507891</td>\n",
       "    </tr>\n",
       "    <tr>\n",
       "      <th>age_0</th>\n",
       "      <td>0.023903</td>\n",
       "      <td>0.024029</td>\n",
       "      <td>0.024042</td>\n",
       "      <td>0.023902</td>\n",
       "    </tr>\n",
       "    <tr>\n",
       "      <th>age_18</th>\n",
       "      <td>0.901533</td>\n",
       "      <td>0.899983</td>\n",
       "      <td>0.902223</td>\n",
       "      <td>0.899822</td>\n",
       "    </tr>\n",
       "    <tr>\n",
       "      <th>age_50</th>\n",
       "      <td>0.049050</td>\n",
       "      <td>0.048853</td>\n",
       "      <td>0.044369</td>\n",
       "      <td>0.046002</td>\n",
       "    </tr>\n",
       "    <tr>\n",
       "      <th>age_65</th>\n",
       "      <td>-0.008550</td>\n",
       "      <td>-0.009199</td>\n",
       "      <td>-0.005976</td>\n",
       "      <td>-0.005699</td>\n",
       "    </tr>\n",
       "    <tr>\n",
       "      <th>race_native</th>\n",
       "      <td>-0.001312</td>\n",
       "      <td>-0.001277</td>\n",
       "      <td>-0.000949</td>\n",
       "      <td>-0.000876</td>\n",
       "    </tr>\n",
       "    <tr>\n",
       "      <th>race_asian</th>\n",
       "      <td>0.003214</td>\n",
       "      <td>0.003873</td>\n",
       "      <td>0.003134</td>\n",
       "      <td>0.003605</td>\n",
       "    </tr>\n",
       "    <tr>\n",
       "      <th>race_black</th>\n",
       "      <td>0.010569</td>\n",
       "      <td>0.010700</td>\n",
       "      <td>0.009801</td>\n",
       "      <td>0.009982</td>\n",
       "    </tr>\n",
       "    <tr>\n",
       "      <th>race_other</th>\n",
       "      <td>0.010437</td>\n",
       "      <td>0.010543</td>\n",
       "      <td>0.010601</td>\n",
       "      <td>0.010737</td>\n",
       "    </tr>\n",
       "    <tr>\n",
       "      <th>race_native_pacific</th>\n",
       "      <td>-0.000502</td>\n",
       "      <td>-0.000535</td>\n",
       "      <td>-0.000471</td>\n",
       "      <td>-0.000536</td>\n",
       "    </tr>\n",
       "    <tr>\n",
       "      <th>race_white</th>\n",
       "      <td>0.943820</td>\n",
       "      <td>0.945856</td>\n",
       "      <td>0.946159</td>\n",
       "      <td>0.948432</td>\n",
       "    </tr>\n",
       "    <tr>\n",
       "      <th>ethnicity_hispanic</th>\n",
       "      <td>0.974869</td>\n",
       "      <td>0.973396</td>\n",
       "      <td>0.975060</td>\n",
       "      <td>0.973815</td>\n",
       "    </tr>\n",
       "    <tr>\n",
       "      <th>case_onset_interval</th>\n",
       "      <td>-0.015543</td>\n",
       "      <td>-0.015333</td>\n",
       "      <td>-0.015460</td>\n",
       "      <td>-0.016211</td>\n",
       "    </tr>\n",
       "    <tr>\n",
       "      <th>symptom_status</th>\n",
       "      <td>0.999447</td>\n",
       "      <td>0.999450</td>\n",
       "      <td>0.999433</td>\n",
       "      <td>0.999438</td>\n",
       "    </tr>\n",
       "    <tr>\n",
       "      <th>used_bed_ratio</th>\n",
       "      <td>0.731570</td>\n",
       "      <td>0.732422</td>\n",
       "      <td>0.728869</td>\n",
       "      <td>0.729268</td>\n",
       "    </tr>\n",
       "    <tr>\n",
       "      <th>used_icu_ratio</th>\n",
       "      <td>0.714398</td>\n",
       "      <td>0.715171</td>\n",
       "      <td>0.714369</td>\n",
       "      <td>0.715391</td>\n",
       "    </tr>\n",
       "    <tr>\n",
       "      <th>rural-urban_Continuum Code_2013</th>\n",
       "      <td>1.382300</td>\n",
       "      <td>1.371369</td>\n",
       "      <td>1.450156</td>\n",
       "      <td>1.436133</td>\n",
       "    </tr>\n",
       "    <tr>\n",
       "      <th>urban_influence_code_2013</th>\n",
       "      <td>1.367816</td>\n",
       "      <td>1.347719</td>\n",
       "      <td>1.439906</td>\n",
       "      <td>1.418244</td>\n",
       "    </tr>\n",
       "    <tr>\n",
       "      <th>economic_typology_2015</th>\n",
       "      <td>1.029876</td>\n",
       "      <td>1.010544</td>\n",
       "      <td>1.124769</td>\n",
       "      <td>1.107301</td>\n",
       "    </tr>\n",
       "    <tr>\n",
       "      <th>pop_estimate_2019</th>\n",
       "      <td>921242.000000</td>\n",
       "      <td>947487.062500</td>\n",
       "      <td>818217.875000</td>\n",
       "      <td>835808.437500</td>\n",
       "    </tr>\n",
       "    <tr>\n",
       "      <th>less_hs_pct</th>\n",
       "      <td>10.489282</td>\n",
       "      <td>10.523885</td>\n",
       "      <td>10.299511</td>\n",
       "      <td>10.290074</td>\n",
       "    </tr>\n",
       "    <tr>\n",
       "      <th>hs_only_pct</th>\n",
       "      <td>25.731861</td>\n",
       "      <td>25.867094</td>\n",
       "      <td>25.994860</td>\n",
       "      <td>26.160345</td>\n",
       "    </tr>\n",
       "    <tr>\n",
       "      <th>some_college_pct</th>\n",
       "      <td>30.739506</td>\n",
       "      <td>30.668827</td>\n",
       "      <td>30.874466</td>\n",
       "      <td>30.858322</td>\n",
       "    </tr>\n",
       "    <tr>\n",
       "      <th>bachelor_higher_pct</th>\n",
       "      <td>32.610687</td>\n",
       "      <td>32.456985</td>\n",
       "      <td>32.340019</td>\n",
       "      <td>32.196247</td>\n",
       "    </tr>\n",
       "    <tr>\n",
       "      <th>unempl_rate</th>\n",
       "      <td>7.518977</td>\n",
       "      <td>7.574501</td>\n",
       "      <td>7.415089</td>\n",
       "      <td>7.450969</td>\n",
       "    </tr>\n",
       "    <tr>\n",
       "      <th>med_hh_income_19</th>\n",
       "      <td>65031.218750</td>\n",
       "      <td>65107.121094</td>\n",
       "      <td>64492.792969</td>\n",
       "      <td>64554.539062</td>\n",
       "    </tr>\n",
       "    <tr>\n",
       "      <th>med_hh_income_pct_state_total_19</th>\n",
       "      <td>101.873161</td>\n",
       "      <td>101.873573</td>\n",
       "      <td>101.759926</td>\n",
       "      <td>101.689102</td>\n",
       "    </tr>\n",
       "    <tr>\n",
       "      <th>poverty_pct_19</th>\n",
       "      <td>12.186887</td>\n",
       "      <td>12.156719</td>\n",
       "      <td>12.228074</td>\n",
       "      <td>12.209303</td>\n",
       "    </tr>\n",
       "  </tbody>\n",
       "</table>\n",
       "</div>"
      ],
      "text/plain": [
       "                                              -              H              D  \\\n",
       "sex_female                             0.509732       0.506886       0.510686   \n",
       "age_0                                  0.023903       0.024029       0.024042   \n",
       "age_18                                 0.901533       0.899983       0.902223   \n",
       "age_50                                 0.049050       0.048853       0.044369   \n",
       "age_65                                -0.008550      -0.009199      -0.005976   \n",
       "race_native                           -0.001312      -0.001277      -0.000949   \n",
       "race_asian                             0.003214       0.003873       0.003134   \n",
       "race_black                             0.010569       0.010700       0.009801   \n",
       "race_other                             0.010437       0.010543       0.010601   \n",
       "race_native_pacific                   -0.000502      -0.000535      -0.000471   \n",
       "race_white                             0.943820       0.945856       0.946159   \n",
       "ethnicity_hispanic                     0.974869       0.973396       0.975060   \n",
       "case_onset_interval                   -0.015543      -0.015333      -0.015460   \n",
       "symptom_status                         0.999447       0.999450       0.999433   \n",
       "used_bed_ratio                         0.731570       0.732422       0.728869   \n",
       "used_icu_ratio                         0.714398       0.715171       0.714369   \n",
       "rural-urban_Continuum Code_2013        1.382300       1.371369       1.450156   \n",
       "urban_influence_code_2013              1.367816       1.347719       1.439906   \n",
       "economic_typology_2015                 1.029876       1.010544       1.124769   \n",
       "pop_estimate_2019                 921242.000000  947487.062500  818217.875000   \n",
       "less_hs_pct                           10.489282      10.523885      10.299511   \n",
       "hs_only_pct                           25.731861      25.867094      25.994860   \n",
       "some_college_pct                      30.739506      30.668827      30.874466   \n",
       "bachelor_higher_pct                   32.610687      32.456985      32.340019   \n",
       "unempl_rate                            7.518977       7.574501       7.415089   \n",
       "med_hh_income_19                   65031.218750   65107.121094   64492.792969   \n",
       "med_hh_income_pct_state_total_19     101.873161     101.873573     101.759926   \n",
       "poverty_pct_19                        12.186887      12.156719      12.228074   \n",
       "\n",
       "                                             HD  \n",
       "sex_female                             0.507891  \n",
       "age_0                                  0.023902  \n",
       "age_18                                 0.899822  \n",
       "age_50                                 0.046002  \n",
       "age_65                                -0.005699  \n",
       "race_native                           -0.000876  \n",
       "race_asian                             0.003605  \n",
       "race_black                             0.009982  \n",
       "race_other                             0.010737  \n",
       "race_native_pacific                   -0.000536  \n",
       "race_white                             0.948432  \n",
       "ethnicity_hispanic                     0.973815  \n",
       "case_onset_interval                   -0.016211  \n",
       "symptom_status                         0.999438  \n",
       "used_bed_ratio                         0.729268  \n",
       "used_icu_ratio                         0.715391  \n",
       "rural-urban_Continuum Code_2013        1.436133  \n",
       "urban_influence_code_2013              1.418244  \n",
       "economic_typology_2015                 1.107301  \n",
       "pop_estimate_2019                 835808.437500  \n",
       "less_hs_pct                           10.290074  \n",
       "hs_only_pct                           26.160345  \n",
       "some_college_pct                      30.858322  \n",
       "bachelor_higher_pct                   32.196247  \n",
       "unempl_rate                            7.450969  \n",
       "med_hh_income_19                   64554.539062  \n",
       "med_hh_income_pct_state_total_19     101.689102  \n",
       "poverty_pct_19                        12.209303  "
      ]
     },
     "metadata": {},
     "execution_count": 45
    }
   ],
   "metadata": {}
  },
  {
   "cell_type": "markdown",
   "source": [
    "## Reconstruction: Encodings"
   ],
   "metadata": {}
  },
  {
   "cell_type": "code",
   "execution_count": null,
   "source": [
    "fig, axes = plt.subplots(2, 2, figsize=(18, 12))\n",
    "fig.tight_layout(h_pad=5)\n",
    "fig.suptitle(r'Reconstruction: Encodings (standard-scaled $\\hat X$ for different onehot $z$)', size=20);\n",
    "fig.subplots_adjust(top=0.9)\n",
    "\n",
    "for i, y_combination, y_combination_name in zip(range(4), [[0,0], [1,0], [0,1], [1,1]], ['-', 'H', 'D', 'H&D']):\n",
    "    y_zeros = torch.Tensor([y_combination]*27).to(device)\n",
    "    z_onehot = torch.cat([torch.zeros((1, 26)), F.one_hot(torch.arange(0, 26))], dim=0).to(device)\n",
    "    x_onehot = inn.inverse(y_zeros, z_onehot)\n",
    "\n",
    "    img = axes[i//2][i%2].imshow(x_onehot.detach().cpu().T);\n",
    "    fig.colorbar(img, ax=axes[i//2][i%2], label='$\\sigma$');\n",
    "    axes[i//2][i%2].set_xlabel('onehot latent feature'); axes[i//2][i%2].set_title(y_combination_name)\n",
    "    axes[i//2][i%2].set_yticks(np.arange(28))\n",
    "    axes[i//2][i%2].set_yticklabels(keys);"
   ],
   "outputs": [
    {
     "output_type": "display_data",
     "data": {
      "image/png": "[encoded data removed]",
      "text/plain": [
       "<Figure size 1296x864 with 8 Axes>"
      ]
     },
     "metadata": {
      "needs_background": "light"
     }
    }
   ],
   "metadata": {}
  },
  {
   "cell_type": "code",
   "execution_count": null,
   "source": [
    "x_self = {\n",
    "    'sex_female': 0,\n",
    "    'age_0': 0,\n",
    "    'age_18': 1,\n",
    "    'age_50': 0,\n",
    "    'age_65': 0,\n",
    "    'race_native': 0,\n",
    "    'race_asian': 0,\n",
    "    'race_black': 0,\n",
    "    'race_other': 0,\n",
    "    'race_native_pacific': 0,\n",
    "    'race_white': 1,\n",
    "    'ethnicity_hispanic': 0,\n",
    "    'case_onset_interval': 0,\n",
    "    'symptom_status': 1,\n",
    "    'used_bed_ratio': 0.763, #https://www.destatis.de/DE/Themen/Gesellschaft-Umwelt/Gesundheit/Krankenhaeuser/Tabellen/eckzahlen-krankenhaeuser.html\n",
    "    'used_icu_ratio': 2237/2723, #https://www.intensivbetten-deutschland.de/#baden-wuerttemberg\n",
    "    'rural-urban_Continuum Code_2013',\n",
    "    'urban_influence_code_2013',\n",
    "    'economic_typology_2015',\n",
    "    'pop_estimate_2019': 548355, #https://de.statista.com/statistik/daten/studie/1172600/umfrage/entwicklung-der-gesamtbevoelkerung-im-rhein-neckar-kreis/\n",
    "    'less_hs_pct': (0.035 + 0.286 + 0.235 + 0.04), #https://www.destatis.de/DE/Themen/Gesellschaft-Umwelt/Bildung-Forschung-Kultur/Bildungsstand/Tabellen/bildungsabschluss.html;jsessionid=5F506FE286D82795D2AD411A8EB8435D.live731\n",
    "    'hs_only_pct': 25.5,\n",
    "    'some_college_pct': ,\n",
    "    'bachelor_higher_pct': (0.026 + 0.018 + 0.129 + 0.012),\n",
    "    'unempl_rate' 0.04, #https://www.baden-wuerttemberg.de/de/service/presse/pressemitteilung/pid/arbeitsmarkt-im-land-lebt-weiter-auf/\n",
    "    'med_hh_income_19': 25_278, #https://de.wikipedia.org/wiki/Liste_der_Landkreise_nach_Einkommen\n",
    "    'med_hh_income_pct_state_total_19',\n",
    "    'poverty_pct_19': 0.119 #https://paritaet-bw.de/presseportal/pressemitteilungen/armut-baden-wuerttemberg-bei-119-prozent-der-paritaetische-baden-wuerttemberg-fordert-vom-land-sich-weiterhin-gegen-kinderarmut-stark-zu-machen\n",
    "}"
   ],
   "outputs": [
    {
     "output_type": "error",
     "ename": "SyntaxError",
     "evalue": "invalid syntax (<ipython-input-47-703a117ff878>, line 18)",
     "traceback": [
      "\u001b[0;36m  File \u001b[0;32m\"<ipython-input-47-703a117ff878>\"\u001b[0;36m, line \u001b[0;32m18\u001b[0m\n\u001b[0;31m    'rural-urban_Continuum Code_2013',\u001b[0m\n\u001b[0m                                     ^\u001b[0m\n\u001b[0;31mSyntaxError\u001b[0m\u001b[0;31m:\u001b[0m invalid syntax\n"
     ]
    }
   ],
   "metadata": {}
  },
  {
   "cell_type": "code",
   "execution_count": 42,
   "source": [
    "x_dead = X_test_scaled[y_test[:, 1] == 1][0].reshape(1, -1)\n",
    "y_dead = torch.Tensor([[1, 1]]).to(device)\n",
    "y_alive = torch.Tensor([[0, 0]]).to(device)\n",
    "\n",
    "z_dead = cinn.forward(x_dead, y_dead)\n",
    "\n",
    "x_reconstructed = cinn.inverse(z_dead, y_dead).detach().cpu().numpy()\n",
    "x_alive = cinn.inverse(z_dead, y_alive).detach().cpu().numpy()\n",
    "\n",
    "x_combined = np.concatenate([x_dead.detach().cpu().numpy(), x_reconstructed, x_alive], axis=0)"
   ],
   "outputs": [],
   "metadata": {}
  },
  {
   "cell_type": "code",
   "execution_count": 43,
   "source": [
    "plt.imshow(x_combined)"
   ],
   "outputs": [
    {
     "output_type": "execute_result",
     "data": {
      "text/plain": [
       "<matplotlib.image.AxesImage at 0x7f410ad57610>"
      ]
     },
     "metadata": {},
     "execution_count": 43
    },
    {
     "output_type": "display_data",
     "data": {
      "image/png": "[encoded data removed]",
      "text/plain": [
       "<Figure size 432x288 with 1 Axes>"
      ]
     },
     "metadata": {
      "needs_background": "light"
     }
    }
   ],
   "metadata": {}
  },
  {
   "cell_type": "code",
   "execution_count": 44,
   "source": [
    "prettyX(sc_X_train.inverse_transform(x_combined), index=['Dead', 'Reconstructed Alive', 'Reconstructed Alive']).T"
   ],
   "outputs": [
    {
     "output_type": "execute_result",
     "data": {
      "text/html": [
       "<div>\n",
       "<style scoped>\n",
       "    .dataframe tbody tr th:only-of-type {\n",
       "        vertical-align: middle;\n",
       "    }\n",
       "\n",
       "    .dataframe tbody tr th {\n",
       "        vertical-align: top;\n",
       "    }\n",
       "\n",
       "    .dataframe thead th {\n",
       "        text-align: right;\n",
       "    }\n",
       "</style>\n",
       "<table border=\"1\" class=\"dataframe\">\n",
       "  <thead>\n",
       "    <tr style=\"text-align: right;\">\n",
       "      <th></th>\n",
       "      <th>Dead</th>\n",
       "      <th>Reconstructed Alive</th>\n",
       "      <th>Reconstructed Alive</th>\n",
       "    </tr>\n",
       "  </thead>\n",
       "  <tbody>\n",
       "    <tr>\n",
       "      <th>sex_female</th>\n",
       "      <td>9.679423e-09</td>\n",
       "      <td>0.207871</td>\n",
       "      <td>0.062894</td>\n",
       "    </tr>\n",
       "    <tr>\n",
       "      <th>age_0</th>\n",
       "      <td>2.080017e-09</td>\n",
       "      <td>0.093829</td>\n",
       "      <td>0.093326</td>\n",
       "    </tr>\n",
       "    <tr>\n",
       "      <th>age_18</th>\n",
       "      <td>2.912574e-08</td>\n",
       "      <td>0.530880</td>\n",
       "      <td>0.547922</td>\n",
       "    </tr>\n",
       "    <tr>\n",
       "      <th>age_50</th>\n",
       "      <td>-1.747322e-08</td>\n",
       "      <td>0.166598</td>\n",
       "      <td>0.185042</td>\n",
       "    </tr>\n",
       "    <tr>\n",
       "      <th>age_65</th>\n",
       "      <td>1.000000e+00</td>\n",
       "      <td>0.158057</td>\n",
       "      <td>0.092787</td>\n",
       "    </tr>\n",
       "    <tr>\n",
       "      <th>race_native</th>\n",
       "      <td>2.696014e-11</td>\n",
       "      <td>0.009001</td>\n",
       "      <td>0.005744</td>\n",
       "    </tr>\n",
       "    <tr>\n",
       "      <th>race_asian</th>\n",
       "      <td>-4.300146e-10</td>\n",
       "      <td>-0.010869</td>\n",
       "      <td>0.003276</td>\n",
       "    </tr>\n",
       "    <tr>\n",
       "      <th>race_black</th>\n",
       "      <td>1.137655e-09</td>\n",
       "      <td>0.063262</td>\n",
       "      <td>0.076589</td>\n",
       "    </tr>\n",
       "    <tr>\n",
       "      <th>race_other</th>\n",
       "      <td>4.855196e-10</td>\n",
       "      <td>0.045074</td>\n",
       "      <td>0.034335</td>\n",
       "    </tr>\n",
       "    <tr>\n",
       "      <th>race_native_pacific</th>\n",
       "      <td>1.334025e-11</td>\n",
       "      <td>0.003720</td>\n",
       "      <td>0.000905</td>\n",
       "    </tr>\n",
       "    <tr>\n",
       "      <th>race_white</th>\n",
       "      <td>1.000000e+00</td>\n",
       "      <td>0.793793</td>\n",
       "      <td>0.802689</td>\n",
       "    </tr>\n",
       "    <tr>\n",
       "      <th>ethnicity_hispanic</th>\n",
       "      <td>1.000000e+00</td>\n",
       "      <td>0.949485</td>\n",
       "      <td>0.956544</td>\n",
       "    </tr>\n",
       "    <tr>\n",
       "      <th>case_onset_interval</th>\n",
       "      <td>1.309788e-09</td>\n",
       "      <td>-0.052972</td>\n",
       "      <td>-0.028471</td>\n",
       "    </tr>\n",
       "    <tr>\n",
       "      <th>symptom_status</th>\n",
       "      <td>1.000000e+00</td>\n",
       "      <td>0.989984</td>\n",
       "      <td>0.996785</td>\n",
       "    </tr>\n",
       "    <tr>\n",
       "      <th>used_bed_ratio</th>\n",
       "      <td>7.818549e-01</td>\n",
       "      <td>0.729988</td>\n",
       "      <td>0.729236</td>\n",
       "    </tr>\n",
       "    <tr>\n",
       "      <th>used_icu_ratio</th>\n",
       "      <td>7.971122e-01</td>\n",
       "      <td>0.719053</td>\n",
       "      <td>0.723863</td>\n",
       "    </tr>\n",
       "    <tr>\n",
       "      <th>rural-urban_Continuum Code_2013</th>\n",
       "      <td>1.000000e+00</td>\n",
       "      <td>1.758701</td>\n",
       "      <td>1.750171</td>\n",
       "    </tr>\n",
       "    <tr>\n",
       "      <th>urban_influence_code_2013</th>\n",
       "      <td>1.000000e+00</td>\n",
       "      <td>1.484882</td>\n",
       "      <td>1.568787</td>\n",
       "    </tr>\n",
       "    <tr>\n",
       "      <th>economic_typology_2015</th>\n",
       "      <td>5.000000e+00</td>\n",
       "      <td>1.280451</td>\n",
       "      <td>1.356175</td>\n",
       "    </tr>\n",
       "    <tr>\n",
       "      <th>pop_estimate_2019</th>\n",
       "      <td>2.266715e+06</td>\n",
       "      <td>963131.437500</td>\n",
       "      <td>950756.187500</td>\n",
       "    </tr>\n",
       "    <tr>\n",
       "      <th>less_hs_pct</th>\n",
       "      <td>1.390000e+01</td>\n",
       "      <td>10.665620</td>\n",
       "      <td>10.826513</td>\n",
       "    </tr>\n",
       "    <tr>\n",
       "      <th>hs_only_pct</th>\n",
       "      <td>2.850000e+01</td>\n",
       "      <td>25.482378</td>\n",
       "      <td>26.079729</td>\n",
       "    </tr>\n",
       "    <tr>\n",
       "      <th>some_college_pct</th>\n",
       "      <td>3.310000e+01</td>\n",
       "      <td>29.833525</td>\n",
       "      <td>29.854706</td>\n",
       "    </tr>\n",
       "    <tr>\n",
       "      <th>bachelor_higher_pct</th>\n",
       "      <td>2.450000e+01</td>\n",
       "      <td>31.746405</td>\n",
       "      <td>31.965557</td>\n",
       "    </tr>\n",
       "    <tr>\n",
       "      <th>unempl_rate</th>\n",
       "      <td>1.470000e+01</td>\n",
       "      <td>7.499662</td>\n",
       "      <td>7.712755</td>\n",
       "    </tr>\n",
       "    <tr>\n",
       "      <th>med_hh_income_19</th>\n",
       "      <td>6.213100e+04</td>\n",
       "      <td>68632.937500</td>\n",
       "      <td>67642.187500</td>\n",
       "    </tr>\n",
       "    <tr>\n",
       "      <th>med_hh_income_pct_state_total_19</th>\n",
       "      <td>9.820288e+01</td>\n",
       "      <td>101.648010</td>\n",
       "      <td>102.206757</td>\n",
       "    </tr>\n",
       "    <tr>\n",
       "      <th>poverty_pct_19</th>\n",
       "      <td>1.330000e+01</td>\n",
       "      <td>12.632671</td>\n",
       "      <td>12.279615</td>\n",
       "    </tr>\n",
       "  </tbody>\n",
       "</table>\n",
       "</div>"
      ],
      "text/plain": [
       "                                          Dead  Reconstructed Alive  \\\n",
       "sex_female                        9.679423e-09             0.207871   \n",
       "age_0                             2.080017e-09             0.093829   \n",
       "age_18                            2.912574e-08             0.530880   \n",
       "age_50                           -1.747322e-08             0.166598   \n",
       "age_65                            1.000000e+00             0.158057   \n",
       "race_native                       2.696014e-11             0.009001   \n",
       "race_asian                       -4.300146e-10            -0.010869   \n",
       "race_black                        1.137655e-09             0.063262   \n",
       "race_other                        4.855196e-10             0.045074   \n",
       "race_native_pacific               1.334025e-11             0.003720   \n",
       "race_white                        1.000000e+00             0.793793   \n",
       "ethnicity_hispanic                1.000000e+00             0.949485   \n",
       "case_onset_interval               1.309788e-09            -0.052972   \n",
       "symptom_status                    1.000000e+00             0.989984   \n",
       "used_bed_ratio                    7.818549e-01             0.729988   \n",
       "used_icu_ratio                    7.971122e-01             0.719053   \n",
       "rural-urban_Continuum Code_2013   1.000000e+00             1.758701   \n",
       "urban_influence_code_2013         1.000000e+00             1.484882   \n",
       "economic_typology_2015            5.000000e+00             1.280451   \n",
       "pop_estimate_2019                 2.266715e+06        963131.437500   \n",
       "less_hs_pct                       1.390000e+01            10.665620   \n",
       "hs_only_pct                       2.850000e+01            25.482378   \n",
       "some_college_pct                  3.310000e+01            29.833525   \n",
       "bachelor_higher_pct               2.450000e+01            31.746405   \n",
       "unempl_rate                       1.470000e+01             7.499662   \n",
       "med_hh_income_19                  6.213100e+04         68632.937500   \n",
       "med_hh_income_pct_state_total_19  9.820288e+01           101.648010   \n",
       "poverty_pct_19                    1.330000e+01            12.632671   \n",
       "\n",
       "                                  Reconstructed Alive  \n",
       "sex_female                                   0.062894  \n",
       "age_0                                        0.093326  \n",
       "age_18                                       0.547922  \n",
       "age_50                                       0.185042  \n",
       "age_65                                       0.092787  \n",
       "race_native                                  0.005744  \n",
       "race_asian                                   0.003276  \n",
       "race_black                                   0.076589  \n",
       "race_other                                   0.034335  \n",
       "race_native_pacific                          0.000905  \n",
       "race_white                                   0.802689  \n",
       "ethnicity_hispanic                           0.956544  \n",
       "case_onset_interval                         -0.028471  \n",
       "symptom_status                               0.996785  \n",
       "used_bed_ratio                               0.729236  \n",
       "used_icu_ratio                               0.723863  \n",
       "rural-urban_Continuum Code_2013              1.750171  \n",
       "urban_influence_code_2013                    1.568787  \n",
       "economic_typology_2015                       1.356175  \n",
       "pop_estimate_2019                       950756.187500  \n",
       "less_hs_pct                                 10.826513  \n",
       "hs_only_pct                                 26.079729  \n",
       "some_college_pct                            29.854706  \n",
       "bachelor_higher_pct                         31.965557  \n",
       "unempl_rate                                  7.712755  \n",
       "med_hh_income_19                         67642.187500  \n",
       "med_hh_income_pct_state_total_19           102.206757  \n",
       "poverty_pct_19                              12.279615  "
      ]
     },
     "metadata": {},
     "execution_count": 44
    }
   ],
   "metadata": {}
  },
  {
   "cell_type": "code",
   "execution_count": null,
   "source": [
    "# IDEA: personal data -> latent representation -> set y = 0 -> inverse -> observe what changed"
   ],
   "outputs": [],
   "metadata": {}
  },
  {
   "cell_type": "code",
   "execution_count": null,
   "source": [
    "for i, y_label in enumerate(['hosp', 'death']):\n",
    "    print(f'--- {y_label} ---')\n",
    "    evaluation_results[y_label] = np.concatenate([1 - y_proba_pred[:, i].reshape(-1, 1), y_proba_pred[:, i].reshape(-1, 1)], axis=1)\n",
    "\n",
    "    print(f'binary cross-entropy: {np.round(log_loss(y_test[:, i], evaluation_results[y_label][:, 1]), 4)}')\n",
    "    print(f'brier loss: {brier_score_loss(y_test[:, i], evaluation_results[y_label][:, 1]).round(4)}')\n",
    "    print(f'accuracy: {accuracy_score(y_test[:, i], evaluation_results[y_label][:, 1].round()).round(4)}')\n",
    "    print('confusion matrix:')\n",
    "    print(confusion_matrix(y_test[:, i], (evaluation_results[y_label][:, 1] > 0.5).astype(int)))\n",
    "    print()"
   ],
   "outputs": [
    {
     "output_type": "stream",
     "name": "stdout",
     "text": [
      "--- hosp ---\n",
      "binary cross-entropy: 0.2144\n",
      "brier loss: 0.0576\n",
      "accuracy: 0.9313\n",
      "confusion matrix:\n",
      "[[584675    947]\n",
      " [ 42365   2303]]\n",
      "\n",
      "--- death ---\n",
      "binary cross-entropy: 0.0563\n",
      "brier loss: 0.0115\n",
      "accuracy: 0.9876\n",
      "confusion matrix:\n",
      "[[621469     17]\n",
      " [  7789   1015]]\n",
      "\n"
     ]
    }
   ],
   "metadata": {}
  },
  {
   "cell_type": "code",
   "execution_count": null,
   "source": [
    "with open('../../evaluation_results/models/INN.pt', 'wb') as file:\n",
    "    pickle.dump(evaluation_results, file)"
   ],
   "outputs": [],
   "metadata": {}
  }
 ],
 "metadata": {
  "orig_nbformat": 4,
  "language_info": {
   "name": "python",
   "version": "3.8.10",
   "mimetype": "text/x-python",
   "codemirror_mode": {
    "name": "ipython",
    "version": 3
   },
   "pygments_lexer": "ipython3",
   "nbconvert_exporter": "python",
   "file_extension": ".py"
  },
  "kernelspec": {
   "name": "python3",
   "display_name": "Python 3.8.10 64-bit"
  },
  "interpreter": {
   "hash": "31f2aee4e71d21fbe5cf8b01ff0e069b9275f58929596ceb00d14d90e3e16cd6"
  }
 },
 "nbformat": 4,
 "nbformat_minor": 2
}