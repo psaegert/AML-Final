{
 "cells": [
  {
   "cell_type": "code",
   "execution_count": 1,
   "source": [
    "import pickle\r\n",
    "import numpy as np\r\n",
    "import pandas as pd\r\n",
    "from tqdm.auto import tqdm\r\n",
    "from sklearn.metrics import log_loss, brier_score_loss, accuracy_score, confusion_matrix\r\n",
    "\r\n",
    "import matplotlib.pyplot as plt"
   ],
   "outputs": [],
   "metadata": {}
  },
  {
   "cell_type": "code",
   "execution_count": 2,
   "source": [
    "with open('../data/data_test.pt', 'rb') as file:\r\n",
    "    X_test, y_test = pickle.load(file)\r\n",
    "\r\n",
    "print(f'{X_test.shape = }')\r\n",
    "print(f'{y_test.shape = }')"
   ],
   "outputs": [
    {
     "output_type": "stream",
     "name": "stdout",
     "text": [
      "X_test.shape = (630290, 28)\n",
      "y_test.shape = (630290, 2)\n"
     ]
    }
   ],
   "metadata": {}
  },
  {
   "cell_type": "code",
   "execution_count": 3,
   "source": [
    "model_name_list = ['LR', 'RF', 'SVC']"
   ],
   "outputs": [],
   "metadata": {}
  },
  {
   "cell_type": "code",
   "execution_count": 7,
   "source": [
    "y_pred, results = {}, {}\r\n",
    "\r\n",
    "for model_name in model_name_list:\r\n",
    "    with open(f'./{model_name}.pt', 'rb') as file:\r\n",
    "        y_pred[model_name] = pickle.load(file)\r\n",
    "\r\n",
    "\r\n",
    "for i, y_label in enumerate(['hosp', 'death']):\r\n",
    "    results[y_label] = {}\r\n",
    "    \r\n",
    "    for model_name in model_name_list:\r\n",
    "        results[y_label][model_name] = {}\r\n",
    "        results[y_label][model_name]['binary_crossentropy'] = log_loss(y_test[:, i], y_pred[model_name][y_label][:, 1])\r\n",
    "        results[y_label][model_name]['brier_score'] = brier_score_loss(y_test[:, i], y_pred[model_name][y_label][:, 1])\r\n",
    "        results[y_label][model_name]['accuracy'] = accuracy_score(y_test[:, i], y_pred[model_name][y_label][:, 1].round())\r\n",
    "        [[results[y_label][model_name]['TN'], results[y_label][model_name]['FN']],\r\n",
    "        [results[y_label][model_name]['FP'], results[y_label][model_name]['TP']]] = confusion_matrix(y_test[:, i], (y_pred[model_name][y_label][:, 1] < 0.5).astype(int))"
   ],
   "outputs": [],
   "metadata": {}
  },
  {
   "cell_type": "markdown",
   "source": [
    "# Results"
   ],
   "metadata": {}
  },
  {
   "cell_type": "markdown",
   "source": [
    "## Hospitalization"
   ],
   "metadata": {}
  },
  {
   "cell_type": "code",
   "execution_count": 8,
   "source": [
    "pd.DataFrame(results['hosp']).T.sort_values('binary_crossentropy')"
   ],
   "outputs": [
    {
     "output_type": "execute_result",
     "data": {
      "text/html": [
       "<div>\n",
       "<style scoped>\n",
       "    .dataframe tbody tr th:only-of-type {\n",
       "        vertical-align: middle;\n",
       "    }\n",
       "\n",
       "    .dataframe tbody tr th {\n",
       "        vertical-align: top;\n",
       "    }\n",
       "\n",
       "    .dataframe thead th {\n",
       "        text-align: right;\n",
       "    }\n",
       "</style>\n",
       "<table border=\"1\" class=\"dataframe\">\n",
       "  <thead>\n",
       "    <tr style=\"text-align: right;\">\n",
       "      <th></th>\n",
       "      <th>binary_crossentropy</th>\n",
       "      <th>brier</th>\n",
       "      <th>accuracy</th>\n",
       "      <th>TN</th>\n",
       "      <th>FN</th>\n",
       "      <th>FP</th>\n",
       "      <th>TP</th>\n",
       "    </tr>\n",
       "  </thead>\n",
       "  <tbody>\n",
       "    <tr>\n",
       "      <th>SVC</th>\n",
       "      <td>0.213310</td>\n",
       "      <td>0.057606</td>\n",
       "      <td>0.931294</td>\n",
       "      <td>415.0</td>\n",
       "      <td>585207.0</td>\n",
       "      <td>1778.0</td>\n",
       "      <td>42890.0</td>\n",
       "    </tr>\n",
       "    <tr>\n",
       "      <th>RF</th>\n",
       "      <td>0.363646</td>\n",
       "      <td>0.054708</td>\n",
       "      <td>0.934254</td>\n",
       "      <td>3734.0</td>\n",
       "      <td>581888.0</td>\n",
       "      <td>6960.0</td>\n",
       "      <td>37708.0</td>\n",
       "    </tr>\n",
       "    <tr>\n",
       "      <th>LR</th>\n",
       "      <td>0.404312</td>\n",
       "      <td>0.109761</td>\n",
       "      <td>0.918031</td>\n",
       "      <td>16953.0</td>\n",
       "      <td>568669.0</td>\n",
       "      <td>9957.0</td>\n",
       "      <td>34711.0</td>\n",
       "    </tr>\n",
       "  </tbody>\n",
       "</table>\n",
       "</div>"
      ],
      "text/plain": [
       "     binary_crossentropy     brier  accuracy       TN        FN      FP  \\\n",
       "SVC             0.213310  0.057606  0.931294    415.0  585207.0  1778.0   \n",
       "RF              0.363646  0.054708  0.934254   3734.0  581888.0  6960.0   \n",
       "LR              0.404312  0.109761  0.918031  16953.0  568669.0  9957.0   \n",
       "\n",
       "          TP  \n",
       "SVC  42890.0  \n",
       "RF   37708.0  \n",
       "LR   34711.0  "
      ]
     },
     "metadata": {},
     "execution_count": 8
    }
   ],
   "metadata": {}
  },
  {
   "cell_type": "markdown",
   "source": [
    "## Fatality"
   ],
   "metadata": {}
  },
  {
   "cell_type": "code",
   "execution_count": 6,
   "source": [
    "pd.DataFrame(results['death']).T.sort_values('binary_crossentropy')"
   ],
   "outputs": [
    {
     "output_type": "execute_result",
     "data": {
      "text/html": [
       "<div>\n",
       "<style scoped>\n",
       "    .dataframe tbody tr th:only-of-type {\n",
       "        vertical-align: middle;\n",
       "    }\n",
       "\n",
       "    .dataframe tbody tr th {\n",
       "        vertical-align: top;\n",
       "    }\n",
       "\n",
       "    .dataframe thead th {\n",
       "        text-align: right;\n",
       "    }\n",
       "</style>\n",
       "<table border=\"1\" class=\"dataframe\">\n",
       "  <thead>\n",
       "    <tr style=\"text-align: right;\">\n",
       "      <th></th>\n",
       "      <th>binary_crossentropy</th>\n",
       "      <th>brier</th>\n",
       "      <th>accuracy</th>\n",
       "      <th>TN</th>\n",
       "      <th>TP</th>\n",
       "      <th>FN</th>\n",
       "      <th>FP</th>\n",
       "    </tr>\n",
       "  </thead>\n",
       "  <tbody>\n",
       "    <tr>\n",
       "      <th>RF</th>\n",
       "      <td>0.035165</td>\n",
       "      <td>0.009267</td>\n",
       "      <td>0.988689</td>\n",
       "      <td>310.0</td>\n",
       "      <td>6819.0</td>\n",
       "      <td>621176.0</td>\n",
       "      <td>1985.0</td>\n",
       "    </tr>\n",
       "    <tr>\n",
       "      <th>SVC</th>\n",
       "      <td>0.043526</td>\n",
       "      <td>0.011111</td>\n",
       "      <td>0.987379</td>\n",
       "      <td>442.0</td>\n",
       "      <td>7513.0</td>\n",
       "      <td>621044.0</td>\n",
       "      <td>1291.0</td>\n",
       "    </tr>\n",
       "    <tr>\n",
       "      <th>LR</th>\n",
       "      <td>0.062010</td>\n",
       "      <td>0.011576</td>\n",
       "      <td>0.987618</td>\n",
       "      <td>20.0</td>\n",
       "      <td>7784.0</td>\n",
       "      <td>621466.0</td>\n",
       "      <td>1020.0</td>\n",
       "    </tr>\n",
       "  </tbody>\n",
       "</table>\n",
       "</div>"
      ],
      "text/plain": [
       "     binary_crossentropy     brier  accuracy     TN      TP        FN      FP\n",
       "RF              0.035165  0.009267  0.988689  310.0  6819.0  621176.0  1985.0\n",
       "SVC             0.043526  0.011111  0.987379  442.0  7513.0  621044.0  1291.0\n",
       "LR              0.062010  0.011576  0.987618   20.0  7784.0  621466.0  1020.0"
      ]
     },
     "metadata": {},
     "execution_count": 6
    }
   ],
   "metadata": {}
  }
 ],
 "metadata": {
  "orig_nbformat": 4,
  "language_info": {
   "name": "python",
   "version": "3.9.5",
   "mimetype": "text/x-python",
   "codemirror_mode": {
    "name": "ipython",
    "version": 3
   },
   "pygments_lexer": "ipython3",
   "nbconvert_exporter": "python",
   "file_extension": ".py"
  },
  "kernelspec": {
   "name": "python3",
   "display_name": "Python 3.9.5 64-bit"
  },
  "interpreter": {
   "hash": "68764fea58fce3debd0ec160882a0d43aa3f505a880da5fb9e1c918b12b71a7c"
  }
 },
 "nbformat": 4,
 "nbformat_minor": 2
}