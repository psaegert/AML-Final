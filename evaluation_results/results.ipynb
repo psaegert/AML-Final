{
 "cells": [
  {
   "cell_type": "code",
   "execution_count": 25,
   "source": [
    "import pickle\n",
    "import numpy as np\n",
    "import pandas as pd\n",
    "from tqdm.auto import tqdm\n",
    "from sklearn.metrics import log_loss, brier_score_loss, accuracy_score, confusion_matrix\n",
    "\n",
    "import matplotlib.pyplot as plt"
   ],
   "outputs": [],
   "metadata": {}
  },
  {
   "cell_type": "code",
   "execution_count": 26,
   "source": [
    "model_name_list = ['Prior', 'LR', 'SVC', 'RF']#, 'INN', 'NBC']"
   ],
   "outputs": [],
   "metadata": {}
  },
  {
   "cell_type": "code",
   "execution_count": 27,
   "source": [
    "round_precision = 4\n",
    "# dtype_dict = {'binary_crossentropy': float, 'brier_score': float, 'accuracy': float, 'TN': int, 'TP': int, 'FN': int, 'FP': int}"
   ],
   "outputs": [],
   "metadata": {}
  },
  {
   "cell_type": "code",
   "execution_count": 28,
   "source": [
    "with open('../data/data_test.pt', 'rb') as file:\n",
    "    X_test, y_test = pickle.load(file)\n",
    "\n",
    "print(f'{X_test.shape = }')\n",
    "print(f'{y_test.shape = }')"
   ],
   "outputs": [
    {
     "output_type": "stream",
     "name": "stdout",
     "text": [
      "X_test.shape = (578417, 33)\n",
      "y_test.shape = (578417, 2)\n"
     ]
    }
   ],
   "metadata": {}
  },
  {
   "cell_type": "code",
   "execution_count": 29,
   "source": [
    "y_pred = {}\n",
    "for model_name in model_name_list:\n",
    "    with open(f'./predictions/{model_name}.pt', 'rb') as file:\n",
    "        y_pred[model_name] = pickle.load(file)\n",
    "\n",
    "        if model_name == 'NBC':\n",
    "            for y_label in ['hosp', 'death']:\n",
    "                y_pred[model_name][y_label] = np.concatenate([1 - y_pred[model_name][y_label].reshape(-1, 1), y_pred[model_name][y_label].reshape(-1, 1)], axis=1)"
   ],
   "outputs": [],
   "metadata": {}
  },
  {
   "cell_type": "code",
   "execution_count": 30,
   "source": [
    "results = {}\n",
    "\n",
    "for i, y_label in enumerate(['hosp', 'death']):\n",
    "    results[y_label] = {}\n",
    "    \n",
    "    for model_name in model_name_list:\n",
    "        results[y_label][model_name] = {}\n",
    "\n",
    "        # average performance over 5 runs\n",
    "        if model_name in ['INN']:\n",
    "            log_loss_list = [log_loss(y_test[:, i], y_pred[model_name][y_label][j][:, 1]) for j in range(5)]\n",
    "            results[y_label][model_name]['binary_crossentropy'] = f'{np.mean(log_loss_list).round(round_precision)} ± {np.std(log_loss_list).round(round_precision)}'\n",
    "            results[y_label][model_name]['binary_crossentropy_sortable'] = np.mean(log_loss_list).round(round_precision)\n",
    "\n",
    "            brier_score_list = [brier_score_loss(y_test[:, i], y_pred[model_name][y_label][j][:, 1]) for j in range(5)]\n",
    "            results[y_label][model_name]['brier_score'] = f'{np.mean(brier_score_list).round(round_precision)} ± {np.std(brier_score_list).round(round_precision)}'\n",
    "\n",
    "            accuracy_list = [accuracy_score(y_test[:, i], y_pred[model_name][y_label][j][:, 1].round()) for j in range(5)]\n",
    "            results[y_label][model_name]['accuracy'] = f'{np.mean(accuracy_list).round(round_precision)} ± {np.std(accuracy_list).round(round_precision)}'\n",
    "\n",
    "            CMs = [confusion_matrix(y_test[:, i], (y_pred[model_name][y_label][j][:, 1] > 0.5).astype(int)) for j in range(5)]\n",
    "            results[y_label][model_name]['TN'] = f'{np.mean([CMs[j][0, 0] for j in range(5)]).round(round_precision)} ± {np.std([CMs[j][0, 0] for j in range(5)]).round(0)}'\n",
    "            results[y_label][model_name]['TP'] = f'{np.mean([CMs[j][1, 1] for j in range(5)]).round(round_precision)} ± {np.std([CMs[j][1, 1] for j in range(5)]).round(0)}'\n",
    "            results[y_label][model_name]['FP'] = f'{np.mean([CMs[j][0, 1] for j in range(5)]).round(round_precision)} ± {np.std([CMs[j][0, 1] for j in range(5)]).round(0)}'\n",
    "            results[y_label][model_name]['FN'] = f'{np.mean([CMs[j][1, 0] for j in range(5)]).round(round_precision)} ± {np.std([CMs[j][1, 0] for j in range(5)]).round(0)}'\n",
    "        # training is deterministic, no need to average\n",
    "        else:\n",
    "            results[y_label][model_name]['binary_crossentropy'] = log_loss(y_test[:, i], y_pred[model_name][y_label][:, 1]).round(round_precision)\n",
    "            results[y_label][model_name]['binary_crossentropy_sortable'] = log_loss(y_test[:, i], y_pred[model_name][y_label][:, 1]).round(round_precision)\n",
    "            results[y_label][model_name]['brier_score'] = brier_score_loss(y_test[:, i], y_pred[model_name][y_label][:, 1]).round(round_precision)\n",
    "            results[y_label][model_name]['accuracy'] = accuracy_score(y_test[:, i], y_pred[model_name][y_label][:, 1].round()).round(round_precision)\n",
    "\n",
    "            CM = confusion_matrix(y_test[:, i], (y_pred[model_name][y_label][:, 1] > 0.5).astype(int))\n",
    "            results[y_label][model_name]['TN'] = CM[0, 0]\n",
    "            results[y_label][model_name]['TP'] = CM[1, 1]\n",
    "            results[y_label][model_name]['FP'] = CM[0, 1]\n",
    "            results[y_label][model_name]['FN'] = CM[1, 0]"
   ],
   "outputs": [],
   "metadata": {}
  },
  {
   "cell_type": "code",
   "execution_count": 31,
   "source": [
    "for y_label in ['hosp', 'death']:\n",
    "    results[y_label]['Prior']['CPU'] = '-'\n",
    "    results[y_label]['SVC']['CPU'] = 'i7-6700k(4C/8T)@4.5GHz'\n",
    "    results[y_label]['RF']['CPU'] = 'i7-6700k(4C/8T)@4.5GHz'\n",
    "    results[y_label]['LR']['CPU'] = 'i7-6700k(4C/8T)@4.5GHz'\n",
    "    results[y_label]['INN']['CPU'] = 'i7-6700k(4C/8T)@4.5GHz'\n",
    "\n",
    "    results[y_label]['Prior']['GPU'] = '-'\n",
    "    results[y_label]['SVC']['GPU'] = '-'\n",
    "    results[y_label]['RF']['GPU'] = '-'\n",
    "    results[y_label]['LR']['GPU'] = '-'\n",
    "    results[y_label]['INN']['GPU'] = 'GTX980Ti@1353/7010MHz'\n",
    "\n",
    "    results[y_label]['Prior']['Time (HH:mm)'] = '-'\n",
    "    results[y_label]['SVC']['Time (HH:mm)'] = '00:45'\n",
    "    results[y_label]['RF']['Time (HH:mm)'] = '02:00'\n",
    "    results[y_label]['LR']['Time (HH:mm)'] = '03:00'\n",
    "    results[y_label]['INN']['Time (HH:mm)'] = '26:00'"
   ],
   "outputs": [
    {
     "output_type": "error",
     "ename": "KeyError",
     "evalue": "'INN'",
     "traceback": [
      "\u001b[0;31m---------------------------------------------------------------------------\u001b[0m",
      "\u001b[0;31mKeyError\u001b[0m                                  Traceback (most recent call last)",
      "\u001b[0;32m<ipython-input-31-a2276bafccd5>\u001b[0m in \u001b[0;36m<module>\u001b[0;34m\u001b[0m\n\u001b[1;32m      4\u001b[0m     \u001b[0mresults\u001b[0m\u001b[0;34m[\u001b[0m\u001b[0my_label\u001b[0m\u001b[0;34m]\u001b[0m\u001b[0;34m[\u001b[0m\u001b[0;34m'RF'\u001b[0m\u001b[0;34m]\u001b[0m\u001b[0;34m[\u001b[0m\u001b[0;34m'CPU'\u001b[0m\u001b[0;34m]\u001b[0m \u001b[0;34m=\u001b[0m \u001b[0;34m'i7-6700k(4C/8T)@4.5GHz'\u001b[0m\u001b[0;34m\u001b[0m\u001b[0;34m\u001b[0m\u001b[0m\n\u001b[1;32m      5\u001b[0m     \u001b[0mresults\u001b[0m\u001b[0;34m[\u001b[0m\u001b[0my_label\u001b[0m\u001b[0;34m]\u001b[0m\u001b[0;34m[\u001b[0m\u001b[0;34m'LR'\u001b[0m\u001b[0;34m]\u001b[0m\u001b[0;34m[\u001b[0m\u001b[0;34m'CPU'\u001b[0m\u001b[0;34m]\u001b[0m \u001b[0;34m=\u001b[0m \u001b[0;34m'i7-6700k(4C/8T)@4.5GHz'\u001b[0m\u001b[0;34m\u001b[0m\u001b[0;34m\u001b[0m\u001b[0m\n\u001b[0;32m----> 6\u001b[0;31m     \u001b[0mresults\u001b[0m\u001b[0;34m[\u001b[0m\u001b[0my_label\u001b[0m\u001b[0;34m]\u001b[0m\u001b[0;34m[\u001b[0m\u001b[0;34m'INN'\u001b[0m\u001b[0;34m]\u001b[0m\u001b[0;34m[\u001b[0m\u001b[0;34m'CPU'\u001b[0m\u001b[0;34m]\u001b[0m \u001b[0;34m=\u001b[0m \u001b[0;34m'i7-6700k(4C/8T)@4.5GHz'\u001b[0m\u001b[0;34m\u001b[0m\u001b[0;34m\u001b[0m\u001b[0m\n\u001b[0m\u001b[1;32m      7\u001b[0m \u001b[0;34m\u001b[0m\u001b[0m\n\u001b[1;32m      8\u001b[0m     \u001b[0mresults\u001b[0m\u001b[0;34m[\u001b[0m\u001b[0my_label\u001b[0m\u001b[0;34m]\u001b[0m\u001b[0;34m[\u001b[0m\u001b[0;34m'Prior'\u001b[0m\u001b[0;34m]\u001b[0m\u001b[0;34m[\u001b[0m\u001b[0;34m'GPU'\u001b[0m\u001b[0;34m]\u001b[0m \u001b[0;34m=\u001b[0m \u001b[0;34m'-'\u001b[0m\u001b[0;34m\u001b[0m\u001b[0;34m\u001b[0m\u001b[0m\n",
      "\u001b[0;31mKeyError\u001b[0m: 'INN'"
     ]
    }
   ],
   "metadata": {}
  },
  {
   "cell_type": "markdown",
   "source": [
    "# Results"
   ],
   "metadata": {}
  },
  {
   "cell_type": "markdown",
   "source": [
    "## Hospitalization"
   ],
   "metadata": {}
  },
  {
   "cell_type": "code",
   "execution_count": 32,
   "source": [
    "pd.DataFrame(results['hosp']).T.sort_values('binary_crossentropy_sortable').drop(columns='binary_crossentropy_sortable')"
   ],
   "outputs": [
    {
     "output_type": "execute_result",
     "data": {
      "text/html": [
       "<div>\n",
       "<style scoped>\n",
       "    .dataframe tbody tr th:only-of-type {\n",
       "        vertical-align: middle;\n",
       "    }\n",
       "\n",
       "    .dataframe tbody tr th {\n",
       "        vertical-align: top;\n",
       "    }\n",
       "\n",
       "    .dataframe thead th {\n",
       "        text-align: right;\n",
       "    }\n",
       "</style>\n",
       "<table border=\"1\" class=\"dataframe\">\n",
       "  <thead>\n",
       "    <tr style=\"text-align: right;\">\n",
       "      <th></th>\n",
       "      <th>binary_crossentropy</th>\n",
       "      <th>brier_score</th>\n",
       "      <th>accuracy</th>\n",
       "      <th>TN</th>\n",
       "      <th>TP</th>\n",
       "      <th>FP</th>\n",
       "      <th>FN</th>\n",
       "      <th>CPU</th>\n",
       "    </tr>\n",
       "  </thead>\n",
       "  <tbody>\n",
       "    <tr>\n",
       "      <th>SVC</th>\n",
       "      <td>0.208</td>\n",
       "      <td>0.0558</td>\n",
       "      <td>0.9342</td>\n",
       "      <td>538632</td>\n",
       "      <td>1736</td>\n",
       "      <td>390</td>\n",
       "      <td>37659</td>\n",
       "      <td>i7-6700k(4C/8T)@4.5GHz</td>\n",
       "    </tr>\n",
       "    <tr>\n",
       "      <th>Prior</th>\n",
       "      <td>0.2487</td>\n",
       "      <td>0.0635</td>\n",
       "      <td>0.9319</td>\n",
       "      <td>539022</td>\n",
       "      <td>0</td>\n",
       "      <td>0</td>\n",
       "      <td>39395</td>\n",
       "      <td>-</td>\n",
       "    </tr>\n",
       "    <tr>\n",
       "      <th>RF</th>\n",
       "      <td>0.3544</td>\n",
       "      <td>0.0529</td>\n",
       "      <td>0.9371</td>\n",
       "      <td>535926</td>\n",
       "      <td>6102</td>\n",
       "      <td>3096</td>\n",
       "      <td>33293</td>\n",
       "      <td>i7-6700k(4C/8T)@4.5GHz</td>\n",
       "    </tr>\n",
       "    <tr>\n",
       "      <th>LR</th>\n",
       "      <td>0.391</td>\n",
       "      <td>0.1039</td>\n",
       "      <td>0.9274</td>\n",
       "      <td>529932</td>\n",
       "      <td>6520</td>\n",
       "      <td>9090</td>\n",
       "      <td>32875</td>\n",
       "      <td>i7-6700k(4C/8T)@4.5GHz</td>\n",
       "    </tr>\n",
       "  </tbody>\n",
       "</table>\n",
       "</div>"
      ],
      "text/plain": [
       "      binary_crossentropy brier_score accuracy      TN    TP    FP     FN  \\\n",
       "SVC                 0.208      0.0558   0.9342  538632  1736   390  37659   \n",
       "Prior              0.2487      0.0635   0.9319  539022     0     0  39395   \n",
       "RF                 0.3544      0.0529   0.9371  535926  6102  3096  33293   \n",
       "LR                  0.391      0.1039   0.9274  529932  6520  9090  32875   \n",
       "\n",
       "                          CPU  \n",
       "SVC    i7-6700k(4C/8T)@4.5GHz  \n",
       "Prior                       -  \n",
       "RF     i7-6700k(4C/8T)@4.5GHz  \n",
       "LR     i7-6700k(4C/8T)@4.5GHz  "
      ]
     },
     "metadata": {},
     "execution_count": 32
    }
   ],
   "metadata": {}
  },
  {
   "cell_type": "markdown",
   "source": [
    "## Fatality"
   ],
   "metadata": {}
  },
  {
   "cell_type": "code",
   "execution_count": 33,
   "source": [
    "pd.DataFrame(results['death']).T.sort_values('binary_crossentropy_sortable').drop(columns='binary_crossentropy_sortable')"
   ],
   "outputs": [
    {
     "output_type": "execute_result",
     "data": {
      "text/html": [
       "<div>\n",
       "<style scoped>\n",
       "    .dataframe tbody tr th:only-of-type {\n",
       "        vertical-align: middle;\n",
       "    }\n",
       "\n",
       "    .dataframe tbody tr th {\n",
       "        vertical-align: top;\n",
       "    }\n",
       "\n",
       "    .dataframe thead th {\n",
       "        text-align: right;\n",
       "    }\n",
       "</style>\n",
       "<table border=\"1\" class=\"dataframe\">\n",
       "  <thead>\n",
       "    <tr style=\"text-align: right;\">\n",
       "      <th></th>\n",
       "      <th>binary_crossentropy</th>\n",
       "      <th>brier_score</th>\n",
       "      <th>accuracy</th>\n",
       "      <th>TN</th>\n",
       "      <th>TP</th>\n",
       "      <th>FP</th>\n",
       "      <th>FN</th>\n",
       "    </tr>\n",
       "  </thead>\n",
       "  <tbody>\n",
       "    <tr>\n",
       "      <th>RF</th>\n",
       "      <td>0.0346</td>\n",
       "      <td>0.0087</td>\n",
       "      <td>0.9895</td>\n",
       "      <td>570438.0</td>\n",
       "      <td>1928.0</td>\n",
       "      <td>261.0</td>\n",
       "      <td>5790.0</td>\n",
       "    </tr>\n",
       "    <tr>\n",
       "      <th>SVC</th>\n",
       "      <td>0.0416</td>\n",
       "      <td>0.0105</td>\n",
       "      <td>0.9883</td>\n",
       "      <td>570466.0</td>\n",
       "      <td>1204.0</td>\n",
       "      <td>233.0</td>\n",
       "      <td>6514.0</td>\n",
       "    </tr>\n",
       "    <tr>\n",
       "      <th>LR</th>\n",
       "      <td>0.0513</td>\n",
       "      <td>0.0106</td>\n",
       "      <td>0.9884</td>\n",
       "      <td>570686.0</td>\n",
       "      <td>1022.0</td>\n",
       "      <td>13.0</td>\n",
       "      <td>6696.0</td>\n",
       "    </tr>\n",
       "    <tr>\n",
       "      <th>Prior</th>\n",
       "      <td>0.0709</td>\n",
       "      <td>0.0132</td>\n",
       "      <td>0.9867</td>\n",
       "      <td>570699.0</td>\n",
       "      <td>0.0</td>\n",
       "      <td>0.0</td>\n",
       "      <td>7718.0</td>\n",
       "    </tr>\n",
       "  </tbody>\n",
       "</table>\n",
       "</div>"
      ],
      "text/plain": [
       "       binary_crossentropy  brier_score  accuracy        TN      TP     FP  \\\n",
       "RF                  0.0346       0.0087    0.9895  570438.0  1928.0  261.0   \n",
       "SVC                 0.0416       0.0105    0.9883  570466.0  1204.0  233.0   \n",
       "LR                  0.0513       0.0106    0.9884  570686.0  1022.0   13.0   \n",
       "Prior               0.0709       0.0132    0.9867  570699.0     0.0    0.0   \n",
       "\n",
       "           FN  \n",
       "RF     5790.0  \n",
       "SVC    6514.0  \n",
       "LR     6696.0  \n",
       "Prior  7718.0  "
      ]
     },
     "metadata": {},
     "execution_count": 33
    }
   ],
   "metadata": {}
  },
  {
   "cell_type": "code",
   "execution_count": null,
   "source": [],
   "outputs": [],
   "metadata": {}
  }
 ],
 "metadata": {
  "orig_nbformat": 4,
  "language_info": {
   "name": "python",
   "version": "3.8.10",
   "mimetype": "text/x-python",
   "codemirror_mode": {
    "name": "ipython",
    "version": 3
   },
   "pygments_lexer": "ipython3",
   "nbconvert_exporter": "python",
   "file_extension": ".py"
  },
  "kernelspec": {
   "name": "python3",
   "display_name": "Python 3.8.10 64-bit"
  },
  "interpreter": {
   "hash": "31f2aee4e71d21fbe5cf8b01ff0e069b9275f58929596ceb00d14d90e3e16cd6"
  }
 },
 "nbformat": 4,
 "nbformat_minor": 2
}