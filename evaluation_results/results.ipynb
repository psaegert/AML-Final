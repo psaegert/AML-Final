{
 "cells": [
  {
   "cell_type": "code",
   "execution_count": 15,
   "source": [
    "import pickle\n",
    "import numpy as np\n",
    "import pandas as pd\n",
    "from tqdm.auto import tqdm\n",
    "from sklearn.metrics import log_loss, brier_score_loss, accuracy_score, confusion_matrix\n",
    "\n",
    "import matplotlib.pyplot as plt"
   ],
   "outputs": [],
   "metadata": {}
  },
  {
   "cell_type": "code",
   "execution_count": 16,
   "source": [
    "model_name_list = ['Prior', 'LR', 'SVC','RF']#, 'INN']"
   ],
   "outputs": [],
   "metadata": {}
  },
  {
   "cell_type": "code",
   "execution_count": 17,
   "source": [
    "round_precision = 4\n",
    "# dtype_dict = {'binary_crossentropy': float, 'brier_score': float, 'accuracy': float, 'TN': int, 'TP': int, 'FN': int, 'FP': int}"
   ],
   "outputs": [],
   "metadata": {}
  },
  {
   "cell_type": "code",
   "execution_count": 18,
   "source": [
    "with open('../data/data_test.pt', 'rb') as file:\n",
    "    X_test, y_test = pickle.load(file)\n",
    "\n",
    "print(f'{X_test.shape = }')\n",
    "print(f'{y_test.shape = }')"
   ],
   "outputs": [
    {
     "output_type": "stream",
     "name": "stdout",
     "text": [
      "X_test.shape = (622230, 33)\n",
      "y_test.shape = (622230, 2)\n"
     ]
    }
   ],
   "metadata": {}
  },
  {
   "cell_type": "code",
   "execution_count": 19,
   "source": [
    "y_pred = {}\n",
    "for model_name in model_name_list:\n",
    "    with open(f'./predictions/{model_name}.pt', 'rb') as file:\n",
    "        y_pred[model_name] = pickle.load(file)"
   ],
   "outputs": [],
   "metadata": {}
  },
  {
   "cell_type": "code",
   "execution_count": 20,
   "source": [
    "results = {}\n",
    "\n",
    "for i, y_label in enumerate(['hosp', 'death']):\n",
    "    results[y_label] = {}\n",
    "    \n",
    "    for model_name in model_name_list:\n",
    "        results[y_label][model_name] = {}\n",
    "\n",
    "        # average performance over 5 runs\n",
    "        if model_name in ['INN']:\n",
    "            log_loss_list = [log_loss(y_test[:, i], y_pred[model_name][y_label][j][:, 1]) for j in range(5)]\n",
    "            results[y_label][model_name]['binary_crossentropy'] = f'{np.mean(log_loss_list).round(round_precision)} ± {np.std(log_loss_list).round(round_precision)}'\n",
    "            results[y_label][model_name]['binary_crossentropy_sortable'] = np.mean(log_loss_list).round(round_precision)\n",
    "\n",
    "            brier_score_list = [brier_score_loss(y_test[:, i], y_pred[model_name][y_label][j][:, 1]) for j in range(5)]\n",
    "            results[y_label][model_name]['brier_score'] = f'{np.mean(brier_score_list).round(round_precision)} ± {np.std(brier_score_list).round(round_precision)}'\n",
    "\n",
    "            accuracy_list = [accuracy_score(y_test[:, i], y_pred[model_name][y_label][j][:, 1].round()) for j in range(5)]\n",
    "            results[y_label][model_name]['accuracy'] = f'{np.mean(accuracy_list).round(round_precision)} ± {np.std(accuracy_list).round(round_precision)}'\n",
    "\n",
    "            CMs = [confusion_matrix(y_test[:, i], (y_pred[model_name][y_label][j][:, 1] > 0.5).astype(int)) for j in range(5)]\n",
    "            results[y_label][model_name]['TN'] = f'{np.mean([CMs[j][0, 0] for j in range(5)]).round(round_precision)} ± {np.std([CMs[j][0, 0] for j in range(5)]).round(round_precision)}'\n",
    "            results[y_label][model_name]['TP'] = f'{np.mean([CMs[j][1, 1] for j in range(5)]).round(round_precision)} ± {np.std([CMs[j][1, 1] for j in range(5)]).round(round_precision)}'\n",
    "            results[y_label][model_name]['FP'] = f'{np.mean([CMs[j][0, 1] for j in range(5)]).round(round_precision)} ± {np.std([CMs[j][0, 1] for j in range(5)]).round(round_precision)}'\n",
    "            results[y_label][model_name]['FN'] = f'{np.mean([CMs[j][1, 0] for j in range(5)]).round(round_precision)} ± {np.std([CMs[j][1, 0] for j in range(5)]).round(round_precision)}'\n",
    "        # training is deterministic, no need to average\n",
    "        else:\n",
    "            results[y_label][model_name]['binary_crossentropy'] = log_loss(y_test[:, i], y_pred[model_name][y_label][:, 1]).round(round_precision)\n",
    "            results[y_label][model_name]['binary_crossentropy_sortable'] = log_loss(y_test[:, i], y_pred[model_name][y_label][:, 1]).round(round_precision)\n",
    "            results[y_label][model_name]['brier_score'] = brier_score_loss(y_test[:, i], y_pred[model_name][y_label][:, 1]).round(round_precision)\n",
    "            results[y_label][model_name]['accuracy'] = accuracy_score(y_test[:, i], y_pred[model_name][y_label][:, 1].round()).round(round_precision)\n",
    "\n",
    "            CM = confusion_matrix(y_test[:, i], (y_pred[model_name][y_label][:, 1] > 0.5).astype(int))\n",
    "            results[y_label][model_name]['TN'] = CM[0, 0]\n",
    "            results[y_label][model_name]['TP'] = CM[1, 1]\n",
    "            results[y_label][model_name]['FP'] = CM[0, 1]\n",
    "            results[y_label][model_name]['FN'] = CM[1, 0]"
   ],
   "outputs": [],
   "metadata": {}
  },
  {
   "cell_type": "code",
   "execution_count": 23,
   "source": [
    "for y_label in ['hosp', 'death']:\n",
    "    results[y_label]['Prior']['CPU'] = '-'\n",
    "    results[y_label]['SVC']['CPU'] = 'i7-6700k(4C/8T)@4.5GHz'\n",
    "    results[y_label]['RF']['CPU'] = 'i7-6700k(4C/8T)@4.5GHz'\n",
    "    results[y_label]['LR']['CPU'] = 'i7-6700k(4C/8T)@4.5GHz'\n",
    "    # results[y_label]['INN']['CPU'] = 'i7-6700k(4C/8T)@4.5GHz'\n",
    "\n",
    "    results[y_label]['Prior']['GPU'] = '-'\n",
    "    results[y_label]['SVC']['GPU'] = '-'\n",
    "    results[y_label]['RF']['GPU'] = '-'\n",
    "    results[y_label]['LR']['GPU'] = '-'\n",
    "    # results[y_label]['INN']['GPU'] = 'GTX980Ti@1353/7010MHz'\n",
    "\n",
    "    results[y_label]['Prior']['Time (HH:mm)'] = '-'\n",
    "    results[y_label]['SVC']['Time (HH:mm)'] = '00:45'\n",
    "    results[y_label]['RF']['Time (HH:mm)'] = '02:00'\n",
    "    results[y_label]['LR']['Time (HH:mm)'] = '03:00'\n",
    "    # results[y_label]['INN']['Time (HH:mm)'] = '26:00'"
   ],
   "outputs": [],
   "metadata": {}
  },
  {
   "cell_type": "markdown",
   "source": [
    "# Results"
   ],
   "metadata": {}
  },
  {
   "cell_type": "markdown",
   "source": [
    "## Hospitalization"
   ],
   "metadata": {}
  },
  {
   "cell_type": "code",
   "execution_count": 24,
   "source": [
    "pd.DataFrame(results['hosp']).T.sort_values('binary_crossentropy_sortable')"
   ],
   "outputs": [
    {
     "output_type": "execute_result",
     "data": {
      "text/html": [
       "<div>\n",
       "<style scoped>\n",
       "    .dataframe tbody tr th:only-of-type {\n",
       "        vertical-align: middle;\n",
       "    }\n",
       "\n",
       "    .dataframe tbody tr th {\n",
       "        vertical-align: top;\n",
       "    }\n",
       "\n",
       "    .dataframe thead th {\n",
       "        text-align: right;\n",
       "    }\n",
       "</style>\n",
       "<table border=\"1\" class=\"dataframe\">\n",
       "  <thead>\n",
       "    <tr style=\"text-align: right;\">\n",
       "      <th></th>\n",
       "      <th>binary_crossentropy</th>\n",
       "      <th>binary_crossentropy_sortable</th>\n",
       "      <th>brier_score</th>\n",
       "      <th>accuracy</th>\n",
       "      <th>TN</th>\n",
       "      <th>TP</th>\n",
       "      <th>FP</th>\n",
       "      <th>FN</th>\n",
       "      <th>CPU</th>\n",
       "      <th>GPU</th>\n",
       "      <th>Time (HH:mm)</th>\n",
       "    </tr>\n",
       "  </thead>\n",
       "  <tbody>\n",
       "    <tr>\n",
       "      <th>SVC</th>\n",
       "      <td>0.2083</td>\n",
       "      <td>0.2083</td>\n",
       "      <td>0.0559</td>\n",
       "      <td>0.9339</td>\n",
       "      <td>579242</td>\n",
       "      <td>1887</td>\n",
       "      <td>405</td>\n",
       "      <td>40696</td>\n",
       "      <td>i7-6700k(4C/8T)@4.5GHz</td>\n",
       "      <td>-</td>\n",
       "      <td>00:45</td>\n",
       "    </tr>\n",
       "    <tr>\n",
       "      <th>Prior</th>\n",
       "      <td>0.2496</td>\n",
       "      <td>0.2496</td>\n",
       "      <td>0.0638</td>\n",
       "      <td>0.9316</td>\n",
       "      <td>579647</td>\n",
       "      <td>0</td>\n",
       "      <td>0</td>\n",
       "      <td>42583</td>\n",
       "      <td>-</td>\n",
       "      <td>-</td>\n",
       "      <td>-</td>\n",
       "    </tr>\n",
       "    <tr>\n",
       "      <th>RF</th>\n",
       "      <td>0.3564</td>\n",
       "      <td>0.3564</td>\n",
       "      <td>0.053</td>\n",
       "      <td>0.9369</td>\n",
       "      <td>576393</td>\n",
       "      <td>6577</td>\n",
       "      <td>3254</td>\n",
       "      <td>36006</td>\n",
       "      <td>i7-6700k(4C/8T)@4.5GHz</td>\n",
       "      <td>-</td>\n",
       "      <td>02:00</td>\n",
       "    </tr>\n",
       "    <tr>\n",
       "      <th>LR</th>\n",
       "      <td>0.3994</td>\n",
       "      <td>0.3994</td>\n",
       "      <td>0.1071</td>\n",
       "      <td>0.9257</td>\n",
       "      <td>568582</td>\n",
       "      <td>7438</td>\n",
       "      <td>11065</td>\n",
       "      <td>35145</td>\n",
       "      <td>i7-6700k(4C/8T)@4.5GHz</td>\n",
       "      <td>-</td>\n",
       "      <td>03:00</td>\n",
       "    </tr>\n",
       "  </tbody>\n",
       "</table>\n",
       "</div>"
      ],
      "text/plain": [
       "      binary_crossentropy binary_crossentropy_sortable brier_score accuracy  \\\n",
       "SVC                0.2083                       0.2083      0.0559   0.9339   \n",
       "Prior              0.2496                       0.2496      0.0638   0.9316   \n",
       "RF                 0.3564                       0.3564       0.053   0.9369   \n",
       "LR                 0.3994                       0.3994      0.1071   0.9257   \n",
       "\n",
       "           TN    TP     FP     FN                     CPU GPU Time (HH:mm)  \n",
       "SVC    579242  1887    405  40696  i7-6700k(4C/8T)@4.5GHz   -        00:45  \n",
       "Prior  579647     0      0  42583                       -   -            -  \n",
       "RF     576393  6577   3254  36006  i7-6700k(4C/8T)@4.5GHz   -        02:00  \n",
       "LR     568582  7438  11065  35145  i7-6700k(4C/8T)@4.5GHz   -        03:00  "
      ]
     },
     "metadata": {},
     "execution_count": 24
    }
   ],
   "metadata": {}
  },
  {
   "cell_type": "markdown",
   "source": [
    "## Fatality"
   ],
   "metadata": {}
  },
  {
   "cell_type": "code",
   "execution_count": 25,
   "source": [
    "pd.DataFrame(results['death']).T.sort_values('binary_crossentropy_sortable')"
   ],
   "outputs": [
    {
     "output_type": "execute_result",
     "data": {
      "text/html": [
       "<div>\n",
       "<style scoped>\n",
       "    .dataframe tbody tr th:only-of-type {\n",
       "        vertical-align: middle;\n",
       "    }\n",
       "\n",
       "    .dataframe tbody tr th {\n",
       "        vertical-align: top;\n",
       "    }\n",
       "\n",
       "    .dataframe thead th {\n",
       "        text-align: right;\n",
       "    }\n",
       "</style>\n",
       "<table border=\"1\" class=\"dataframe\">\n",
       "  <thead>\n",
       "    <tr style=\"text-align: right;\">\n",
       "      <th></th>\n",
       "      <th>binary_crossentropy</th>\n",
       "      <th>binary_crossentropy_sortable</th>\n",
       "      <th>brier_score</th>\n",
       "      <th>accuracy</th>\n",
       "      <th>TN</th>\n",
       "      <th>TP</th>\n",
       "      <th>FP</th>\n",
       "      <th>FN</th>\n",
       "      <th>CPU</th>\n",
       "      <th>GPU</th>\n",
       "      <th>Time (HH:mm)</th>\n",
       "    </tr>\n",
       "  </thead>\n",
       "  <tbody>\n",
       "    <tr>\n",
       "      <th>RF</th>\n",
       "      <td>0.0348</td>\n",
       "      <td>0.0348</td>\n",
       "      <td>0.0086</td>\n",
       "      <td>0.9896</td>\n",
       "      <td>613692</td>\n",
       "      <td>2090</td>\n",
       "      <td>286</td>\n",
       "      <td>6162</td>\n",
       "      <td>i7-6700k(4C/8T)@4.5GHz</td>\n",
       "      <td>-</td>\n",
       "      <td>02:00</td>\n",
       "    </tr>\n",
       "    <tr>\n",
       "      <th>SVC</th>\n",
       "      <td>0.0411</td>\n",
       "      <td>0.0411</td>\n",
       "      <td>0.0104</td>\n",
       "      <td>0.9885</td>\n",
       "      <td>613726</td>\n",
       "      <td>1322</td>\n",
       "      <td>252</td>\n",
       "      <td>6930</td>\n",
       "      <td>i7-6700k(4C/8T)@4.5GHz</td>\n",
       "      <td>-</td>\n",
       "      <td>00:45</td>\n",
       "    </tr>\n",
       "    <tr>\n",
       "      <th>LR</th>\n",
       "      <td>0.0518</td>\n",
       "      <td>0.0518</td>\n",
       "      <td>0.0105</td>\n",
       "      <td>0.9886</td>\n",
       "      <td>613963</td>\n",
       "      <td>1145</td>\n",
       "      <td>15</td>\n",
       "      <td>7107</td>\n",
       "      <td>i7-6700k(4C/8T)@4.5GHz</td>\n",
       "      <td>-</td>\n",
       "      <td>03:00</td>\n",
       "    </tr>\n",
       "    <tr>\n",
       "      <th>Prior</th>\n",
       "      <td>0.0705</td>\n",
       "      <td>0.0705</td>\n",
       "      <td>0.0131</td>\n",
       "      <td>0.9867</td>\n",
       "      <td>613978</td>\n",
       "      <td>0</td>\n",
       "      <td>0</td>\n",
       "      <td>8252</td>\n",
       "      <td>-</td>\n",
       "      <td>-</td>\n",
       "      <td>-</td>\n",
       "    </tr>\n",
       "  </tbody>\n",
       "</table>\n",
       "</div>"
      ],
      "text/plain": [
       "      binary_crossentropy binary_crossentropy_sortable brier_score accuracy  \\\n",
       "RF                 0.0348                       0.0348      0.0086   0.9896   \n",
       "SVC                0.0411                       0.0411      0.0104   0.9885   \n",
       "LR                 0.0518                       0.0518      0.0105   0.9886   \n",
       "Prior              0.0705                       0.0705      0.0131   0.9867   \n",
       "\n",
       "           TN    TP   FP    FN                     CPU GPU Time (HH:mm)  \n",
       "RF     613692  2090  286  6162  i7-6700k(4C/8T)@4.5GHz   -        02:00  \n",
       "SVC    613726  1322  252  6930  i7-6700k(4C/8T)@4.5GHz   -        00:45  \n",
       "LR     613963  1145   15  7107  i7-6700k(4C/8T)@4.5GHz   -        03:00  \n",
       "Prior  613978     0    0  8252                       -   -            -  "
      ]
     },
     "metadata": {},
     "execution_count": 25
    }
   ],
   "metadata": {}
  }
 ],
 "metadata": {
  "orig_nbformat": 4,
  "language_info": {
   "name": "python",
   "version": "3.8.10",
   "mimetype": "text/x-python",
   "codemirror_mode": {
    "name": "ipython",
    "version": 3
   },
   "pygments_lexer": "ipython3",
   "nbconvert_exporter": "python",
   "file_extension": ".py"
  },
  "kernelspec": {
   "name": "python3",
   "display_name": "Python 3.8.10 64-bit"
  },
  "interpreter": {
   "hash": "31f2aee4e71d21fbe5cf8b01ff0e069b9275f58929596ceb00d14d90e3e16cd6"
  }
 },
 "nbformat": 4,
 "nbformat_minor": 2
}