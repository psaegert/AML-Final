{
 "cells": [
  {
   "cell_type": "code",
   "execution_count": 1,
   "source": [
    "import pickle\n",
    "import numpy as np\n",
    "import pandas as pd\n",
    "from tqdm.auto import tqdm\n",
    "from sklearn.metrics import log_loss, brier_score_loss, accuracy_score, confusion_matrix\n",
    "\n",
    "import matplotlib.pyplot as plt"
   ],
   "outputs": [],
   "metadata": {}
  },
  {
   "cell_type": "code",
   "execution_count": 2,
   "source": [
    "model_name_list = ['LR', 'RF', 'SVC', 'Prior']"
   ],
   "outputs": [],
   "metadata": {}
  },
  {
   "cell_type": "code",
   "execution_count": 3,
   "source": [
    "round_precision = 4\n",
    "dtype_dict = {'binary_crossentropy': float, 'brier_score': float, 'accuracy': float, 'TN': int, 'TP': int, 'FN': int, 'FP': int}"
   ],
   "outputs": [],
   "metadata": {}
  },
  {
   "cell_type": "code",
   "execution_count": 4,
   "source": [
    "with open('../data/data_test.pt', 'rb') as file:\n",
    "    X_test, y_test = pickle.load(file)\n",
    "\n",
    "print(f'{X_test.shape = }')\n",
    "print(f'{y_test.shape = }')"
   ],
   "outputs": [
    {
     "output_type": "stream",
     "name": "stdout",
     "text": [
      "X_test.shape = (630290, 28)\n",
      "y_test.shape = (630290, 2)\n"
     ]
    }
   ],
   "metadata": {}
  },
  {
   "cell_type": "code",
   "execution_count": 5,
   "source": [
    "y_pred = {}\n",
    "for model_name in model_name_list:\n",
    "    with open(f'./models/{model_name}.pt', 'rb') as file:\n",
    "        y_pred[model_name] = pickle.load(file)"
   ],
   "outputs": [],
   "metadata": {}
  },
  {
   "cell_type": "code",
   "execution_count": 10,
   "source": [
    "results = {}\n",
    "\n",
    "for i, y_label in enumerate(['hosp', 'death']):\n",
    "    results[y_label] = {}\n",
    "    \n",
    "    for model_name in model_name_list:\n",
    "        results[y_label][model_name] = {}\n",
    "\n",
    "        results[y_label][model_name]['binary_crossentropy'] = log_loss(y_test[:, i], y_pred[model_name][y_label][:, 1]).round(round_precision)\n",
    "        results[y_label][model_name]['brier_score'] = brier_score_loss(y_test[:, i], y_pred[model_name][y_label][:, 1]).round(round_precision)\n",
    "        results[y_label][model_name]['accuracy'] = accuracy_score(y_test[:, i], y_pred[model_name][y_label][:, 1].round()).round(round_precision)\n",
    "\n",
    "        CM = confusion_matrix(y_test[:, i], (y_pred[model_name][y_label][:, 1] > 0.5).astype(int))\n",
    "        results[y_label][model_name]['TN'] = CM[0, 0]\n",
    "        results[y_label][model_name]['TP'] = CM[1, 1]\n",
    "        results[y_label][model_name]['FP'] = CM[0, 1]\n",
    "        results[y_label][model_name]['FN'] = CM[1, 0]"
   ],
   "outputs": [],
   "metadata": {}
  },
  {
   "cell_type": "markdown",
   "source": [
    "# Results"
   ],
   "metadata": {}
  },
  {
   "cell_type": "markdown",
   "source": [
    "## Hospitalization"
   ],
   "metadata": {}
  },
  {
   "cell_type": "code",
   "execution_count": 11,
   "source": [
    "pd.DataFrame(results['hosp']).T.astype(dtype_dict).sort_values('binary_crossentropy')"
   ],
   "outputs": [
    {
     "output_type": "execute_result",
     "data": {
      "text/html": [
       "<div>\n",
       "<style scoped>\n",
       "    .dataframe tbody tr th:only-of-type {\n",
       "        vertical-align: middle;\n",
       "    }\n",
       "\n",
       "    .dataframe tbody tr th {\n",
       "        vertical-align: top;\n",
       "    }\n",
       "\n",
       "    .dataframe thead th {\n",
       "        text-align: right;\n",
       "    }\n",
       "</style>\n",
       "<table border=\"1\" class=\"dataframe\">\n",
       "  <thead>\n",
       "    <tr style=\"text-align: right;\">\n",
       "      <th></th>\n",
       "      <th>binary_crossentropy</th>\n",
       "      <th>brier_score</th>\n",
       "      <th>accuracy</th>\n",
       "      <th>TN</th>\n",
       "      <th>TP</th>\n",
       "      <th>FP</th>\n",
       "      <th>FN</th>\n",
       "    </tr>\n",
       "  </thead>\n",
       "  <tbody>\n",
       "    <tr>\n",
       "      <th>SVC</th>\n",
       "      <td>0.2133</td>\n",
       "      <td>0.0576</td>\n",
       "      <td>0.9313</td>\n",
       "      <td>585207</td>\n",
       "      <td>1778</td>\n",
       "      <td>415</td>\n",
       "      <td>42890</td>\n",
       "    </tr>\n",
       "    <tr>\n",
       "      <th>Prior</th>\n",
       "      <td>0.2559</td>\n",
       "      <td>0.0658</td>\n",
       "      <td>0.9291</td>\n",
       "      <td>585622</td>\n",
       "      <td>0</td>\n",
       "      <td>0</td>\n",
       "      <td>44668</td>\n",
       "    </tr>\n",
       "    <tr>\n",
       "      <th>RF</th>\n",
       "      <td>0.3636</td>\n",
       "      <td>0.0547</td>\n",
       "      <td>0.9343</td>\n",
       "      <td>581891</td>\n",
       "      <td>6960</td>\n",
       "      <td>3731</td>\n",
       "      <td>37708</td>\n",
       "    </tr>\n",
       "    <tr>\n",
       "      <th>LR</th>\n",
       "      <td>0.4043</td>\n",
       "      <td>0.1098</td>\n",
       "      <td>0.9180</td>\n",
       "      <td>568669</td>\n",
       "      <td>9957</td>\n",
       "      <td>16953</td>\n",
       "      <td>34711</td>\n",
       "    </tr>\n",
       "  </tbody>\n",
       "</table>\n",
       "</div>"
      ],
      "text/plain": [
       "       binary_crossentropy  brier_score  accuracy      TN    TP     FP     FN\n",
       "SVC                 0.2133       0.0576    0.9313  585207  1778    415  42890\n",
       "Prior               0.2559       0.0658    0.9291  585622     0      0  44668\n",
       "RF                  0.3636       0.0547    0.9343  581891  6960   3731  37708\n",
       "LR                  0.4043       0.1098    0.9180  568669  9957  16953  34711"
      ]
     },
     "metadata": {},
     "execution_count": 11
    }
   ],
   "metadata": {}
  },
  {
   "cell_type": "markdown",
   "source": [
    "## Fatality"
   ],
   "metadata": {}
  },
  {
   "cell_type": "code",
   "execution_count": 12,
   "source": [
    "pd.DataFrame(results['death']).T.astype(dtype_dict).sort_values('binary_crossentropy')"
   ],
   "outputs": [
    {
     "output_type": "execute_result",
     "data": {
      "text/html": [
       "<div>\n",
       "<style scoped>\n",
       "    .dataframe tbody tr th:only-of-type {\n",
       "        vertical-align: middle;\n",
       "    }\n",
       "\n",
       "    .dataframe tbody tr th {\n",
       "        vertical-align: top;\n",
       "    }\n",
       "\n",
       "    .dataframe thead th {\n",
       "        text-align: right;\n",
       "    }\n",
       "</style>\n",
       "<table border=\"1\" class=\"dataframe\">\n",
       "  <thead>\n",
       "    <tr style=\"text-align: right;\">\n",
       "      <th></th>\n",
       "      <th>binary_crossentropy</th>\n",
       "      <th>brier_score</th>\n",
       "      <th>accuracy</th>\n",
       "      <th>TN</th>\n",
       "      <th>TP</th>\n",
       "      <th>FP</th>\n",
       "      <th>FN</th>\n",
       "    </tr>\n",
       "  </thead>\n",
       "  <tbody>\n",
       "    <tr>\n",
       "      <th>RF</th>\n",
       "      <td>0.0352</td>\n",
       "      <td>0.0093</td>\n",
       "      <td>0.9887</td>\n",
       "      <td>621176</td>\n",
       "      <td>1985</td>\n",
       "      <td>310</td>\n",
       "      <td>6819</td>\n",
       "    </tr>\n",
       "    <tr>\n",
       "      <th>SVC</th>\n",
       "      <td>0.0435</td>\n",
       "      <td>0.0111</td>\n",
       "      <td>0.9874</td>\n",
       "      <td>621044</td>\n",
       "      <td>1291</td>\n",
       "      <td>442</td>\n",
       "      <td>7513</td>\n",
       "    </tr>\n",
       "    <tr>\n",
       "      <th>LR</th>\n",
       "      <td>0.0620</td>\n",
       "      <td>0.0116</td>\n",
       "      <td>0.9876</td>\n",
       "      <td>621466</td>\n",
       "      <td>1020</td>\n",
       "      <td>20</td>\n",
       "      <td>7784</td>\n",
       "    </tr>\n",
       "    <tr>\n",
       "      <th>Prior</th>\n",
       "      <td>0.0735</td>\n",
       "      <td>0.0138</td>\n",
       "      <td>0.9860</td>\n",
       "      <td>621486</td>\n",
       "      <td>0</td>\n",
       "      <td>0</td>\n",
       "      <td>8804</td>\n",
       "    </tr>\n",
       "  </tbody>\n",
       "</table>\n",
       "</div>"
      ],
      "text/plain": [
       "       binary_crossentropy  brier_score  accuracy      TN    TP   FP    FN\n",
       "RF                  0.0352       0.0093    0.9887  621176  1985  310  6819\n",
       "SVC                 0.0435       0.0111    0.9874  621044  1291  442  7513\n",
       "LR                  0.0620       0.0116    0.9876  621466  1020   20  7784\n",
       "Prior               0.0735       0.0138    0.9860  621486     0    0  8804"
      ]
     },
     "metadata": {},
     "execution_count": 12
    }
   ],
   "metadata": {}
  },
  {
   "cell_type": "code",
   "execution_count": null,
   "source": [],
   "outputs": [],
   "metadata": {}
  }
 ],
 "metadata": {
  "orig_nbformat": 4,
  "language_info": {
   "name": "python",
   "version": "3.8.10",
   "mimetype": "text/x-python",
   "codemirror_mode": {
    "name": "ipython",
    "version": 3
   },
   "pygments_lexer": "ipython3",
   "nbconvert_exporter": "python",
   "file_extension": ".py"
  },
  "kernelspec": {
   "name": "python3",
   "display_name": "Python 3.8.10 64-bit"
  },
  "interpreter": {
   "hash": "31f2aee4e71d21fbe5cf8b01ff0e069b9275f58929596ceb00d14d90e3e16cd6"
  }
 },
 "nbformat": 4,
 "nbformat_minor": 2
}